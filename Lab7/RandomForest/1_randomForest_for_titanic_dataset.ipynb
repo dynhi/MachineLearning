{
  "nbformat": 4,
  "nbformat_minor": 0,
  "metadata": {
    "_change_revision": 272,
    "_is_fork": false,
    "kernelspec": {
      "display_name": "Python 3",
      "language": "python",
      "name": "python3"
    },
    "language_info": {
      "codemirror_mode": {
        "name": "ipython",
        "version": 3
      },
      "file_extension": ".py",
      "mimetype": "text/x-python",
      "name": "python",
      "nbconvert_exporter": "python",
      "pygments_lexer": "ipython3",
      "version": "3.7.3"
    },
    "colab": {
      "name": "1- randomForest-for-titanic-dataset.ipynb",
      "provenance": [],
      "collapsed_sections": [],
      "include_colab_link": true
    }
  },
  "cells": [
    {
      "cell_type": "markdown",
      "metadata": {
        "id": "view-in-github",
        "colab_type": "text"
      },
      "source": [
        "<a href=\"https://colab.research.google.com/github/dynhi/MachineLearning/blob/master/Lab7/RandomForest/1_randomForest_for_titanic_dataset.ipynb\" target=\"_parent\"><img src=\"https://colab.research.google.com/assets/colab-badge.svg\" alt=\"Open In Colab\"/></a>"
      ]
    },
    {
      "cell_type": "markdown",
      "metadata": {
        "_cell_guid": "09d128bb-4feb-3438-c125-869839bb0c16",
        "id": "JlHrighEZ8WX",
        "colab_type": "text"
      },
      "source": [
        "# Random Forest in Python"
      ]
    },
    {
      "cell_type": "code",
      "metadata": {
        "id": "lzAXfqIQJl8c",
        "colab_type": "code",
        "outputId": "b59edd72-5034-4e22-db21-b96422addc57",
        "colab": {
          "base_uri": "https://localhost:8080/",
          "height": 35
        }
      },
      "source": [
        "from google.colab import drive\n",
        "drive.mount('/content/drive')"
      ],
      "execution_count": 2,
      "outputs": [
        {
          "output_type": "stream",
          "text": [
            "Drive already mounted at /content/drive; to attempt to forcibly remount, call drive.mount(\"/content/drive\", force_remount=True).\n"
          ],
          "name": "stdout"
        }
      ]
    },
    {
      "cell_type": "markdown",
      "metadata": {
        "id": "5nDqRmjqZ8WZ",
        "colab_type": "text"
      },
      "source": [
        "\n",
        "\n",
        "https://www.kaggle.com/c/titanic/data\n",
        "\n",
        "\n",
        "- Survived: Survived (1) or died (0)\n",
        "- Pclass: Passenger’s class\n",
        "- Name: Passenger’s name\n",
        "- Sex: Passenger’s sex\n",
        "- Age: Passenger’s age\n",
        "- SibSp: Number of siblings/spouses aboard\n",
        "- Parch: Number of parents/children aboard\n",
        "- Ticket: Ticket number\n",
        "- Fare: Fare\n",
        "- Cabin: Cabin\n",
        "- Embarked: Port of embarkation (C = Cherbourg, Q = Queenstown, S = Southampton)\n",
        "\n"
      ]
    },
    {
      "cell_type": "code",
      "metadata": {
        "_cell_guid": "9ae4a31b-44ce-72b7-375b-1376bcc81142",
        "id": "HiWjA79kZ8Wa",
        "colab_type": "code",
        "outputId": "0e39b403-d92e-4e9b-fb70-57ab7d9809a7",
        "colab": {
          "base_uri": "https://localhost:8080/",
          "height": 72
        }
      },
      "source": [
        "import os\n",
        "import pandas as pd\n",
        "import numpy as np\n",
        "import seaborn as sns\n",
        "import matplotlib.pyplot as plt\n",
        "%matplotlib inline"
      ],
      "execution_count": 3,
      "outputs": [
        {
          "output_type": "stream",
          "text": [
            "/usr/local/lib/python3.6/dist-packages/statsmodels/tools/_testing.py:19: FutureWarning: pandas.util.testing is deprecated. Use the functions in the public API at pandas.testing instead.\n",
            "  import pandas.util.testing as tm\n"
          ],
          "name": "stderr"
        }
      ]
    },
    {
      "cell_type": "code",
      "metadata": {
        "_cell_guid": "e117a178-539a-d880-ab8c-5306d6d671f0",
        "id": "z6i4p6hFZ8We",
        "colab_type": "code",
        "colab": {}
      },
      "source": [
        "train = pd.read_csv('/content/drive/My Drive/Intro to AI/Lab 7/3-random-forest/Titanic_train.csv')\n",
        "test = pd.read_csv('/content/drive/My Drive/Intro to AI/Lab 7/3-random-forest/Titanic_test.csv')"
      ],
      "execution_count": 0,
      "outputs": []
    },
    {
      "cell_type": "markdown",
      "metadata": {
        "id": "KM2GjJB5Z8Wh",
        "colab_type": "text"
      },
      "source": [
        "## 1) Data exploration"
      ]
    },
    {
      "cell_type": "code",
      "metadata": {
        "id": "j9PhhNltZ8Wh",
        "colab_type": "code",
        "outputId": "df4d4baa-4e32-4d8f-e148-77d03c21f1e1",
        "colab": {
          "base_uri": "https://localhost:8080/",
          "height": 202
        }
      },
      "source": [
        "train.head()"
      ],
      "execution_count": 5,
      "outputs": [
        {
          "output_type": "execute_result",
          "data": {
            "text/html": [
              "<div>\n",
              "<style scoped>\n",
              "    .dataframe tbody tr th:only-of-type {\n",
              "        vertical-align: middle;\n",
              "    }\n",
              "\n",
              "    .dataframe tbody tr th {\n",
              "        vertical-align: top;\n",
              "    }\n",
              "\n",
              "    .dataframe thead th {\n",
              "        text-align: right;\n",
              "    }\n",
              "</style>\n",
              "<table border=\"1\" class=\"dataframe\">\n",
              "  <thead>\n",
              "    <tr style=\"text-align: right;\">\n",
              "      <th></th>\n",
              "      <th>PassengerId</th>\n",
              "      <th>Survived</th>\n",
              "      <th>Pclass</th>\n",
              "      <th>Name</th>\n",
              "      <th>Sex</th>\n",
              "      <th>Age</th>\n",
              "      <th>SibSp</th>\n",
              "      <th>Parch</th>\n",
              "      <th>Ticket</th>\n",
              "      <th>Fare</th>\n",
              "      <th>Cabin</th>\n",
              "      <th>Embarked</th>\n",
              "    </tr>\n",
              "  </thead>\n",
              "  <tbody>\n",
              "    <tr>\n",
              "      <th>0</th>\n",
              "      <td>1</td>\n",
              "      <td>0</td>\n",
              "      <td>3</td>\n",
              "      <td>Braund, Mr. Owen Harris</td>\n",
              "      <td>male</td>\n",
              "      <td>22.0</td>\n",
              "      <td>1</td>\n",
              "      <td>0</td>\n",
              "      <td>A/5 21171</td>\n",
              "      <td>7.2500</td>\n",
              "      <td>NaN</td>\n",
              "      <td>S</td>\n",
              "    </tr>\n",
              "    <tr>\n",
              "      <th>1</th>\n",
              "      <td>2</td>\n",
              "      <td>1</td>\n",
              "      <td>1</td>\n",
              "      <td>Cumings, Mrs. John Bradley (Florence Briggs Th...</td>\n",
              "      <td>female</td>\n",
              "      <td>38.0</td>\n",
              "      <td>1</td>\n",
              "      <td>0</td>\n",
              "      <td>PC 17599</td>\n",
              "      <td>71.2833</td>\n",
              "      <td>C85</td>\n",
              "      <td>C</td>\n",
              "    </tr>\n",
              "    <tr>\n",
              "      <th>2</th>\n",
              "      <td>3</td>\n",
              "      <td>1</td>\n",
              "      <td>3</td>\n",
              "      <td>Heikkinen, Miss. Laina</td>\n",
              "      <td>female</td>\n",
              "      <td>26.0</td>\n",
              "      <td>0</td>\n",
              "      <td>0</td>\n",
              "      <td>STON/O2. 3101282</td>\n",
              "      <td>7.9250</td>\n",
              "      <td>NaN</td>\n",
              "      <td>S</td>\n",
              "    </tr>\n",
              "    <tr>\n",
              "      <th>3</th>\n",
              "      <td>4</td>\n",
              "      <td>1</td>\n",
              "      <td>1</td>\n",
              "      <td>Futrelle, Mrs. Jacques Heath (Lily May Peel)</td>\n",
              "      <td>female</td>\n",
              "      <td>35.0</td>\n",
              "      <td>1</td>\n",
              "      <td>0</td>\n",
              "      <td>113803</td>\n",
              "      <td>53.1000</td>\n",
              "      <td>C123</td>\n",
              "      <td>S</td>\n",
              "    </tr>\n",
              "    <tr>\n",
              "      <th>4</th>\n",
              "      <td>5</td>\n",
              "      <td>0</td>\n",
              "      <td>3</td>\n",
              "      <td>Allen, Mr. William Henry</td>\n",
              "      <td>male</td>\n",
              "      <td>35.0</td>\n",
              "      <td>0</td>\n",
              "      <td>0</td>\n",
              "      <td>373450</td>\n",
              "      <td>8.0500</td>\n",
              "      <td>NaN</td>\n",
              "      <td>S</td>\n",
              "    </tr>\n",
              "  </tbody>\n",
              "</table>\n",
              "</div>"
            ],
            "text/plain": [
              "   PassengerId  Survived  Pclass  ...     Fare Cabin  Embarked\n",
              "0            1         0       3  ...   7.2500   NaN         S\n",
              "1            2         1       1  ...  71.2833   C85         C\n",
              "2            3         1       3  ...   7.9250   NaN         S\n",
              "3            4         1       1  ...  53.1000  C123         S\n",
              "4            5         0       3  ...   8.0500   NaN         S\n",
              "\n",
              "[5 rows x 12 columns]"
            ]
          },
          "metadata": {
            "tags": []
          },
          "execution_count": 5
        }
      ]
    },
    {
      "cell_type": "code",
      "metadata": {
        "_cell_guid": "166004fb-0092-7fb9-f890-1b764a7f6da9",
        "scrolled": false,
        "id": "0srFGrFSZ8Wm",
        "colab_type": "code",
        "outputId": "be0c9622-0253-493e-9781-31385dc5f0d6",
        "colab": {
          "base_uri": "https://localhost:8080/",
          "height": 347
        }
      },
      "source": [
        "train.info()"
      ],
      "execution_count": 6,
      "outputs": [
        {
          "output_type": "stream",
          "text": [
            "<class 'pandas.core.frame.DataFrame'>\n",
            "RangeIndex: 891 entries, 0 to 890\n",
            "Data columns (total 12 columns):\n",
            " #   Column       Non-Null Count  Dtype  \n",
            "---  ------       --------------  -----  \n",
            " 0   PassengerId  891 non-null    int64  \n",
            " 1   Survived     891 non-null    int64  \n",
            " 2   Pclass       891 non-null    int64  \n",
            " 3   Name         891 non-null    object \n",
            " 4   Sex          891 non-null    object \n",
            " 5   Age          714 non-null    float64\n",
            " 6   SibSp        891 non-null    int64  \n",
            " 7   Parch        891 non-null    int64  \n",
            " 8   Ticket       891 non-null    object \n",
            " 9   Fare         891 non-null    float64\n",
            " 10  Cabin        204 non-null    object \n",
            " 11  Embarked     889 non-null    object \n",
            "dtypes: float64(2), int64(5), object(5)\n",
            "memory usage: 83.7+ KB\n"
          ],
          "name": "stdout"
        }
      ]
    },
    {
      "cell_type": "code",
      "metadata": {
        "scrolled": false,
        "id": "KkKxs74sZ8Wp",
        "colab_type": "code",
        "outputId": "a7306240-51e2-4853-8e1a-522ce6dcec2b",
        "colab": {
          "base_uri": "https://localhost:8080/",
          "height": 171
        }
      },
      "source": [
        "train.describe(include=['object', 'bool'])"
      ],
      "execution_count": 7,
      "outputs": [
        {
          "output_type": "execute_result",
          "data": {
            "text/html": [
              "<div>\n",
              "<style scoped>\n",
              "    .dataframe tbody tr th:only-of-type {\n",
              "        vertical-align: middle;\n",
              "    }\n",
              "\n",
              "    .dataframe tbody tr th {\n",
              "        vertical-align: top;\n",
              "    }\n",
              "\n",
              "    .dataframe thead th {\n",
              "        text-align: right;\n",
              "    }\n",
              "</style>\n",
              "<table border=\"1\" class=\"dataframe\">\n",
              "  <thead>\n",
              "    <tr style=\"text-align: right;\">\n",
              "      <th></th>\n",
              "      <th>Name</th>\n",
              "      <th>Sex</th>\n",
              "      <th>Ticket</th>\n",
              "      <th>Cabin</th>\n",
              "      <th>Embarked</th>\n",
              "    </tr>\n",
              "  </thead>\n",
              "  <tbody>\n",
              "    <tr>\n",
              "      <th>count</th>\n",
              "      <td>891</td>\n",
              "      <td>891</td>\n",
              "      <td>891</td>\n",
              "      <td>204</td>\n",
              "      <td>889</td>\n",
              "    </tr>\n",
              "    <tr>\n",
              "      <th>unique</th>\n",
              "      <td>891</td>\n",
              "      <td>2</td>\n",
              "      <td>681</td>\n",
              "      <td>147</td>\n",
              "      <td>3</td>\n",
              "    </tr>\n",
              "    <tr>\n",
              "      <th>top</th>\n",
              "      <td>Caram, Mrs. Joseph (Maria Elias)</td>\n",
              "      <td>male</td>\n",
              "      <td>347082</td>\n",
              "      <td>C23 C25 C27</td>\n",
              "      <td>S</td>\n",
              "    </tr>\n",
              "    <tr>\n",
              "      <th>freq</th>\n",
              "      <td>1</td>\n",
              "      <td>577</td>\n",
              "      <td>7</td>\n",
              "      <td>4</td>\n",
              "      <td>644</td>\n",
              "    </tr>\n",
              "  </tbody>\n",
              "</table>\n",
              "</div>"
            ],
            "text/plain": [
              "                                    Name   Sex  Ticket        Cabin Embarked\n",
              "count                                891   891     891          204      889\n",
              "unique                               891     2     681          147        3\n",
              "top     Caram, Mrs. Joseph (Maria Elias)  male  347082  C23 C25 C27        S\n",
              "freq                                   1   577       7            4      644"
            ]
          },
          "metadata": {
            "tags": []
          },
          "execution_count": 7
        }
      ]
    },
    {
      "cell_type": "markdown",
      "metadata": {
        "id": "LoNY8KtHZ8Ws",
        "colab_type": "text"
      },
      "source": [
        "## 2)  `features`"
      ]
    },
    {
      "cell_type": "markdown",
      "metadata": {
        "_cell_guid": "60222a6a-c1e9-f4ea-1755-876ee316bcd8",
        "id": "G04trFoNZ8Ws",
        "colab_type": "text"
      },
      "source": [
        "### Survived\n"
      ]
    },
    {
      "cell_type": "code",
      "metadata": {
        "_cell_guid": "9dbce66e-2848-ebf6-c09a-780434aafff7",
        "id": "VfthhjgpZ8Wt",
        "colab_type": "code",
        "outputId": "f21a15ad-ef81-4e46-ebf4-c8b26316d050",
        "colab": {
          "base_uri": "https://localhost:8080/",
          "height": 69
        }
      },
      "source": [
        "train['Survived'].value_counts(normalize=True)"
      ],
      "execution_count": 8,
      "outputs": [
        {
          "output_type": "execute_result",
          "data": {
            "text/plain": [
              "0    0.616162\n",
              "1    0.383838\n",
              "Name: Survived, dtype: float64"
            ]
          },
          "metadata": {
            "tags": []
          },
          "execution_count": 8
        }
      ]
    },
    {
      "cell_type": "code",
      "metadata": {
        "_cell_guid": "c88b648e-b372-ffd0-e723-7bfc9ee300d8",
        "id": "M-l4S2f9Z8Wy",
        "colab_type": "code",
        "outputId": "97516a2a-5cb4-4242-db85-b97eb9c7fcec",
        "colab": {
          "base_uri": "https://localhost:8080/",
          "height": 297
        }
      },
      "source": [
        "sns.countplot(train['Survived'])"
      ],
      "execution_count": 9,
      "outputs": [
        {
          "output_type": "execute_result",
          "data": {
            "text/plain": [
              "<matplotlib.axes._subplots.AxesSubplot at 0x7f1e9029d4a8>"
            ]
          },
          "metadata": {
            "tags": []
          },
          "execution_count": 9
        },
        {
          "output_type": "display_data",
          "data": {
            "image/png": "[encoded data removed]",
            "text/plain": [
              "<Figure size 432x288 with 1 Axes>"
            ]
          },
          "metadata": {
            "tags": [],
            "needs_background": "light"
          }
        }
      ]
    },
    {
      "cell_type": "markdown",
      "metadata": {
        "_cell_guid": "1b2597e6-a286-b116-04dd-aae4f8d1b5f4",
        "id": "mBDeuO2JZ8W2",
        "colab_type": "text"
      },
      "source": [
        "### Pclass\n"
      ]
    },
    {
      "cell_type": "code",
      "metadata": {
        "scrolled": false,
        "id": "B4R95wZuZ8W3",
        "colab_type": "code",
        "outputId": "b83e470c-9fbf-4e3e-8892-d015fa1858e3",
        "colab": {
          "base_uri": "https://localhost:8080/",
          "height": 202
        }
      },
      "source": [
        "train.head()"
      ],
      "execution_count": 10,
      "outputs": [
        {
          "output_type": "execute_result",
          "data": {
            "text/html": [
              "<div>\n",
              "<style scoped>\n",
              "    .dataframe tbody tr th:only-of-type {\n",
              "        vertical-align: middle;\n",
              "    }\n",
              "\n",
              "    .dataframe tbody tr th {\n",
              "        vertical-align: top;\n",
              "    }\n",
              "\n",
              "    .dataframe thead th {\n",
              "        text-align: right;\n",
              "    }\n",
              "</style>\n",
              "<table border=\"1\" class=\"dataframe\">\n",
              "  <thead>\n",
              "    <tr style=\"text-align: right;\">\n",
              "      <th></th>\n",
              "      <th>PassengerId</th>\n",
              "      <th>Survived</th>\n",
              "      <th>Pclass</th>\n",
              "      <th>Name</th>\n",
              "      <th>Sex</th>\n",
              "      <th>Age</th>\n",
              "      <th>SibSp</th>\n",
              "      <th>Parch</th>\n",
              "      <th>Ticket</th>\n",
              "      <th>Fare</th>\n",
              "      <th>Cabin</th>\n",
              "      <th>Embarked</th>\n",
              "    </tr>\n",
              "  </thead>\n",
              "  <tbody>\n",
              "    <tr>\n",
              "      <th>0</th>\n",
              "      <td>1</td>\n",
              "      <td>0</td>\n",
              "      <td>3</td>\n",
              "      <td>Braund, Mr. Owen Harris</td>\n",
              "      <td>male</td>\n",
              "      <td>22.0</td>\n",
              "      <td>1</td>\n",
              "      <td>0</td>\n",
              "      <td>A/5 21171</td>\n",
              "      <td>7.2500</td>\n",
              "      <td>NaN</td>\n",
              "      <td>S</td>\n",
              "    </tr>\n",
              "    <tr>\n",
              "      <th>1</th>\n",
              "      <td>2</td>\n",
              "      <td>1</td>\n",
              "      <td>1</td>\n",
              "      <td>Cumings, Mrs. John Bradley (Florence Briggs Th...</td>\n",
              "      <td>female</td>\n",
              "      <td>38.0</td>\n",
              "      <td>1</td>\n",
              "      <td>0</td>\n",
              "      <td>PC 17599</td>\n",
              "      <td>71.2833</td>\n",
              "      <td>C85</td>\n",
              "      <td>C</td>\n",
              "    </tr>\n",
              "    <tr>\n",
              "      <th>2</th>\n",
              "      <td>3</td>\n",
              "      <td>1</td>\n",
              "      <td>3</td>\n",
              "      <td>Heikkinen, Miss. Laina</td>\n",
              "      <td>female</td>\n",
              "      <td>26.0</td>\n",
              "      <td>0</td>\n",
              "      <td>0</td>\n",
              "      <td>STON/O2. 3101282</td>\n",
              "      <td>7.9250</td>\n",
              "      <td>NaN</td>\n",
              "      <td>S</td>\n",
              "    </tr>\n",
              "    <tr>\n",
              "      <th>3</th>\n",
              "      <td>4</td>\n",
              "      <td>1</td>\n",
              "      <td>1</td>\n",
              "      <td>Futrelle, Mrs. Jacques Heath (Lily May Peel)</td>\n",
              "      <td>female</td>\n",
              "      <td>35.0</td>\n",
              "      <td>1</td>\n",
              "      <td>0</td>\n",
              "      <td>113803</td>\n",
              "      <td>53.1000</td>\n",
              "      <td>C123</td>\n",
              "      <td>S</td>\n",
              "    </tr>\n",
              "    <tr>\n",
              "      <th>4</th>\n",
              "      <td>5</td>\n",
              "      <td>0</td>\n",
              "      <td>3</td>\n",
              "      <td>Allen, Mr. William Henry</td>\n",
              "      <td>male</td>\n",
              "      <td>35.0</td>\n",
              "      <td>0</td>\n",
              "      <td>0</td>\n",
              "      <td>373450</td>\n",
              "      <td>8.0500</td>\n",
              "      <td>NaN</td>\n",
              "      <td>S</td>\n",
              "    </tr>\n",
              "  </tbody>\n",
              "</table>\n",
              "</div>"
            ],
            "text/plain": [
              "   PassengerId  Survived  Pclass  ...     Fare Cabin  Embarked\n",
              "0            1         0       3  ...   7.2500   NaN         S\n",
              "1            2         1       1  ...  71.2833   C85         C\n",
              "2            3         1       3  ...   7.9250   NaN         S\n",
              "3            4         1       1  ...  53.1000  C123         S\n",
              "4            5         0       3  ...   8.0500   NaN         S\n",
              "\n",
              "[5 rows x 12 columns]"
            ]
          },
          "metadata": {
            "tags": []
          },
          "execution_count": 10
        }
      ]
    },
    {
      "cell_type": "code",
      "metadata": {
        "_cell_guid": "458388eb-4f35-0af2-239a-c9dd53e0d008",
        "id": "cLxBZIoQZ8W7",
        "colab_type": "code",
        "outputId": "f3e445d8-d296-4016-fde3-4e7317cbe3e3",
        "colab": {
          "base_uri": "https://localhost:8080/",
          "height": 104
        }
      },
      "source": [
        "# \n",
        "train['Survived'].groupby(train['Pclass']).mean()"
      ],
      "execution_count": 11,
      "outputs": [
        {
          "output_type": "execute_result",
          "data": {
            "text/plain": [
              "Pclass\n",
              "1    0.629630\n",
              "2    0.472826\n",
              "3    0.242363\n",
              "Name: Survived, dtype: float64"
            ]
          },
          "metadata": {
            "tags": []
          },
          "execution_count": 11
        }
      ]
    },
    {
      "cell_type": "code",
      "metadata": {
        "_cell_guid": "ac5b3dc3-902b-b282-1f90-5c1f7f832cb6",
        "id": "6fMy0UEtZ8W_",
        "colab_type": "code",
        "outputId": "fa05dcde-5bf6-4ab0-b655-45a7b20f7f2a",
        "colab": {
          "base_uri": "https://localhost:8080/",
          "height": 297
        }
      },
      "source": [
        "sns.countplot(train['Pclass'], hue=train['Survived'])"
      ],
      "execution_count": 12,
      "outputs": [
        {
          "output_type": "execute_result",
          "data": {
            "text/plain": [
              "<matplotlib.axes._subplots.AxesSubplot at 0x7f1e8f1d30f0>"
            ]
          },
          "metadata": {
            "tags": []
          },
          "execution_count": 12
        },
        {
          "output_type": "display_data",
          "data": {
            "image/png": "[encoded data removed]",
            "text/plain": [
              "<Figure size 432x288 with 1 Axes>"
            ]
          },
          "metadata": {
            "tags": [],
            "needs_background": "light"
          }
        }
      ]
    },
    {
      "cell_type": "markdown",
      "metadata": {
        "id": "t6B1W1hyZ8XE",
        "colab_type": "text"
      },
      "source": [
        "- higher Pclass, higher chance of survival"
      ]
    },
    {
      "cell_type": "code",
      "metadata": {
        "_cell_guid": "172c8639-bdfe-7cab-6ed8-f369537cf17a",
        "id": "BTDS9Ca9Z8XF",
        "colab_type": "code",
        "outputId": "a5859910-4e00-439d-962a-db41623eae10",
        "colab": {
          "base_uri": "https://localhost:8080/",
          "height": 121
        }
      },
      "source": [
        "train['Name'].head()"
      ],
      "execution_count": 13,
      "outputs": [
        {
          "output_type": "execute_result",
          "data": {
            "text/plain": [
              "0                              Braund, Mr. Owen Harris\n",
              "1    Cumings, Mrs. John Bradley (Florence Briggs Th...\n",
              "2                               Heikkinen, Miss. Laina\n",
              "3         Futrelle, Mrs. Jacques Heath (Lily May Peel)\n",
              "4                             Allen, Mr. William Henry\n",
              "Name: Name, dtype: object"
            ]
          },
          "metadata": {
            "tags": []
          },
          "execution_count": 13
        }
      ]
    },
    {
      "cell_type": "code",
      "metadata": {
        "_cell_guid": "6e6a66e6-ea43-daaf-9ef3-74d2f94e78e4",
        "scrolled": true,
        "id": "zSHLtw9hZ8XK",
        "colab_type": "code",
        "outputId": "4c0ad770-0618-462b-daf0-a9e432535f55",
        "colab": {
          "base_uri": "https://localhost:8080/",
          "height": 329
        }
      },
      "source": [
        "train['Name_Title'] = train['Name'].apply(lambda x: x.split(',')[1]).apply(lambda x: x.split()[0])\n",
        "train['Name_Title'].value_counts()"
      ],
      "execution_count": 14,
      "outputs": [
        {
          "output_type": "execute_result",
          "data": {
            "text/plain": [
              "Mr.          517\n",
              "Miss.        182\n",
              "Mrs.         125\n",
              "Master.       40\n",
              "Dr.            7\n",
              "Rev.           6\n",
              "Mlle.          2\n",
              "Col.           2\n",
              "Major.         2\n",
              "Sir.           1\n",
              "Mme.           1\n",
              "Don.           1\n",
              "the            1\n",
              "Ms.            1\n",
              "Lady.          1\n",
              "Jonkheer.      1\n",
              "Capt.          1\n",
              "Name: Name_Title, dtype: int64"
            ]
          },
          "metadata": {
            "tags": []
          },
          "execution_count": 14
        }
      ]
    },
    {
      "cell_type": "code",
      "metadata": {
        "id": "wiolomQ2Z8XO",
        "colab_type": "code",
        "outputId": "fc206bd5-43ef-46e9-d66a-8b3b586855d8",
        "colab": {
          "base_uri": "https://localhost:8080/",
          "height": 329
        }
      },
      "source": [
        "\n",
        "train['Name_Title'].value_counts(normalize = True)"
      ],
      "execution_count": 15,
      "outputs": [
        {
          "output_type": "execute_result",
          "data": {
            "text/plain": [
              "Mr.          0.580247\n",
              "Miss.        0.204265\n",
              "Mrs.         0.140292\n",
              "Master.      0.044893\n",
              "Dr.          0.007856\n",
              "Rev.         0.006734\n",
              "Mlle.        0.002245\n",
              "Col.         0.002245\n",
              "Major.       0.002245\n",
              "Sir.         0.001122\n",
              "Mme.         0.001122\n",
              "Don.         0.001122\n",
              "the          0.001122\n",
              "Ms.          0.001122\n",
              "Lady.        0.001122\n",
              "Jonkheer.    0.001122\n",
              "Capt.        0.001122\n",
              "Name: Name_Title, dtype: float64"
            ]
          },
          "metadata": {
            "tags": []
          },
          "execution_count": 15
        }
      ]
    },
    {
      "cell_type": "code",
      "metadata": {
        "_cell_guid": "28a9443f-d57b-9603-b4b2-9918aa5b9de9",
        "scrolled": false,
        "id": "-JJ_ci_zZ8XR",
        "colab_type": "code",
        "outputId": "83d8696f-effa-4664-dc14-53ab72a332f5",
        "colab": {
          "base_uri": "https://localhost:8080/",
          "height": 347
        }
      },
      "source": [
        "train['Survived'].groupby(train['Name_Title']).mean()"
      ],
      "execution_count": 16,
      "outputs": [
        {
          "output_type": "execute_result",
          "data": {
            "text/plain": [
              "Name_Title\n",
              "Capt.        0.000000\n",
              "Col.         0.500000\n",
              "Don.         0.000000\n",
              "Dr.          0.428571\n",
              "Jonkheer.    0.000000\n",
              "Lady.        1.000000\n",
              "Major.       0.500000\n",
              "Master.      0.575000\n",
              "Miss.        0.697802\n",
              "Mlle.        1.000000\n",
              "Mme.         1.000000\n",
              "Mr.          0.156673\n",
              "Mrs.         0.792000\n",
              "Ms.          1.000000\n",
              "Rev.         0.000000\n",
              "Sir.         1.000000\n",
              "the          1.000000\n",
              "Name: Survived, dtype: float64"
            ]
          },
          "metadata": {
            "tags": []
          },
          "execution_count": 16
        }
      ]
    },
    {
      "cell_type": "markdown",
      "metadata": {
        "id": "jbtKf5IMZ8XT",
        "colab_type": "text"
      },
      "source": [
        "- there is relationship between Name-Title and survival chance"
      ]
    },
    {
      "cell_type": "markdown",
      "metadata": {
        "_cell_guid": "4a672747-c56e-80a5-7033-c48eada12967",
        "id": "T6958oz-Z8XT",
        "colab_type": "text"
      },
      "source": [
        "### Sex"
      ]
    },
    {
      "cell_type": "markdown",
      "metadata": {
        "_cell_guid": "df2e2f58-17cd-2030-551f-6ab167d1734c",
        "id": "R-tK43mlZ8XU",
        "colab_type": "text"
      },
      "source": [
        "\"Women and children first\""
      ]
    },
    {
      "cell_type": "code",
      "metadata": {
        "_cell_guid": "d8ceb9b1-64e3-a7fd-1358-27f5d76a9370",
        "scrolled": true,
        "id": "FvZiMNt0Z8XU",
        "colab_type": "code",
        "outputId": "306f30fa-7abd-415a-9836-fe7f74975a53",
        "colab": {
          "base_uri": "https://localhost:8080/",
          "height": 69
        }
      },
      "source": [
        "\n",
        "train['Sex'].value_counts(normalize=True)"
      ],
      "execution_count": 17,
      "outputs": [
        {
          "output_type": "execute_result",
          "data": {
            "text/plain": [
              "male      0.647587\n",
              "female    0.352413\n",
              "Name: Sex, dtype: float64"
            ]
          },
          "metadata": {
            "tags": []
          },
          "execution_count": 17
        }
      ]
    },
    {
      "cell_type": "markdown",
      "metadata": {
        "id": "euTlhJM1Z8XW",
        "colab_type": "text"
      },
      "source": [
        "- 64.7% male, 35.2% female"
      ]
    },
    {
      "cell_type": "code",
      "metadata": {
        "_cell_guid": "0689eaf1-de8b-9f99-9f5c-e79edb34144f",
        "scrolled": true,
        "id": "5VO5iXAGZ8XX",
        "colab_type": "code",
        "outputId": "7953c74d-1be5-4f5c-d7b8-51187a28f398",
        "colab": {
          "base_uri": "https://localhost:8080/",
          "height": 87
        }
      },
      "source": [
        "train['Survived'].groupby(train['Sex']).mean()"
      ],
      "execution_count": 18,
      "outputs": [
        {
          "output_type": "execute_result",
          "data": {
            "text/plain": [
              "Sex\n",
              "female    0.742038\n",
              "male      0.188908\n",
              "Name: Survived, dtype: float64"
            ]
          },
          "metadata": {
            "tags": []
          },
          "execution_count": 18
        }
      ]
    },
    {
      "cell_type": "markdown",
      "metadata": {
        "_cell_guid": "cf819841-2844-f4b1-ea6f-28c6f264ff32",
        "id": "apw_0I_-Z8Xa",
        "colab_type": "text"
      },
      "source": [
        "### Age\n",
        "\n"
      ]
    },
    {
      "cell_type": "code",
      "metadata": {
        "id": "FQmEZqnJZ8Xa",
        "colab_type": "code",
        "outputId": "1f853924-03af-4d6a-bac5-233c64725fbc",
        "colab": {
          "base_uri": "https://localhost:8080/",
          "height": 121
        }
      },
      "source": [
        "train['Age'].head()"
      ],
      "execution_count": 19,
      "outputs": [
        {
          "output_type": "execute_result",
          "data": {
            "text/plain": [
              "0    22.0\n",
              "1    38.0\n",
              "2    26.0\n",
              "3    35.0\n",
              "4    35.0\n",
              "Name: Age, dtype: float64"
            ]
          },
          "metadata": {
            "tags": []
          },
          "execution_count": 19
        }
      ]
    },
    {
      "cell_type": "code",
      "metadata": {
        "id": "4-z8g6SCZ8Xd",
        "colab_type": "code",
        "outputId": "04957a75-a9ca-4ca9-b536-22075db27212",
        "colab": {
          "base_uri": "https://localhost:8080/",
          "height": 35
        }
      },
      "source": [
        "train['Age'].isnull().sum()"
      ],
      "execution_count": 20,
      "outputs": [
        {
          "output_type": "execute_result",
          "data": {
            "text/plain": [
              "177"
            ]
          },
          "metadata": {
            "tags": []
          },
          "execution_count": 20
        }
      ]
    },
    {
      "cell_type": "code",
      "metadata": {
        "_cell_guid": "020cb2b5-c7ba-acd1-4ef9-2892c4fa92cc",
        "scrolled": true,
        "id": "_-FfsxQfZ8Xf",
        "colab_type": "code",
        "outputId": "2477d9f9-ecca-47f9-bec5-3a94a88ecbda",
        "colab": {
          "base_uri": "https://localhost:8080/",
          "height": 87
        }
      },
      "source": [
        "train['Survived'].groupby(train['Age'].isnull()).mean()"
      ],
      "execution_count": 21,
      "outputs": [
        {
          "output_type": "execute_result",
          "data": {
            "text/plain": [
              "Age\n",
              "False    0.406162\n",
              "True     0.293785\n",
              "Name: Survived, dtype: float64"
            ]
          },
          "metadata": {
            "tags": []
          },
          "execution_count": 21
        }
      ]
    },
    {
      "cell_type": "markdown",
      "metadata": {
        "_cell_guid": "c00eb333-4e5b-579f-5245-dae66e015a52",
        "id": "2UM8Sg2zZ8Xi",
        "colab_type": "text"
      },
      "source": [
        "### SibSp  \n",
        "\n"
      ]
    },
    {
      "cell_type": "code",
      "metadata": {
        "_cell_guid": "ce8f0963-0be8-3a7f-be5e-91f30bfb6594",
        "id": "s0gvSgCxZ8Xj",
        "colab_type": "code",
        "outputId": "d34ec724-f96b-485b-92e1-b6dd66fbe960",
        "colab": {
          "base_uri": "https://localhost:8080/",
          "height": 156
        }
      },
      "source": [
        "train['SibSp'].value_counts()"
      ],
      "execution_count": 22,
      "outputs": [
        {
          "output_type": "execute_result",
          "data": {
            "text/plain": [
              "0    608\n",
              "1    209\n",
              "2     28\n",
              "4     18\n",
              "3     16\n",
              "8      7\n",
              "5      5\n",
              "Name: SibSp, dtype: int64"
            ]
          },
          "metadata": {
            "tags": []
          },
          "execution_count": 22
        }
      ]
    },
    {
      "cell_type": "code",
      "metadata": {
        "_cell_guid": "d508ae21-884e-d851-ea53-3a575fe163f2",
        "id": "mBj9iT5TZ8Xm",
        "colab_type": "code",
        "outputId": "6e483c95-bf8a-4d2e-f849-0a975867f60f",
        "colab": {
          "base_uri": "https://localhost:8080/",
          "height": 173
        }
      },
      "source": [
        "train['Survived'].groupby(train['SibSp']).mean()"
      ],
      "execution_count": 23,
      "outputs": [
        {
          "output_type": "execute_result",
          "data": {
            "text/plain": [
              "SibSp\n",
              "0    0.345395\n",
              "1    0.535885\n",
              "2    0.464286\n",
              "3    0.250000\n",
              "4    0.166667\n",
              "5    0.000000\n",
              "8    0.000000\n",
              "Name: Survived, dtype: float64"
            ]
          },
          "metadata": {
            "tags": []
          },
          "execution_count": 23
        }
      ]
    },
    {
      "cell_type": "markdown",
      "metadata": {
        "id": "tu8--dwrZ8Xp",
        "colab_type": "raw"
      },
      "source": [
        "- Survival chance of 8 `SibSp` is 0%\n",
        "- Survival chance of 1 `SibSp` is 53.5%"
      ]
    },
    {
      "cell_type": "markdown",
      "metadata": {
        "_cell_guid": "f9f32721-ec87-eb57-0657-af569e03f6ee",
        "id": "APJGTU6mZ8Xq",
        "colab_type": "text"
      },
      "source": [
        "## Parch\n",
        "\n"
      ]
    },
    {
      "cell_type": "code",
      "metadata": {
        "_cell_guid": "6ab6c4a7-4bb3-afb5-38f1-8b990d518201",
        "id": "i5ug_ktLZ8Xr",
        "colab_type": "code",
        "outputId": "665439ac-fe13-4c35-c844-8cf166f47e4b",
        "colab": {
          "base_uri": "https://localhost:8080/",
          "height": 156
        }
      },
      "source": [
        "train['Parch'].value_counts()"
      ],
      "execution_count": 24,
      "outputs": [
        {
          "output_type": "execute_result",
          "data": {
            "text/plain": [
              "0    678\n",
              "1    118\n",
              "2     80\n",
              "5      5\n",
              "3      5\n",
              "4      4\n",
              "6      1\n",
              "Name: Parch, dtype: int64"
            ]
          },
          "metadata": {
            "tags": []
          },
          "execution_count": 24
        }
      ]
    },
    {
      "cell_type": "code",
      "metadata": {
        "_cell_guid": "1aa7aded-23e8-0f22-642f-6f740c511203",
        "id": "ib9GiyMyZ8Xt",
        "colab_type": "code",
        "outputId": "3ff32cdc-5eb5-4218-e7e9-ea56df193186",
        "colab": {
          "base_uri": "https://localhost:8080/",
          "height": 173
        }
      },
      "source": [
        "train['Survived'].groupby(train['Parch']).mean()"
      ],
      "execution_count": 25,
      "outputs": [
        {
          "output_type": "execute_result",
          "data": {
            "text/plain": [
              "Parch\n",
              "0    0.343658\n",
              "1    0.550847\n",
              "2    0.500000\n",
              "3    0.600000\n",
              "4    0.000000\n",
              "5    0.200000\n",
              "6    0.000000\n",
              "Name: Survived, dtype: float64"
            ]
          },
          "metadata": {
            "tags": []
          },
          "execution_count": 25
        }
      ]
    },
    {
      "cell_type": "markdown",
      "metadata": {
        "_cell_guid": "42d3026d-960b-b6f8-1d14-9216360213a9",
        "id": "_Rh1Rtp9Z8Xw",
        "colab_type": "text"
      },
      "source": [
        "- Can combine `SibSp` and `Parch` into `FamilySize`"
      ]
    },
    {
      "cell_type": "markdown",
      "metadata": {
        "_cell_guid": "c713d10e-7b0c-069b-dd6c-81a78a8e4494",
        "id": "yoqblyhmZ8Xx",
        "colab_type": "text"
      },
      "source": [
        "### Ticket  \n",
        "\n"
      ]
    },
    {
      "cell_type": "code",
      "metadata": {
        "_cell_guid": "cff6f21f-eac4-5a31-69a8-763f2bed82f8",
        "id": "4RlMjGJuZ8Xx",
        "colab_type": "code",
        "outputId": "9f6ddd88-5e43-4364-a28c-b6c1c26dc25c",
        "colab": {
          "base_uri": "https://localhost:8080/",
          "height": 208
        }
      },
      "source": [
        "train['Ticket'].head(n=10)"
      ],
      "execution_count": 26,
      "outputs": [
        {
          "output_type": "execute_result",
          "data": {
            "text/plain": [
              "0           A/5 21171\n",
              "1            PC 17599\n",
              "2    STON/O2. 3101282\n",
              "3              113803\n",
              "4              373450\n",
              "5              330877\n",
              "6               17463\n",
              "7              349909\n",
              "8              347742\n",
              "9              237736\n",
              "Name: Ticket, dtype: object"
            ]
          },
          "metadata": {
            "tags": []
          },
          "execution_count": 26
        }
      ]
    },
    {
      "cell_type": "markdown",
      "metadata": {
        "_cell_guid": "b5bae856-93d4-ad8c-8a28-162ef1439cb3",
        "id": "_GNHNrM6Z8Xz",
        "colab_type": "text"
      },
      "source": [
        "One piece of potentially useful informatin is the number of characters in the `Ticket` column. This could be a reflection of the 'type' of ticket a given passenger had, which could somehow indicate their chances of survival."
      ]
    },
    {
      "cell_type": "code",
      "metadata": {
        "_cell_guid": "7db4391f-ce6e-772b-3198-65e27213e592",
        "id": "v1zAKT8BZ8Xz",
        "colab_type": "code",
        "colab": {}
      },
      "source": [
        "train['Ticket_Len'] = train['Ticket'].apply(lambda x: len(x))"
      ],
      "execution_count": 0,
      "outputs": []
    },
    {
      "cell_type": "code",
      "metadata": {
        "_cell_guid": "12a703ce-f20e-5ca1-6944-cc5acac43e8b",
        "id": "1bkY7pQ4Z8X1",
        "colab_type": "code",
        "outputId": "b557d3b8-91e5-4514-8057-b6b14981a367",
        "colab": {
          "base_uri": "https://localhost:8080/",
          "height": 295
        }
      },
      "source": [
        "train['Ticket_Len'].value_counts()"
      ],
      "execution_count": 28,
      "outputs": [
        {
          "output_type": "execute_result",
          "data": {
            "text/plain": [
              "6     419\n",
              "5     131\n",
              "4     101\n",
              "8      76\n",
              "10     41\n",
              "7      27\n",
              "9      26\n",
              "17     14\n",
              "16     11\n",
              "13     10\n",
              "12     10\n",
              "15      9\n",
              "11      8\n",
              "18      6\n",
              "3       2\n",
              "Name: Ticket_Len, dtype: int64"
            ]
          },
          "metadata": {
            "tags": []
          },
          "execution_count": 28
        }
      ]
    },
    {
      "cell_type": "markdown",
      "metadata": {
        "_cell_guid": "b45bcff9-5d4f-9ed4-c1c9-269f0babdf81",
        "id": "xDil799mZ8X3",
        "colab_type": "text"
      },
      "source": [
        "Another piece of information is the first letter of each ticket, which, again, might be indicative of a certain attribute of the ticketholders or their rooms."
      ]
    },
    {
      "cell_type": "code",
      "metadata": {
        "_cell_guid": "c74ea040-ca66-1e8c-de46-bb96b9d2d61d",
        "id": "PVR-ChoDZ8X3",
        "colab_type": "code",
        "colab": {}
      },
      "source": [
        "train['Ticket_Lett'] = train['Ticket'].apply(lambda x: str(x)[0])"
      ],
      "execution_count": 0,
      "outputs": []
    },
    {
      "cell_type": "code",
      "metadata": {
        "id": "tC2IJFm1Z8X7",
        "colab_type": "code",
        "outputId": "88e74db9-1dfb-4da3-d614-c5d7dd0d428e",
        "colab": {
          "base_uri": "https://localhost:8080/",
          "height": 225
        }
      },
      "source": [
        "train['Ticket_Lett']"
      ],
      "execution_count": 30,
      "outputs": [
        {
          "output_type": "execute_result",
          "data": {
            "text/plain": [
              "0      A\n",
              "1      P\n",
              "2      S\n",
              "3      1\n",
              "4      3\n",
              "      ..\n",
              "886    2\n",
              "887    1\n",
              "888    W\n",
              "889    1\n",
              "890    3\n",
              "Name: Ticket_Lett, Length: 891, dtype: object"
            ]
          },
          "metadata": {
            "tags": []
          },
          "execution_count": 30
        }
      ]
    },
    {
      "cell_type": "code",
      "metadata": {
        "_cell_guid": "9e370470-2049-19e5-6c86-003e4f8fd48f",
        "id": "B6qkkf_5Z8X9",
        "colab_type": "code",
        "outputId": "3d014457-3d9f-4868-cd04-fab5ab88c9d5",
        "colab": {
          "base_uri": "https://localhost:8080/",
          "height": 312
        }
      },
      "source": [
        "train['Ticket_Lett'].value_counts()"
      ],
      "execution_count": 31,
      "outputs": [
        {
          "output_type": "execute_result",
          "data": {
            "text/plain": [
              "3    301\n",
              "2    183\n",
              "1    146\n",
              "P     65\n",
              "S     65\n",
              "C     47\n",
              "A     29\n",
              "W     13\n",
              "4     10\n",
              "7      9\n",
              "F      7\n",
              "6      6\n",
              "L      4\n",
              "5      3\n",
              "8      2\n",
              "9      1\n",
              "Name: Ticket_Lett, dtype: int64"
            ]
          },
          "metadata": {
            "tags": []
          },
          "execution_count": 31
        }
      ]
    },
    {
      "cell_type": "code",
      "metadata": {
        "_cell_guid": "e5881afe-f799-7dc3-9b35-07392186b3c1",
        "scrolled": false,
        "id": "PLaPz5oHZ8YA",
        "colab_type": "code",
        "outputId": "3ec7371f-95ad-48ae-ac74-f31fedfb84d7",
        "colab": {
          "base_uri": "https://localhost:8080/",
          "height": 329
        }
      },
      "source": [
        "train.groupby(['Ticket_Lett'])['Survived'].mean()"
      ],
      "execution_count": 32,
      "outputs": [
        {
          "output_type": "execute_result",
          "data": {
            "text/plain": [
              "Ticket_Lett\n",
              "1    0.630137\n",
              "2    0.464481\n",
              "3    0.239203\n",
              "4    0.200000\n",
              "5    0.000000\n",
              "6    0.166667\n",
              "7    0.111111\n",
              "8    0.000000\n",
              "9    1.000000\n",
              "A    0.068966\n",
              "C    0.340426\n",
              "F    0.571429\n",
              "L    0.250000\n",
              "P    0.646154\n",
              "S    0.323077\n",
              "W    0.153846\n",
              "Name: Survived, dtype: float64"
            ]
          },
          "metadata": {
            "tags": []
          },
          "execution_count": 32
        }
      ]
    },
    {
      "cell_type": "markdown",
      "metadata": {
        "_cell_guid": "792b218a-b4c0-7a4a-2442-f375deee3581",
        "id": "ySaKOgFcZ8YD",
        "colab_type": "text"
      },
      "source": [
        "## 3) Data Analysis and Feature Selection"
      ]
    },
    {
      "cell_type": "code",
      "metadata": {
        "id": "Xv1F34eGZ8YE",
        "colab_type": "code",
        "colab": {}
      },
      "source": [
        "# Loading the data\n",
        "train = pd.read_csv('/content/drive/My Drive/Intro to AI/Lab 7/3-random-forest/Titanic_train.csv')\n",
        "test = pd.read_csv('/content/drive/My Drive/Intro to AI/Lab 7/3-random-forest/Titanic_test.csv')\n",
        "full_data = [train, test]"
      ],
      "execution_count": 0,
      "outputs": []
    },
    {
      "cell_type": "code",
      "metadata": {
        "scrolled": true,
        "id": "Q3_Noxt9Z8YG",
        "colab_type": "code",
        "outputId": "fb53e590-0fd9-48ab-962d-a93a5b19fb34",
        "colab": {
          "base_uri": "https://localhost:8080/",
          "height": 243
        }
      },
      "source": [
        "#\n",
        "pd.isnull(train).any() | pd.isnull(test).any()"
      ],
      "execution_count": 34,
      "outputs": [
        {
          "output_type": "execute_result",
          "data": {
            "text/plain": [
              "Age             True\n",
              "Cabin           True\n",
              "Embarked        True\n",
              "Fare            True\n",
              "Name           False\n",
              "Parch          False\n",
              "PassengerId    False\n",
              "Pclass         False\n",
              "Sex            False\n",
              "SibSp          False\n",
              "Survived       False\n",
              "Ticket         False\n",
              "dtype: bool"
            ]
          },
          "metadata": {
            "tags": []
          },
          "execution_count": 34
        }
      ]
    },
    {
      "cell_type": "code",
      "metadata": {
        "id": "4DPwE0duZ8YI",
        "colab_type": "code",
        "colab": {}
      },
      "source": [
        "\n",
        "# Fill \"S\" for null values in  the Embarked column\n",
        "for dataset in full_data:\n",
        "    dataset['Embarked'] = dataset['Embarked'].fillna('S')\n",
        "# Fill values for  NULLS in the Fare column\n",
        "for dataset in full_data:\n",
        "    dataset['Fare'] = dataset['Fare'].fillna(train['Fare'].median())\n"
      ],
      "execution_count": 0,
      "outputs": []
    },
    {
      "cell_type": "code",
      "metadata": {
        "id": "63ntEmrsZ8YM",
        "colab_type": "code",
        "colab": {}
      },
      "source": [
        "#missing data for \"Age\"\n",
        "for dataset in full_data:\n",
        "    age_avg = dataset['Age'].mean()\n",
        "    age_std = dataset['Age'].std()\n",
        "    age_null_count = dataset['Age'].isnull().sum()\n",
        "    age_null_random_list = np.random.randint(age_avg - age_std, age_avg + age_std, size=age_null_count)\n",
        "    # Next line has been improved to avoid warning\n",
        "    dataset.loc[np.isnan(dataset['Age']), 'Age'] = age_null_random_list\n",
        "    dataset['Age'] = dataset['Age'].astype(int)"
      ],
      "execution_count": 0,
      "outputs": []
    },
    {
      "cell_type": "code",
      "metadata": {
        "id": "ZW2W_W__Z8YP",
        "colab_type": "code",
        "outputId": "53e6dac2-4cbd-4fa8-f996-3d9090bc1bb7",
        "colab": {
          "base_uri": "https://localhost:8080/",
          "height": 243
        }
      },
      "source": [
        "pd.isnull(train).any() | pd.isnull(test).any()"
      ],
      "execution_count": 37,
      "outputs": [
        {
          "output_type": "execute_result",
          "data": {
            "text/plain": [
              "Age            False\n",
              "Cabin           True\n",
              "Embarked       False\n",
              "Fare           False\n",
              "Name           False\n",
              "Parch          False\n",
              "PassengerId    False\n",
              "Pclass         False\n",
              "Sex            False\n",
              "SibSp          False\n",
              "Survived       False\n",
              "Ticket         False\n",
              "dtype: bool"
            ]
          },
          "metadata": {
            "tags": []
          },
          "execution_count": 37
        }
      ]
    },
    {
      "cell_type": "code",
      "metadata": {
        "id": "nlQhev3IZ8YR",
        "colab_type": "code",
        "colab": {}
      },
      "source": [
        "import re"
      ],
      "execution_count": 0,
      "outputs": []
    },
    {
      "cell_type": "code",
      "metadata": {
        "id": "gNGHHKQEZ8YT",
        "colab_type": "code",
        "colab": {}
      },
      "source": [
        "# Add values for NULLS in the Age column\n",
        "for dataset in full_data:\n",
        "    age_avg = dataset['Age'].mean()\n",
        "    age_std = dataset['Age'].std()\n",
        "    age_null_count = dataset['Age'].isnull().sum()\n",
        "    age_null_random_list = np.random.randint(age_avg - age_std, age_avg + age_std, size=age_null_count)\n",
        "    # Next line has been improved to avoid warning\n",
        "    dataset.loc[np.isnan(dataset['Age']), 'Age'] = age_null_random_list\n",
        "    dataset['Age'] = dataset['Age'].astype(int)\n",
        "\n",
        "# Define function to extract titles from passenger names\n",
        "def get_title(name):\n",
        "    title_search = re.search(' ([A-Za-z]+)\\.', name)\n",
        "    # If the title exists, extract and return it.\n",
        "    if title_search:\n",
        "        return title_search.group(1)\n",
        "    return \"\"\n",
        "\n",
        "for dataset in full_data:\n",
        "    dataset['Title'] = dataset['Name'].apply(get_title)\n",
        "# Group all non-common titles into one single grouping \"Rare\"\n",
        "for dataset in full_data:\n",
        "    dataset['Title'] = dataset['Title'].replace(['Lady', 'Countess','Capt', 'Col','Don', 'Dr', 'Major', 'Rev', 'Sir', 'Jonkheer', 'Dona'], 'Rare')\n",
        "\n",
        "    dataset['Title'] = dataset['Title'].replace('Mlle', 'Miss')\n",
        "    dataset['Title'] = dataset['Title'].replace('Ms', 'Miss')\n",
        "    dataset['Title'] = dataset['Title'].replace('Mme', 'Mrs')\n",
        "\n",
        "for dataset in full_data:\n",
        "    # Mapping Sex\n",
        "    dataset['Sex'] = dataset['Sex'].map( {'female': 0, 'male': 1} ).astype(int)\n",
        "    \n",
        "    # Mapping titles\n",
        "    title_mapping = {\"Mr\": 1, \"Master\": 2, \"Mrs\": 3, \"Miss\": 4, \"Rare\": 5}\n",
        "    dataset['Title'] = dataset['Title'].map(title_mapping)\n",
        "    dataset['Title'] = dataset['Title'].fillna(0)\n",
        "\n",
        "    # Mapping Embarked\n",
        "    dataset['Embarked'] = dataset['Embarked'].map( {'S': 0, 'C': 1, 'Q': 2} ).astype(int)\n",
        "    \n",
        "    # Mapping Fare\n",
        "    dataset.loc[ dataset['Fare'] <= 7.91, 'Fare'] \t\t\t\t\t\t        = 0\n",
        "    dataset.loc[(dataset['Fare'] > 7.91) & (dataset['Fare'] <= 14.454), 'Fare'] = 1\n",
        "    dataset.loc[(dataset['Fare'] > 14.454) & (dataset['Fare'] <= 31), 'Fare']   = 2\n",
        "    dataset.loc[ dataset['Fare'] > 31, 'Fare'] \t\t\t\t\t\t\t        = 3\n",
        "    dataset['Fare'] = dataset['Fare'].astype(int)\n",
        "    \n",
        "    # Mapping Age\n",
        "    dataset.loc[ dataset['Age'] <= 16, 'Age'] \t\t\t\t\t       = 0\n",
        "    dataset.loc[(dataset['Age'] > 16) & (dataset['Age'] <= 32), 'Age'] = 1\n",
        "    dataset.loc[(dataset['Age'] > 32) & (dataset['Age'] <= 48), 'Age'] = 2\n",
        "    dataset.loc[(dataset['Age'] > 48) & (dataset['Age'] <= 64), 'Age'] = 3\n",
        "    dataset.loc[ dataset['Age'] > 64, 'Age'] ;"
      ],
      "execution_count": 0,
      "outputs": []
    },
    {
      "cell_type": "code",
      "metadata": {
        "id": "zGv3KK-xZ8YW",
        "colab_type": "code",
        "outputId": "2b938a47-c823-413b-b9bd-f71bc16f6442",
        "colab": {
          "base_uri": "https://localhost:8080/",
          "height": 202
        }
      },
      "source": [
        "train.head()"
      ],
      "execution_count": 40,
      "outputs": [
        {
          "output_type": "execute_result",
          "data": {
            "text/html": [
              "<div>\n",
              "<style scoped>\n",
              "    .dataframe tbody tr th:only-of-type {\n",
              "        vertical-align: middle;\n",
              "    }\n",
              "\n",
              "    .dataframe tbody tr th {\n",
              "        vertical-align: top;\n",
              "    }\n",
              "\n",
              "    .dataframe thead th {\n",
              "        text-align: right;\n",
              "    }\n",
              "</style>\n",
              "<table border=\"1\" class=\"dataframe\">\n",
              "  <thead>\n",
              "    <tr style=\"text-align: right;\">\n",
              "      <th></th>\n",
              "      <th>PassengerId</th>\n",
              "      <th>Survived</th>\n",
              "      <th>Pclass</th>\n",
              "      <th>Name</th>\n",
              "      <th>Sex</th>\n",
              "      <th>Age</th>\n",
              "      <th>SibSp</th>\n",
              "      <th>Parch</th>\n",
              "      <th>Ticket</th>\n",
              "      <th>Fare</th>\n",
              "      <th>Cabin</th>\n",
              "      <th>Embarked</th>\n",
              "      <th>Title</th>\n",
              "    </tr>\n",
              "  </thead>\n",
              "  <tbody>\n",
              "    <tr>\n",
              "      <th>0</th>\n",
              "      <td>1</td>\n",
              "      <td>0</td>\n",
              "      <td>3</td>\n",
              "      <td>Braund, Mr. Owen Harris</td>\n",
              "      <td>1</td>\n",
              "      <td>1</td>\n",
              "      <td>1</td>\n",
              "      <td>0</td>\n",
              "      <td>A/5 21171</td>\n",
              "      <td>0</td>\n",
              "      <td>NaN</td>\n",
              "      <td>0</td>\n",
              "      <td>1</td>\n",
              "    </tr>\n",
              "    <tr>\n",
              "      <th>1</th>\n",
              "      <td>2</td>\n",
              "      <td>1</td>\n",
              "      <td>1</td>\n",
              "      <td>Cumings, Mrs. John Bradley (Florence Briggs Th...</td>\n",
              "      <td>0</td>\n",
              "      <td>2</td>\n",
              "      <td>1</td>\n",
              "      <td>0</td>\n",
              "      <td>PC 17599</td>\n",
              "      <td>3</td>\n",
              "      <td>C85</td>\n",
              "      <td>1</td>\n",
              "      <td>3</td>\n",
              "    </tr>\n",
              "    <tr>\n",
              "      <th>2</th>\n",
              "      <td>3</td>\n",
              "      <td>1</td>\n",
              "      <td>3</td>\n",
              "      <td>Heikkinen, Miss. Laina</td>\n",
              "      <td>0</td>\n",
              "      <td>1</td>\n",
              "      <td>0</td>\n",
              "      <td>0</td>\n",
              "      <td>STON/O2. 3101282</td>\n",
              "      <td>1</td>\n",
              "      <td>NaN</td>\n",
              "      <td>0</td>\n",
              "      <td>4</td>\n",
              "    </tr>\n",
              "    <tr>\n",
              "      <th>3</th>\n",
              "      <td>4</td>\n",
              "      <td>1</td>\n",
              "      <td>1</td>\n",
              "      <td>Futrelle, Mrs. Jacques Heath (Lily May Peel)</td>\n",
              "      <td>0</td>\n",
              "      <td>2</td>\n",
              "      <td>1</td>\n",
              "      <td>0</td>\n",
              "      <td>113803</td>\n",
              "      <td>3</td>\n",
              "      <td>C123</td>\n",
              "      <td>0</td>\n",
              "      <td>3</td>\n",
              "    </tr>\n",
              "    <tr>\n",
              "      <th>4</th>\n",
              "      <td>5</td>\n",
              "      <td>0</td>\n",
              "      <td>3</td>\n",
              "      <td>Allen, Mr. William Henry</td>\n",
              "      <td>1</td>\n",
              "      <td>2</td>\n",
              "      <td>0</td>\n",
              "      <td>0</td>\n",
              "      <td>373450</td>\n",
              "      <td>1</td>\n",
              "      <td>NaN</td>\n",
              "      <td>0</td>\n",
              "      <td>1</td>\n",
              "    </tr>\n",
              "  </tbody>\n",
              "</table>\n",
              "</div>"
            ],
            "text/plain": [
              "   PassengerId  Survived  Pclass  ... Cabin  Embarked  Title\n",
              "0            1         0       3  ...   NaN         0      1\n",
              "1            2         1       1  ...   C85         1      3\n",
              "2            3         1       3  ...   NaN         0      4\n",
              "3            4         1       1  ...  C123         0      3\n",
              "4            5         0       3  ...   NaN         0      1\n",
              "\n",
              "[5 rows x 13 columns]"
            ]
          },
          "metadata": {
            "tags": []
          },
          "execution_count": 40
        }
      ]
    },
    {
      "cell_type": "markdown",
      "metadata": {
        "id": "B8LH_L0QZ8Ya",
        "colab_type": "text"
      },
      "source": [
        "### Remove insignificant features"
      ]
    },
    {
      "cell_type": "code",
      "metadata": {
        "_cell_guid": "0486bde8-a09f-93c6-832d-c5c9760e2f6e",
        "id": "Wf-yPs3cZ8Yb",
        "colab_type": "code",
        "colab": {}
      },
      "source": [
        "# Feature selection: remove variables no longer containing relevant information\n",
        "drop_elements = ['PassengerId', 'Name', 'Ticket', 'Cabin', 'SibSp']\n",
        "train = train.drop(drop_elements, axis = 1)\n",
        "test  = test.drop(drop_elements, axis = 1)"
      ],
      "execution_count": 0,
      "outputs": []
    },
    {
      "cell_type": "code",
      "metadata": {
        "scrolled": false,
        "id": "CEa5fi6wZ8Ye",
        "colab_type": "code",
        "outputId": "5733645c-a809-4551-b441-31b2fd106514",
        "colab": {
          "base_uri": "https://localhost:8080/",
          "height": 202
        }
      },
      "source": [
        "train.head()"
      ],
      "execution_count": 42,
      "outputs": [
        {
          "output_type": "execute_result",
          "data": {
            "text/html": [
              "<div>\n",
              "<style scoped>\n",
              "    .dataframe tbody tr th:only-of-type {\n",
              "        vertical-align: middle;\n",
              "    }\n",
              "\n",
              "    .dataframe tbody tr th {\n",
              "        vertical-align: top;\n",
              "    }\n",
              "\n",
              "    .dataframe thead th {\n",
              "        text-align: right;\n",
              "    }\n",
              "</style>\n",
              "<table border=\"1\" class=\"dataframe\">\n",
              "  <thead>\n",
              "    <tr style=\"text-align: right;\">\n",
              "      <th></th>\n",
              "      <th>Survived</th>\n",
              "      <th>Pclass</th>\n",
              "      <th>Sex</th>\n",
              "      <th>Age</th>\n",
              "      <th>Parch</th>\n",
              "      <th>Fare</th>\n",
              "      <th>Embarked</th>\n",
              "      <th>Title</th>\n",
              "    </tr>\n",
              "  </thead>\n",
              "  <tbody>\n",
              "    <tr>\n",
              "      <th>0</th>\n",
              "      <td>0</td>\n",
              "      <td>3</td>\n",
              "      <td>1</td>\n",
              "      <td>1</td>\n",
              "      <td>0</td>\n",
              "      <td>0</td>\n",
              "      <td>0</td>\n",
              "      <td>1</td>\n",
              "    </tr>\n",
              "    <tr>\n",
              "      <th>1</th>\n",
              "      <td>1</td>\n",
              "      <td>1</td>\n",
              "      <td>0</td>\n",
              "      <td>2</td>\n",
              "      <td>0</td>\n",
              "      <td>3</td>\n",
              "      <td>1</td>\n",
              "      <td>3</td>\n",
              "    </tr>\n",
              "    <tr>\n",
              "      <th>2</th>\n",
              "      <td>1</td>\n",
              "      <td>3</td>\n",
              "      <td>0</td>\n",
              "      <td>1</td>\n",
              "      <td>0</td>\n",
              "      <td>1</td>\n",
              "      <td>0</td>\n",
              "      <td>4</td>\n",
              "    </tr>\n",
              "    <tr>\n",
              "      <th>3</th>\n",
              "      <td>1</td>\n",
              "      <td>1</td>\n",
              "      <td>0</td>\n",
              "      <td>2</td>\n",
              "      <td>0</td>\n",
              "      <td>3</td>\n",
              "      <td>0</td>\n",
              "      <td>3</td>\n",
              "    </tr>\n",
              "    <tr>\n",
              "      <th>4</th>\n",
              "      <td>0</td>\n",
              "      <td>3</td>\n",
              "      <td>1</td>\n",
              "      <td>2</td>\n",
              "      <td>0</td>\n",
              "      <td>1</td>\n",
              "      <td>0</td>\n",
              "      <td>1</td>\n",
              "    </tr>\n",
              "  </tbody>\n",
              "</table>\n",
              "</div>"
            ],
            "text/plain": [
              "   Survived  Pclass  Sex  Age  Parch  Fare  Embarked  Title\n",
              "0         0       3    1    1      0     0         0      1\n",
              "1         1       1    0    2      0     3         1      3\n",
              "2         1       3    0    1      0     1         0      4\n",
              "3         1       1    0    2      0     3         0      3\n",
              "4         0       3    1    2      0     1         0      1"
            ]
          },
          "metadata": {
            "tags": []
          },
          "execution_count": 42
        }
      ]
    },
    {
      "cell_type": "markdown",
      "metadata": {
        "id": "WxR1XT7FZ8Yf",
        "colab_type": "text"
      },
      "source": [
        "## 3) RandomForest"
      ]
    },
    {
      "cell_type": "code",
      "metadata": {
        "id": "K7iu9q6HZ8Yg",
        "colab_type": "code",
        "outputId": "34cf6472-688f-4798-8c59-23a12277814e",
        "colab": {
          "base_uri": "https://localhost:8080/",
          "height": 202
        }
      },
      "source": [
        "train.head()"
      ],
      "execution_count": 43,
      "outputs": [
        {
          "output_type": "execute_result",
          "data": {
            "text/html": [
              "<div>\n",
              "<style scoped>\n",
              "    .dataframe tbody tr th:only-of-type {\n",
              "        vertical-align: middle;\n",
              "    }\n",
              "\n",
              "    .dataframe tbody tr th {\n",
              "        vertical-align: top;\n",
              "    }\n",
              "\n",
              "    .dataframe thead th {\n",
              "        text-align: right;\n",
              "    }\n",
              "</style>\n",
              "<table border=\"1\" class=\"dataframe\">\n",
              "  <thead>\n",
              "    <tr style=\"text-align: right;\">\n",
              "      <th></th>\n",
              "      <th>Survived</th>\n",
              "      <th>Pclass</th>\n",
              "      <th>Sex</th>\n",
              "      <th>Age</th>\n",
              "      <th>Parch</th>\n",
              "      <th>Fare</th>\n",
              "      <th>Embarked</th>\n",
              "      <th>Title</th>\n",
              "    </tr>\n",
              "  </thead>\n",
              "  <tbody>\n",
              "    <tr>\n",
              "      <th>0</th>\n",
              "      <td>0</td>\n",
              "      <td>3</td>\n",
              "      <td>1</td>\n",
              "      <td>1</td>\n",
              "      <td>0</td>\n",
              "      <td>0</td>\n",
              "      <td>0</td>\n",
              "      <td>1</td>\n",
              "    </tr>\n",
              "    <tr>\n",
              "      <th>1</th>\n",
              "      <td>1</td>\n",
              "      <td>1</td>\n",
              "      <td>0</td>\n",
              "      <td>2</td>\n",
              "      <td>0</td>\n",
              "      <td>3</td>\n",
              "      <td>1</td>\n",
              "      <td>3</td>\n",
              "    </tr>\n",
              "    <tr>\n",
              "      <th>2</th>\n",
              "      <td>1</td>\n",
              "      <td>3</td>\n",
              "      <td>0</td>\n",
              "      <td>1</td>\n",
              "      <td>0</td>\n",
              "      <td>1</td>\n",
              "      <td>0</td>\n",
              "      <td>4</td>\n",
              "    </tr>\n",
              "    <tr>\n",
              "      <th>3</th>\n",
              "      <td>1</td>\n",
              "      <td>1</td>\n",
              "      <td>0</td>\n",
              "      <td>2</td>\n",
              "      <td>0</td>\n",
              "      <td>3</td>\n",
              "      <td>0</td>\n",
              "      <td>3</td>\n",
              "    </tr>\n",
              "    <tr>\n",
              "      <th>4</th>\n",
              "      <td>0</td>\n",
              "      <td>3</td>\n",
              "      <td>1</td>\n",
              "      <td>2</td>\n",
              "      <td>0</td>\n",
              "      <td>1</td>\n",
              "      <td>0</td>\n",
              "      <td>1</td>\n",
              "    </tr>\n",
              "  </tbody>\n",
              "</table>\n",
              "</div>"
            ],
            "text/plain": [
              "   Survived  Pclass  Sex  Age  Parch  Fare  Embarked  Title\n",
              "0         0       3    1    1      0     0         0      1\n",
              "1         1       1    0    2      0     3         1      3\n",
              "2         1       3    0    1      0     1         0      4\n",
              "3         1       1    0    2      0     3         0      3\n",
              "4         0       3    1    2      0     1         0      1"
            ]
          },
          "metadata": {
            "tags": []
          },
          "execution_count": 43
        }
      ]
    },
    {
      "cell_type": "code",
      "metadata": {
        "_cell_guid": "5593980a-4145-9594-299c-f4d1a9f01970",
        "id": "V8u6EsCWZ8Yk",
        "colab_type": "code",
        "outputId": "4e0e102f-c013-4704-a324-d542841d3a82",
        "colab": {
          "base_uri": "https://localhost:8080/",
          "height": 156
        }
      },
      "source": [
        "from sklearn.ensemble import RandomForestClassifier\n",
        "\n",
        "rf = RandomForestClassifier(criterion='gini', \n",
        "                             n_estimators=700,\n",
        "                             min_samples_split=10,\n",
        "                             min_samples_leaf=1,\n",
        "                             max_features='auto',\n",
        "                             oob_score=True,\n",
        "                             random_state=1,\n",
        "                             n_jobs=-1)\n",
        "rf.fit(train.drop(['Survived'], axis=1), train['Survived'])\n"
      ],
      "execution_count": 44,
      "outputs": [
        {
          "output_type": "execute_result",
          "data": {
            "text/plain": [
              "RandomForestClassifier(bootstrap=True, ccp_alpha=0.0, class_weight=None,\n",
              "                       criterion='gini', max_depth=None, max_features='auto',\n",
              "                       max_leaf_nodes=None, max_samples=None,\n",
              "                       min_impurity_decrease=0.0, min_impurity_split=None,\n",
              "                       min_samples_leaf=1, min_samples_split=10,\n",
              "                       min_weight_fraction_leaf=0.0, n_estimators=700,\n",
              "                       n_jobs=-1, oob_score=True, random_state=1, verbose=0,\n",
              "                       warm_start=False)"
            ]
          },
          "metadata": {
            "tags": []
          },
          "execution_count": 44
        }
      ]
    },
    {
      "cell_type": "code",
      "metadata": {
        "scrolled": true,
        "id": "vCNilQuXZ8Yo",
        "colab_type": "code",
        "outputId": "2edfb40e-79e9-4c93-840a-7a088c071b09",
        "colab": {
          "base_uri": "https://localhost:8080/",
          "height": 347
        }
      },
      "source": [
        "y_pred = rf.predict(test)\n",
        "y_pred"
      ],
      "execution_count": 45,
      "outputs": [
        {
          "output_type": "execute_result",
          "data": {
            "text/plain": [
              "array([0, 0, 0, 0, 1, 0, 1, 0, 1, 0, 0, 1, 1, 0, 1, 1, 0, 0, 0, 1, 0, 1,\n",
              "       1, 0, 1, 0, 1, 0, 1, 0, 0, 0, 0, 1, 0, 0, 0, 0, 0, 0, 0, 1, 0, 1,\n",
              "       1, 0, 0, 0, 1, 0, 0, 0, 1, 1, 0, 0, 0, 0, 0, 1, 0, 0, 0, 1, 1, 1,\n",
              "       1, 0, 0, 1, 1, 0, 0, 0, 1, 0, 0, 1, 0, 1, 1, 0, 0, 0, 0, 0, 1, 0,\n",
              "       1, 1, 1, 0, 1, 0, 0, 0, 1, 0, 1, 0, 1, 0, 0, 0, 1, 0, 0, 0, 0, 0,\n",
              "       0, 1, 1, 1, 1, 0, 0, 0, 0, 1, 1, 0, 1, 0, 0, 0, 0, 1, 0, 0, 0, 0,\n",
              "       0, 0, 0, 0, 0, 0, 0, 0, 0, 1, 0, 0, 1, 0, 0, 0, 0, 0, 1, 0, 0, 1,\n",
              "       0, 0, 1, 1, 1, 1, 1, 1, 1, 0, 0, 0, 0, 0, 1, 0, 0, 0, 0, 0, 0, 1,\n",
              "       1, 0, 1, 1, 0, 0, 1, 0, 1, 0, 1, 0, 0, 0, 0, 1, 1, 0, 1, 0, 1, 1,\n",
              "       0, 0, 1, 1, 1, 1, 0, 0, 1, 0, 1, 0, 0, 0, 0, 1, 0, 0, 1, 0, 1, 0,\n",
              "       1, 0, 1, 0, 1, 1, 0, 1, 0, 0, 0, 1, 0, 0, 0, 0, 0, 0, 1, 1, 1, 1,\n",
              "       0, 0, 0, 0, 1, 0, 1, 1, 1, 0, 0, 0, 0, 0, 0, 0, 1, 0, 0, 0, 1, 1,\n",
              "       0, 0, 0, 0, 0, 0, 0, 0, 1, 1, 0, 1, 0, 0, 0, 0, 0, 1, 1, 1, 0, 0,\n",
              "       0, 0, 0, 0, 0, 1, 0, 0, 0, 0, 1, 0, 0, 0, 0, 0, 0, 0, 1, 1, 0, 1,\n",
              "       0, 0, 0, 0, 0, 1, 1, 1, 0, 0, 0, 0, 0, 0, 0, 1, 1, 0, 1, 0, 0, 0,\n",
              "       1, 0, 0, 1, 0, 0, 0, 0, 0, 1, 0, 0, 0, 1, 0, 1, 0, 1, 0, 1, 1, 0,\n",
              "       0, 0, 0, 0, 1, 0, 0, 0, 0, 1, 1, 0, 1, 0, 0, 0, 1, 0, 0, 1, 0, 0,\n",
              "       1, 1, 0, 0, 0, 0, 0, 0, 1, 0, 0, 1, 0, 0, 0, 1, 0, 1, 0, 0, 0, 1,\n",
              "       0, 1, 0, 0, 1, 0, 1, 0, 0, 0, 0, 0, 1, 1, 1, 1, 1, 0, 1, 0, 0, 1])"
            ]
          },
          "metadata": {
            "tags": []
          },
          "execution_count": 45
        }
      ]
    },
    {
      "cell_type": "code",
      "metadata": {
        "id": "XgyuBrQwZ8Yr",
        "colab_type": "code",
        "colab": {}
      },
      "source": [
        ""
      ],
      "execution_count": 0,
      "outputs": []
    },
    {
      "cell_type": "markdown",
      "metadata": {
        "id": "RdyfOVsRZ8Yy",
        "colab_type": "text"
      },
      "source": [
        "## Practice:\n",
        "\n",
        "- try to use other features.\n",
        "- divide the dataset into train and test"
      ]
    },
    {
      "cell_type": "markdown",
      "metadata": {
        "id": "WV4g3byQINrZ",
        "colab_type": "text"
      },
      "source": [
        "###Choose `PClass` for class"
      ]
    },
    {
      "cell_type": "code",
      "metadata": {
        "id": "7l7X33zNZ8Yz",
        "colab_type": "code",
        "outputId": "bb36a984-aaff-4550-bc99-60a32cacd99e",
        "colab": {
          "base_uri": "https://localhost:8080/",
          "height": 87
        }
      },
      "source": [
        "train['Pclass'].value_counts(normalize=True)"
      ],
      "execution_count": 46,
      "outputs": [
        {
          "output_type": "execute_result",
          "data": {
            "text/plain": [
              "3    0.551066\n",
              "1    0.242424\n",
              "2    0.206510\n",
              "Name: Pclass, dtype: float64"
            ]
          },
          "metadata": {
            "tags": []
          },
          "execution_count": 46
        }
      ]
    },
    {
      "cell_type": "code",
      "metadata": {
        "id": "V_9aw0btJAC3",
        "colab_type": "code",
        "outputId": "dd512e35-f1a1-4b72-b2d0-12d49b1895ed",
        "colab": {
          "base_uri": "https://localhost:8080/",
          "height": 297
        }
      },
      "source": [
        "sns.countplot(train['Pclass'])"
      ],
      "execution_count": 47,
      "outputs": [
        {
          "output_type": "execute_result",
          "data": {
            "text/plain": [
              "<matplotlib.axes._subplots.AxesSubplot at 0x7f1e8a1e1b70>"
            ]
          },
          "metadata": {
            "tags": []
          },
          "execution_count": 47
        },
        {
          "output_type": "display_data",
          "data": {
            "image/png": "[encoded data removed]",
            "text/plain": [
              "<Figure size 432x288 with 1 Axes>"
            ]
          },
          "metadata": {
            "tags": [],
            "needs_background": "light"
          }
        }
      ]
    },
    {
      "cell_type": "markdown",
      "metadata": {
        "id": "I1XPkKkIJIrp",
        "colab_type": "text"
      },
      "source": [
        "####Survived"
      ]
    },
    {
      "cell_type": "code",
      "metadata": {
        "id": "YwE1bhtCJM9-",
        "colab_type": "code",
        "outputId": "802567f6-bdf4-4662-b422-61551c3fc0ff",
        "colab": {
          "base_uri": "https://localhost:8080/",
          "height": 87
        }
      },
      "source": [
        "train['Pclass'].groupby(train['Survived']).mean()"
      ],
      "execution_count": 48,
      "outputs": [
        {
          "output_type": "execute_result",
          "data": {
            "text/plain": [
              "Survived\n",
              "0    2.531876\n",
              "1    1.950292\n",
              "Name: Pclass, dtype: float64"
            ]
          },
          "metadata": {
            "tags": []
          },
          "execution_count": 48
        }
      ]
    },
    {
      "cell_type": "code",
      "metadata": {
        "id": "ZYzHm-PdJX_A",
        "colab_type": "code",
        "outputId": "413d485e-2175-404b-f86d-8fd14020587b",
        "colab": {
          "base_uri": "https://localhost:8080/",
          "height": 297
        }
      },
      "source": [
        "sns.countplot(train['Survived'], hue=train['Pclass'])"
      ],
      "execution_count": 49,
      "outputs": [
        {
          "output_type": "execute_result",
          "data": {
            "text/plain": [
              "<matplotlib.axes._subplots.AxesSubplot at 0x7f1e891b1208>"
            ]
          },
          "metadata": {
            "tags": []
          },
          "execution_count": 49
        },
        {
          "output_type": "display_data",
          "data": {
            "image/png": "[encoded data removed]",
            "text/plain": [
              "<Figure size 432x288 with 1 Axes>"
            ]
          },
          "metadata": {
            "tags": [],
            "needs_background": "light"
          }
        }
      ]
    },
    {
      "cell_type": "markdown",
      "metadata": {
        "id": "oNbypVEbJyAD",
        "colab_type": "text"
      },
      "source": [
        "0 survive has highest Pclass 3"
      ]
    },
    {
      "cell_type": "markdown",
      "metadata": {
        "id": "BTApJF_fLKHR",
        "colab_type": "text"
      },
      "source": [
        "####Sex"
      ]
    },
    {
      "cell_type": "code",
      "metadata": {
        "id": "19wX56h2J9_1",
        "colab_type": "code",
        "outputId": "a584adc3-69d5-409d-9ebe-5ac08328c492",
        "colab": {
          "base_uri": "https://localhost:8080/",
          "height": 69
        }
      },
      "source": [
        "train['Sex'].value_counts(normalize=True)"
      ],
      "execution_count": 50,
      "outputs": [
        {
          "output_type": "execute_result",
          "data": {
            "text/plain": [
              "1    0.647587\n",
              "0    0.352413\n",
              "Name: Sex, dtype: float64"
            ]
          },
          "metadata": {
            "tags": []
          },
          "execution_count": 50
        }
      ]
    },
    {
      "cell_type": "markdown",
      "metadata": {
        "id": "bO6l6YwrK24k",
        "colab_type": "text"
      },
      "source": [
        "64.8% male and 35.2% female"
      ]
    },
    {
      "cell_type": "code",
      "metadata": {
        "id": "3eNPidpwLCwH",
        "colab_type": "code",
        "outputId": "03060270-14c7-4ba1-a9fe-b88494906116",
        "colab": {
          "base_uri": "https://localhost:8080/",
          "height": 87
        }
      },
      "source": [
        "train['Pclass'].groupby(train['Sex']).mean()"
      ],
      "execution_count": 51,
      "outputs": [
        {
          "output_type": "execute_result",
          "data": {
            "text/plain": [
              "Sex\n",
              "0    2.159236\n",
              "1    2.389948\n",
              "Name: Pclass, dtype: float64"
            ]
          },
          "metadata": {
            "tags": []
          },
          "execution_count": 51
        }
      ]
    },
    {
      "cell_type": "markdown",
      "metadata": {
        "id": "oMdm72maLNVy",
        "colab_type": "text"
      },
      "source": [
        "####Age"
      ]
    },
    {
      "cell_type": "code",
      "metadata": {
        "id": "bvmeb72pLQuN",
        "colab_type": "code",
        "outputId": "b9ebca4c-b976-4c43-bd8a-819e5b375675",
        "colab": {
          "base_uri": "https://localhost:8080/",
          "height": 121
        }
      },
      "source": [
        "train['Age'].head()"
      ],
      "execution_count": 52,
      "outputs": [
        {
          "output_type": "execute_result",
          "data": {
            "text/plain": [
              "0    1\n",
              "1    2\n",
              "2    1\n",
              "3    2\n",
              "4    2\n",
              "Name: Age, dtype: int64"
            ]
          },
          "metadata": {
            "tags": []
          },
          "execution_count": 52
        }
      ]
    },
    {
      "cell_type": "code",
      "metadata": {
        "id": "jn36bG4SLbQf",
        "colab_type": "code",
        "outputId": "be1d7a80-2589-4f4c-9175-d1615674962c",
        "colab": {
          "base_uri": "https://localhost:8080/",
          "height": 35
        }
      },
      "source": [
        "train['Age'].isnull().sum()"
      ],
      "execution_count": 53,
      "outputs": [
        {
          "output_type": "execute_result",
          "data": {
            "text/plain": [
              "0"
            ]
          },
          "metadata": {
            "tags": []
          },
          "execution_count": 53
        }
      ]
    },
    {
      "cell_type": "code",
      "metadata": {
        "id": "vRvamLyPLgIj",
        "colab_type": "code",
        "outputId": "5222e270-7ed9-4b25-f567-47af3d0fc6b1",
        "colab": {
          "base_uri": "https://localhost:8080/",
          "height": 69
        }
      },
      "source": [
        "train['Pclass'].groupby(train['Age'].isnull()).mean()"
      ],
      "execution_count": 54,
      "outputs": [
        {
          "output_type": "execute_result",
          "data": {
            "text/plain": [
              "Age\n",
              "False    2.308642\n",
              "Name: Pclass, dtype: float64"
            ]
          },
          "metadata": {
            "tags": []
          },
          "execution_count": 54
        }
      ]
    },
    {
      "cell_type": "markdown",
      "metadata": {
        "id": "KbUeXsrqLmHx",
        "colab_type": "text"
      },
      "source": [
        "####Parch"
      ]
    },
    {
      "cell_type": "code",
      "metadata": {
        "id": "HrDCenGULnta",
        "colab_type": "code",
        "outputId": "e668c420-954e-4e08-dd0b-0450e05fab56",
        "colab": {
          "base_uri": "https://localhost:8080/",
          "height": 156
        }
      },
      "source": [
        "train['Parch'].value_counts()"
      ],
      "execution_count": 55,
      "outputs": [
        {
          "output_type": "execute_result",
          "data": {
            "text/plain": [
              "0    678\n",
              "1    118\n",
              "2     80\n",
              "5      5\n",
              "3      5\n",
              "4      4\n",
              "6      1\n",
              "Name: Parch, dtype: int64"
            ]
          },
          "metadata": {
            "tags": []
          },
          "execution_count": 55
        }
      ]
    },
    {
      "cell_type": "code",
      "metadata": {
        "id": "SpQ0NERiLx_y",
        "colab_type": "code",
        "outputId": "f6c0e640-a6d1-4677-fb35-417ca3253dbc",
        "colab": {
          "base_uri": "https://localhost:8080/",
          "height": 69
        }
      },
      "source": [
        "train['Pclass'].groupby(train['Parch'].isnull()).mean()"
      ],
      "execution_count": 56,
      "outputs": [
        {
          "output_type": "execute_result",
          "data": {
            "text/plain": [
              "Parch\n",
              "False    2.308642\n",
              "Name: Pclass, dtype: float64"
            ]
          },
          "metadata": {
            "tags": []
          },
          "execution_count": 56
        }
      ]
    },
    {
      "cell_type": "markdown",
      "metadata": {
        "id": "H_kI_biqMW_7",
        "colab_type": "text"
      },
      "source": [
        "####Title"
      ]
    },
    {
      "cell_type": "code",
      "metadata": {
        "id": "ykRLu6u3L4RK",
        "colab_type": "code",
        "outputId": "a72f1d9f-d840-453b-9643-c57d84bc8a99",
        "colab": {
          "base_uri": "https://localhost:8080/",
          "height": 121
        }
      },
      "source": [
        "train['Title'].value_counts()"
      ],
      "execution_count": 57,
      "outputs": [
        {
          "output_type": "execute_result",
          "data": {
            "text/plain": [
              "1    517\n",
              "4    185\n",
              "3    126\n",
              "2     40\n",
              "5     23\n",
              "Name: Title, dtype: int64"
            ]
          },
          "metadata": {
            "tags": []
          },
          "execution_count": 57
        }
      ]
    },
    {
      "cell_type": "code",
      "metadata": {
        "id": "S_uNuuYVMBYw",
        "colab_type": "code",
        "outputId": "a1242bf3-59f5-4dd7-e255-8d21e1ae656d",
        "colab": {
          "base_uri": "https://localhost:8080/",
          "height": 139
        }
      },
      "source": [
        "train['Pclass'].groupby(train['Title']).mean()"
      ],
      "execution_count": 58,
      "outputs": [
        {
          "output_type": "execute_result",
          "data": {
            "text/plain": [
              "Title\n",
              "1    2.410058\n",
              "2    2.625000\n",
              "3    1.992063\n",
              "4    2.291892\n",
              "5    1.347826\n",
              "Name: Pclass, dtype: float64"
            ]
          },
          "metadata": {
            "tags": []
          },
          "execution_count": 58
        }
      ]
    },
    {
      "cell_type": "markdown",
      "metadata": {
        "id": "OTP--gOaMbd-",
        "colab_type": "text"
      },
      "source": [
        "####Fare"
      ]
    },
    {
      "cell_type": "code",
      "metadata": {
        "id": "83f6O501MfQ8",
        "colab_type": "code",
        "outputId": "b763f512-5611-427c-9ea3-9f93e1ca7620",
        "colab": {
          "base_uri": "https://localhost:8080/",
          "height": 121
        }
      },
      "source": [
        "train['Fare'].head()"
      ],
      "execution_count": 59,
      "outputs": [
        {
          "output_type": "execute_result",
          "data": {
            "text/plain": [
              "0    0\n",
              "1    3\n",
              "2    1\n",
              "3    3\n",
              "4    1\n",
              "Name: Fare, dtype: int64"
            ]
          },
          "metadata": {
            "tags": []
          },
          "execution_count": 59
        }
      ]
    },
    {
      "cell_type": "code",
      "metadata": {
        "id": "vgtyY1gMM1ZX",
        "colab_type": "code",
        "outputId": "c19887d5-7a5d-4547-d4ef-b7f49cf5c0ea",
        "colab": {
          "base_uri": "https://localhost:8080/",
          "height": 121
        }
      },
      "source": [
        "train['Pclass'].groupby(train['Fare']).mean()"
      ],
      "execution_count": 60,
      "outputs": [
        {
          "output_type": "execute_result",
          "data": {
            "text/plain": [
              "Fare\n",
              "0    2.919283\n",
              "1    2.603687\n",
              "2    2.248908\n",
              "3    1.468468\n",
              "Name: Pclass, dtype: float64"
            ]
          },
          "metadata": {
            "tags": []
          },
          "execution_count": 60
        }
      ]
    },
    {
      "cell_type": "markdown",
      "metadata": {
        "id": "dwCuTdrlM_l9",
        "colab_type": "text"
      },
      "source": [
        "####Embarked"
      ]
    },
    {
      "cell_type": "code",
      "metadata": {
        "id": "z_kVZoMgM7HD",
        "colab_type": "code",
        "outputId": "5646ef4b-2e7e-4a61-efde-57cca07b1d10",
        "colab": {
          "base_uri": "https://localhost:8080/",
          "height": 121
        }
      },
      "source": [
        "train['Embarked'].head()"
      ],
      "execution_count": 61,
      "outputs": [
        {
          "output_type": "execute_result",
          "data": {
            "text/plain": [
              "0    0\n",
              "1    1\n",
              "2    0\n",
              "3    0\n",
              "4    0\n",
              "Name: Embarked, dtype: int64"
            ]
          },
          "metadata": {
            "tags": []
          },
          "execution_count": 61
        }
      ]
    },
    {
      "cell_type": "code",
      "metadata": {
        "id": "Kxq9hXJmNDA0",
        "colab_type": "code",
        "outputId": "dbb05198-ff57-4f6e-fbb2-b9b53bcfd10c",
        "colab": {
          "base_uri": "https://localhost:8080/",
          "height": 104
        }
      },
      "source": [
        "train['Pclass'].groupby(train['Embarked']).mean()"
      ],
      "execution_count": 62,
      "outputs": [
        {
          "output_type": "execute_result",
          "data": {
            "text/plain": [
              "Embarked\n",
              "0    2.346749\n",
              "1    1.886905\n",
              "2    2.909091\n",
              "Name: Pclass, dtype: float64"
            ]
          },
          "metadata": {
            "tags": []
          },
          "execution_count": 62
        }
      ]
    },
    {
      "cell_type": "code",
      "metadata": {
        "id": "wysWyeT-NXV4",
        "colab_type": "code",
        "outputId": "40f03868-6431-4f08-ae5a-d04d98e2ee12",
        "colab": {
          "base_uri": "https://localhost:8080/",
          "height": 173
        }
      },
      "source": [
        "pd.isnull(train).any() | pd.isnull(test).any()"
      ],
      "execution_count": 63,
      "outputs": [
        {
          "output_type": "execute_result",
          "data": {
            "text/plain": [
              "Age         False\n",
              "Embarked    False\n",
              "Fare        False\n",
              "Parch       False\n",
              "Pclass      False\n",
              "Sex         False\n",
              "Survived    False\n",
              "Title       False\n",
              "dtype: bool"
            ]
          },
          "metadata": {
            "tags": []
          },
          "execution_count": 63
        }
      ]
    },
    {
      "cell_type": "markdown",
      "metadata": {
        "id": "4zBPvVaGN1QW",
        "colab_type": "text"
      },
      "source": [
        "###Random Forest"
      ]
    },
    {
      "cell_type": "code",
      "metadata": {
        "id": "5KMYt6vFOBC6",
        "colab_type": "code",
        "outputId": "be8c1d8a-3036-4b97-9824-593542d47659",
        "colab": {
          "base_uri": "https://localhost:8080/",
          "height": 202
        }
      },
      "source": [
        "train.head()"
      ],
      "execution_count": 64,
      "outputs": [
        {
          "output_type": "execute_result",
          "data": {
            "text/html": [
              "<div>\n",
              "<style scoped>\n",
              "    .dataframe tbody tr th:only-of-type {\n",
              "        vertical-align: middle;\n",
              "    }\n",
              "\n",
              "    .dataframe tbody tr th {\n",
              "        vertical-align: top;\n",
              "    }\n",
              "\n",
              "    .dataframe thead th {\n",
              "        text-align: right;\n",
              "    }\n",
              "</style>\n",
              "<table border=\"1\" class=\"dataframe\">\n",
              "  <thead>\n",
              "    <tr style=\"text-align: right;\">\n",
              "      <th></th>\n",
              "      <th>Survived</th>\n",
              "      <th>Pclass</th>\n",
              "      <th>Sex</th>\n",
              "      <th>Age</th>\n",
              "      <th>Parch</th>\n",
              "      <th>Fare</th>\n",
              "      <th>Embarked</th>\n",
              "      <th>Title</th>\n",
              "    </tr>\n",
              "  </thead>\n",
              "  <tbody>\n",
              "    <tr>\n",
              "      <th>0</th>\n",
              "      <td>0</td>\n",
              "      <td>3</td>\n",
              "      <td>1</td>\n",
              "      <td>1</td>\n",
              "      <td>0</td>\n",
              "      <td>0</td>\n",
              "      <td>0</td>\n",
              "      <td>1</td>\n",
              "    </tr>\n",
              "    <tr>\n",
              "      <th>1</th>\n",
              "      <td>1</td>\n",
              "      <td>1</td>\n",
              "      <td>0</td>\n",
              "      <td>2</td>\n",
              "      <td>0</td>\n",
              "      <td>3</td>\n",
              "      <td>1</td>\n",
              "      <td>3</td>\n",
              "    </tr>\n",
              "    <tr>\n",
              "      <th>2</th>\n",
              "      <td>1</td>\n",
              "      <td>3</td>\n",
              "      <td>0</td>\n",
              "      <td>1</td>\n",
              "      <td>0</td>\n",
              "      <td>1</td>\n",
              "      <td>0</td>\n",
              "      <td>4</td>\n",
              "    </tr>\n",
              "    <tr>\n",
              "      <th>3</th>\n",
              "      <td>1</td>\n",
              "      <td>1</td>\n",
              "      <td>0</td>\n",
              "      <td>2</td>\n",
              "      <td>0</td>\n",
              "      <td>3</td>\n",
              "      <td>0</td>\n",
              "      <td>3</td>\n",
              "    </tr>\n",
              "    <tr>\n",
              "      <th>4</th>\n",
              "      <td>0</td>\n",
              "      <td>3</td>\n",
              "      <td>1</td>\n",
              "      <td>2</td>\n",
              "      <td>0</td>\n",
              "      <td>1</td>\n",
              "      <td>0</td>\n",
              "      <td>1</td>\n",
              "    </tr>\n",
              "  </tbody>\n",
              "</table>\n",
              "</div>"
            ],
            "text/plain": [
              "   Survived  Pclass  Sex  Age  Parch  Fare  Embarked  Title\n",
              "0         0       3    1    1      0     0         0      1\n",
              "1         1       1    0    2      0     3         1      3\n",
              "2         1       3    0    1      0     1         0      4\n",
              "3         1       1    0    2      0     3         0      3\n",
              "4         0       3    1    2      0     1         0      1"
            ]
          },
          "metadata": {
            "tags": []
          },
          "execution_count": 64
        }
      ]
    },
    {
      "cell_type": "code",
      "metadata": {
        "id": "_4iXTMfUN0YY",
        "colab_type": "code",
        "outputId": "cfe31535-56f2-4313-bd93-e2c53c7b7bc9",
        "colab": {
          "base_uri": "https://localhost:8080/",
          "height": 156
        }
      },
      "source": [
        "from sklearn.ensemble import RandomForestClassifier\n",
        "\n",
        "rf = RandomForestClassifier(criterion='gini', \n",
        "                             n_estimators=700,\n",
        "                             min_samples_split=10,\n",
        "                             min_samples_leaf=1,\n",
        "                             max_features='auto',\n",
        "                             oob_score=True,\n",
        "                             random_state=1,\n",
        "                             n_jobs=-1)\n",
        "rf.fit(train.drop(['Pclass'], axis=1), train['Pclass'])"
      ],
      "execution_count": 65,
      "outputs": [
        {
          "output_type": "execute_result",
          "data": {
            "text/plain": [
              "RandomForestClassifier(bootstrap=True, ccp_alpha=0.0, class_weight=None,\n",
              "                       criterion='gini', max_depth=None, max_features='auto',\n",
              "                       max_leaf_nodes=None, max_samples=None,\n",
              "                       min_impurity_decrease=0.0, min_impurity_split=None,\n",
              "                       min_samples_leaf=1, min_samples_split=10,\n",
              "                       min_weight_fraction_leaf=0.0, n_estimators=700,\n",
              "                       n_jobs=-1, oob_score=True, random_state=1, verbose=0,\n",
              "                       warm_start=False)"
            ]
          },
          "metadata": {
            "tags": []
          },
          "execution_count": 65
        }
      ]
    },
    {
      "cell_type": "code",
      "metadata": {
        "id": "d9LJ8QmOOFTI",
        "colab_type": "code",
        "outputId": "5a4ad47e-205d-4b26-da06-e7800772dc31",
        "colab": {
          "base_uri": "https://localhost:8080/",
          "height": 347
        }
      },
      "source": [
        "y_pred = rf.predict(test)\n",
        "y_pred"
      ],
      "execution_count": 66,
      "outputs": [
        {
          "output_type": "execute_result",
          "data": {
            "text/plain": [
              "array([3, 3, 3, 3, 3, 3, 3, 1, 3, 1, 3, 1, 1, 1, 1, 3, 3, 3, 2, 3, 1, 3,\n",
              "       1, 1, 1, 1, 1, 3, 1, 1, 1, 1, 2, 2, 1, 3, 2, 2, 3, 1, 3, 1, 3, 2,\n",
              "       1, 3, 1, 3, 1, 2, 1, 1, 2, 1, 3, 3, 3, 3, 1, 1, 3, 3, 3, 3, 1, 2,\n",
              "       3, 1, 1, 1, 3, 3, 2, 1, 1, 1, 3, 2, 3, 3, 3, 1, 1, 3, 3, 1, 3, 2,\n",
              "       3, 2, 2, 3, 1, 3, 1, 3, 1, 3, 3, 3, 1, 1, 3, 3, 3, 1, 3, 3, 3, 3,\n",
              "       1, 3, 1, 3, 1, 1, 3, 2, 1, 2, 2, 3, 1, 3, 3, 2, 3, 3, 3, 3, 3, 1,\n",
              "       2, 3, 3, 3, 3, 3, 2, 1, 1, 1, 1, 1, 1, 1, 1, 3, 1, 2, 1, 3, 1, 2,\n",
              "       1, 3, 1, 3, 1, 3, 3, 3, 2, 3, 2, 2, 1, 1, 3, 2, 3, 3, 3, 3, 1, 1,\n",
              "       1, 1, 1, 1, 3, 1, 1, 3, 1, 1, 2, 3, 1, 3, 1, 1, 2, 3, 1, 3, 1, 3,\n",
              "       3, 2, 3, 3, 1, 2, 3, 1, 3, 3, 1, 3, 1, 3, 1, 2, 3, 1, 3, 1, 1, 3,\n",
              "       2, 3, 2, 3, 1, 3, 3, 3, 1, 3, 1, 2, 3, 3, 1, 3, 1, 3, 3, 1, 1, 2,\n",
              "       1, 3, 3, 1, 2, 1, 2, 1, 2, 3, 1, 3, 3, 3, 3, 3, 2, 3, 1, 3, 2, 3,\n",
              "       3, 3, 3, 3, 2, 3, 1, 3, 1, 3, 3, 2, 3, 1, 1, 3, 2, 3, 3, 3, 2, 3,\n",
              "       3, 1, 3, 3, 1, 3, 3, 1, 3, 3, 1, 1, 1, 3, 3, 1, 1, 3, 3, 2, 1, 3,\n",
              "       1, 2, 3, 3, 3, 3, 1, 3, 1, 3, 3, 1, 3, 3, 3, 1, 1, 3, 1, 1, 1, 3,\n",
              "       1, 1, 3, 3, 3, 1, 3, 3, 1, 3, 3, 3, 1, 1, 2, 3, 3, 3, 3, 2, 1, 3,\n",
              "       1, 1, 2, 1, 1, 3, 3, 2, 1, 1, 2, 3, 1, 3, 1, 1, 1, 3, 3, 1, 3, 3,\n",
              "       1, 1, 2, 3, 1, 1, 3, 3, 2, 2, 3, 1, 3, 2, 3, 2, 1, 1, 3, 3, 1, 1,\n",
              "       3, 1, 3, 3, 1, 1, 1, 1, 1, 3, 3, 1, 3, 3, 3, 1, 3, 3, 1, 3, 3, 3])"
            ]
          },
          "metadata": {
            "tags": []
          },
          "execution_count": 66
        }
      ]
    }
  ]
}