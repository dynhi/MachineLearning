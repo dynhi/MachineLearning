{
  "nbformat": 4,
  "nbformat_minor": 0,
  "metadata": {
    "colab": {
      "name": "1-Lab-DecisionTree.ipynb",
      "provenance": [],
      "collapsed_sections": [],
      "include_colab_link": true
    },
    "kernelspec": {
      "display_name": "Python 3",
      "language": "python",
      "name": "python3"
    },
    "language_info": {
      "codemirror_mode": {
        "name": "ipython",
        "version": 3
      },
      "file_extension": ".py",
      "mimetype": "text/x-python",
      "name": "python",
      "nbconvert_exporter": "python",
      "pygments_lexer": "ipython3",
      "version": "3.7.3"
    }
  },
  "cells": [
    {
      "cell_type": "markdown",
      "metadata": {
        "id": "view-in-github",
        "colab_type": "text"
      },
      "source": [
        "<a href=\"https://colab.research.google.com/github/dynhi/MachineLearning/blob/master/1_Lab_DecisionTree.ipynb\" target=\"_parent\"><img src=\"https://colab.research.google.com/assets/colab-badge.svg\" alt=\"Open In Colab\"/></a>"
      ]
    },
    {
      "cell_type": "markdown",
      "metadata": {
        "colab_type": "text",
        "id": "gvKshvFzQorr"
      },
      "source": [
        "# Decision Tree in Python"
      ]
    },
    {
      "cell_type": "code",
      "metadata": {
        "id": "q444ZrKISYu0",
        "colab_type": "code",
        "colab": {
          "base_uri": "https://localhost:8080/",
          "height": 55
        },
        "outputId": "6db2451b-c8c7-4647-b32b-c7fe6c00e195"
      },
      "source": [
        "from google.colab import drive\n",
        "drive.mount('/content/drive')"
      ],
      "execution_count": 17,
      "outputs": [
        {
          "output_type": "stream",
          "text": [
            "Drive already mounted at /content/drive; to attempt to forcibly remount, call drive.mount(\"/content/drive\", force_remount=True).\n"
          ],
          "name": "stdout"
        }
      ]
    },
    {
      "cell_type": "markdown",
      "metadata": {
        "colab_type": "text",
        "id": "YeHd4gDaQ0_c"
      },
      "source": [
        "## Introduction"
      ]
    },
    {
      "cell_type": "markdown",
      "metadata": {
        "colab_type": "text",
        "id": "VxauYFNjYzWw"
      },
      "source": [
        "\n",
        "* Author: thuanle@hcmut.edu.vn\n",
        "\n",
        "* Content:\n",
        "  - Practice the DecisionTree classifier\n",
        "  - Learn more about split the dataset into train and test.\n",
        "  - Evaluation by Accuracy score\n",
        "* Major steps:\n",
        "  - Load data from CSV, split into trainning set and test set\n",
        "  - Buidling kNN model.\n",
        "  - Evaluating results\n",
        "  - Training DecisionTree classifier model\n",
        "  - Evaluating results\n",
        "  - Visualize models"
      ]
    },
    {
      "cell_type": "markdown",
      "metadata": {
        "colab_type": "text",
        "id": "iqHlfOFUVQAD"
      },
      "source": [
        "## Configuration"
      ]
    },
    {
      "cell_type": "code",
      "metadata": {
        "colab_type": "code",
        "id": "hFmx_vCrVEX3",
        "colab": {}
      },
      "source": [
        "dataset_filename = \"/content/drive/My Drive/Lab 6/2-Decision-Tree/bill_authentication.csv\""
      ],
      "execution_count": 0,
      "outputs": []
    },
    {
      "cell_type": "markdown",
      "metadata": {
        "colab_type": "text",
        "id": "H89hX3QbQor2"
      },
      "source": [
        "## Grab the data\n",
        "\n",
        "Since our file is in CSV format, we will use panda's read_csv method to read our CSV data file. Execute the following script to do so:"
      ]
    },
    {
      "cell_type": "code",
      "metadata": {
        "colab_type": "code",
        "id": "t85tLpXzQor5",
        "outputId": "8d54188c-90a9-4f81-83c5-298dc55f5cd0",
        "colab": {
          "base_uri": "https://localhost:8080/",
          "height": 35
        }
      },
      "source": [
        "import pandas as pd  \n",
        "dataset = pd.read_csv(dataset_filename)\n",
        "dataset.shape"
      ],
      "execution_count": 19,
      "outputs": [
        {
          "output_type": "execute_result",
          "data": {
            "text/plain": [
              "(1372, 5)"
            ]
          },
          "metadata": {
            "tags": []
          },
          "execution_count": 19
        }
      ]
    },
    {
      "cell_type": "code",
      "metadata": {
        "colab_type": "code",
        "id": "A0dBLnZKQosF",
        "outputId": "93d14d35-f799-47f7-ca60-ba47cc8dc94b",
        "colab": {
          "base_uri": "https://localhost:8080/",
          "height": 35
        }
      },
      "source": [
        "# Overview about dataset\n",
        "dataset.keys()"
      ],
      "execution_count": 20,
      "outputs": [
        {
          "output_type": "execute_result",
          "data": {
            "text/plain": [
              "Index(['Variance', 'Skewness', 'Curtosis', 'Entropy', 'Class'], dtype='object')"
            ]
          },
          "metadata": {
            "tags": []
          },
          "execution_count": 20
        }
      ]
    },
    {
      "cell_type": "code",
      "metadata": {
        "colab_type": "code",
        "id": "6S5WHtRnQosJ",
        "outputId": "18f1c931-ecfd-4f12-d358-c98f136f8c3f",
        "colab": {
          "base_uri": "https://localhost:8080/",
          "height": 202
        }
      },
      "source": [
        "dataset.head()  "
      ],
      "execution_count": 21,
      "outputs": [
        {
          "output_type": "execute_result",
          "data": {
            "text/html": [
              "<div>\n",
              "<style scoped>\n",
              "    .dataframe tbody tr th:only-of-type {\n",
              "        vertical-align: middle;\n",
              "    }\n",
              "\n",
              "    .dataframe tbody tr th {\n",
              "        vertical-align: top;\n",
              "    }\n",
              "\n",
              "    .dataframe thead th {\n",
              "        text-align: right;\n",
              "    }\n",
              "</style>\n",
              "<table border=\"1\" class=\"dataframe\">\n",
              "  <thead>\n",
              "    <tr style=\"text-align: right;\">\n",
              "      <th></th>\n",
              "      <th>Variance</th>\n",
              "      <th>Skewness</th>\n",
              "      <th>Curtosis</th>\n",
              "      <th>Entropy</th>\n",
              "      <th>Class</th>\n",
              "    </tr>\n",
              "  </thead>\n",
              "  <tbody>\n",
              "    <tr>\n",
              "      <th>0</th>\n",
              "      <td>3.62160</td>\n",
              "      <td>8.6661</td>\n",
              "      <td>-2.8073</td>\n",
              "      <td>-0.44699</td>\n",
              "      <td>0</td>\n",
              "    </tr>\n",
              "    <tr>\n",
              "      <th>1</th>\n",
              "      <td>4.54590</td>\n",
              "      <td>8.1674</td>\n",
              "      <td>-2.4586</td>\n",
              "      <td>-1.46210</td>\n",
              "      <td>0</td>\n",
              "    </tr>\n",
              "    <tr>\n",
              "      <th>2</th>\n",
              "      <td>3.86600</td>\n",
              "      <td>-2.6383</td>\n",
              "      <td>1.9242</td>\n",
              "      <td>0.10645</td>\n",
              "      <td>0</td>\n",
              "    </tr>\n",
              "    <tr>\n",
              "      <th>3</th>\n",
              "      <td>3.45660</td>\n",
              "      <td>9.5228</td>\n",
              "      <td>-4.0112</td>\n",
              "      <td>-3.59440</td>\n",
              "      <td>0</td>\n",
              "    </tr>\n",
              "    <tr>\n",
              "      <th>4</th>\n",
              "      <td>0.32924</td>\n",
              "      <td>-4.4552</td>\n",
              "      <td>4.5718</td>\n",
              "      <td>-0.98880</td>\n",
              "      <td>0</td>\n",
              "    </tr>\n",
              "  </tbody>\n",
              "</table>\n",
              "</div>"
            ],
            "text/plain": [
              "   Variance  Skewness  Curtosis  Entropy  Class\n",
              "0   3.62160    8.6661   -2.8073 -0.44699      0\n",
              "1   4.54590    8.1674   -2.4586 -1.46210      0\n",
              "2   3.86600   -2.6383    1.9242  0.10645      0\n",
              "3   3.45660    9.5228   -4.0112 -3.59440      0\n",
              "4   0.32924   -4.4552    4.5718 -0.98880      0"
            ]
          },
          "metadata": {
            "tags": []
          },
          "execution_count": 21
        }
      ]
    },
    {
      "cell_type": "markdown",
      "metadata": {
        "colab_type": "text",
        "id": "NTob9ldXZST2"
      },
      "source": [
        "## Prepare train data and test set"
      ]
    },
    {
      "cell_type": "markdown",
      "metadata": {
        "colab_type": "text",
        "id": "_SHtTv-AQosM"
      },
      "source": [
        "The label is describe in **Class** column. So that we devide the dataset into attributes and labels"
      ]
    },
    {
      "cell_type": "code",
      "metadata": {
        "colab_type": "code",
        "id": "IWlX_Ip1QosN",
        "colab": {}
      },
      "source": [
        "X = dataset.drop('Class', axis=1)  \n",
        "y = dataset['Class']  "
      ],
      "execution_count": 0,
      "outputs": []
    },
    {
      "cell_type": "markdown",
      "metadata": {
        "colab_type": "text",
        "id": "gg1L0AW-2ScC"
      },
      "source": [
        "Here the X variable contains all the columns from the dataset, except the **Class** column, which is the label.\n",
        "\n",
        "The y variable contains the values from the **Class** column. \n",
        "\n",
        "The X variable is our attribute set and y variable contains corresponding labels."
      ]
    },
    {
      "cell_type": "markdown",
      "metadata": {
        "colab_type": "text",
        "id": "7mAg-sUBQosS"
      },
      "source": [
        "### Dividing our data into training and test sets. "
      ]
    },
    {
      "cell_type": "markdown",
      "metadata": {
        "colab_type": "text",
        "id": "0Fp9RNwf2oon"
      },
      "source": [
        "So, we split the test into 2 sets: training set and testing set. We use to split up 20% of the data in to the test set and 80% for training."
      ]
    },
    {
      "cell_type": "code",
      "metadata": {
        "colab_type": "code",
        "id": "8fXzzhfHQosT",
        "outputId": "376654c9-c7e4-4e06-83e7-2084d5d756ee",
        "colab": {
          "base_uri": "https://localhost:8080/",
          "height": 52
        }
      },
      "source": [
        "from sklearn.model_selection import train_test_split  \n",
        "X_train, X_test, y_train, y_test = train_test_split(X, y, test_size=0.20)\n",
        "print(X_train.shape, y_train.size)\n",
        "print(X_test.shape, y_test.shape)"
      ],
      "execution_count": 23,
      "outputs": [
        {
          "output_type": "stream",
          "text": [
            "(1097, 4) 1097\n",
            "(275, 4) (275,)\n"
          ],
          "name": "stdout"
        }
      ]
    },
    {
      "cell_type": "markdown",
      "metadata": {
        "colab_type": "text",
        "id": "RvkIhGKzQosZ"
      },
      "source": [
        "## Training with Decision Tree"
      ]
    },
    {
      "cell_type": "markdown",
      "metadata": {
        "colab_type": "text",
        "id": "Whzch7nq5Fdc"
      },
      "source": [
        "Now, let's build a **Decision Tree** model"
      ]
    },
    {
      "cell_type": "markdown",
      "metadata": {
        "id": "QDdJPSy5SNrP",
        "colab_type": "text"
      },
      "source": [
        "### a) criterion='gini'"
      ]
    },
    {
      "cell_type": "code",
      "metadata": {
        "colab_type": "code",
        "id": "A5VjKMNFQosZ",
        "outputId": "597ebd48-31c3-442e-8741-65e76fd723b9",
        "colab": {
          "base_uri": "https://localhost:8080/",
          "height": 121
        }
      },
      "source": [
        "from sklearn.tree import DecisionTreeClassifier  \n",
        "dt = DecisionTreeClassifier(criterion='gini')  \n",
        "dt.fit(X_train, y_train)  "
      ],
      "execution_count": 24,
      "outputs": [
        {
          "output_type": "execute_result",
          "data": {
            "text/plain": [
              "DecisionTreeClassifier(ccp_alpha=0.0, class_weight=None, criterion='gini',\n",
              "                       max_depth=None, max_features=None, max_leaf_nodes=None,\n",
              "                       min_impurity_decrease=0.0, min_impurity_split=None,\n",
              "                       min_samples_leaf=1, min_samples_split=2,\n",
              "                       min_weight_fraction_leaf=0.0, presort='deprecated',\n",
              "                       random_state=None, splitter='best')"
            ]
          },
          "metadata": {
            "tags": []
          },
          "execution_count": 24
        }
      ]
    },
    {
      "cell_type": "code",
      "metadata": {
        "colab_type": "code",
        "id": "577pssBYQose",
        "outputId": "dc735b93-ec3a-417c-f509-6f6a4e4aca3c",
        "colab": {
          "base_uri": "https://localhost:8080/",
          "height": 243
        }
      },
      "source": [
        "y_pred_dt = dt.predict(X_test)  \n",
        "y_pred_dt"
      ],
      "execution_count": 25,
      "outputs": [
        {
          "output_type": "execute_result",
          "data": {
            "text/plain": [
              "array([0, 0, 1, 1, 0, 0, 0, 0, 0, 0, 1, 0, 0, 0, 0, 1, 1, 1, 1, 0, 0, 0,\n",
              "       1, 0, 1, 0, 0, 0, 0, 1, 0, 0, 1, 1, 1, 1, 0, 0, 0, 0, 0, 1, 0, 0,\n",
              "       0, 0, 0, 0, 1, 0, 0, 1, 0, 0, 1, 1, 0, 1, 1, 0, 1, 1, 1, 0, 1, 0,\n",
              "       1, 0, 0, 0, 0, 0, 0, 0, 1, 1, 0, 1, 1, 1, 1, 0, 0, 0, 1, 0, 1, 0,\n",
              "       0, 1, 1, 1, 0, 1, 1, 1, 1, 1, 1, 1, 1, 1, 1, 1, 0, 1, 0, 1, 0, 0,\n",
              "       1, 1, 1, 0, 0, 0, 0, 1, 0, 1, 1, 0, 1, 0, 1, 0, 0, 0, 1, 1, 0, 1,\n",
              "       1, 1, 0, 1, 1, 0, 1, 0, 0, 0, 0, 1, 0, 0, 0, 0, 0, 1, 1, 0, 0, 1,\n",
              "       0, 0, 1, 0, 0, 0, 1, 0, 0, 0, 0, 0, 0, 1, 0, 1, 0, 0, 0, 1, 1, 1,\n",
              "       1, 0, 0, 1, 0, 0, 0, 0, 0, 0, 1, 0, 0, 0, 0, 0, 0, 1, 0, 0, 1, 0,\n",
              "       0, 0, 0, 0, 1, 0, 0, 1, 1, 1, 0, 1, 0, 0, 0, 1, 1, 0, 1, 1, 0, 0,\n",
              "       1, 0, 1, 0, 1, 0, 1, 0, 1, 0, 0, 0, 1, 1, 0, 1, 1, 1, 1, 1, 0, 0,\n",
              "       1, 0, 0, 1, 0, 1, 1, 0, 0, 0, 1, 1, 1, 1, 0, 1, 1, 1, 0, 1, 0, 0,\n",
              "       0, 1, 0, 1, 1, 0, 1, 0, 1, 0, 1])"
            ]
          },
          "metadata": {
            "tags": []
          },
          "execution_count": 25
        }
      ]
    },
    {
      "cell_type": "markdown",
      "metadata": {
        "colab_type": "text",
        "id": "UusvjyEMQosl"
      },
      "source": [
        "##### Evaluating the Algorithm\n",
        "\n"
      ]
    },
    {
      "cell_type": "code",
      "metadata": {
        "colab_type": "code",
        "id": "ZrVWAiUDQosm",
        "outputId": "d86f9fff-dcd1-4092-ae3b-785bc8a51214",
        "colab": {
          "base_uri": "https://localhost:8080/",
          "height": 35
        }
      },
      "source": [
        "dt_score = dt.score(X_test, y_test)\n",
        "print(f\"Decision Tree classifier accuracy score is {dt_score}\")"
      ],
      "execution_count": 26,
      "outputs": [
        {
          "output_type": "stream",
          "text": [
            "Decision Tree classifier accuracy score is 0.9927272727272727\n"
          ],
          "name": "stdout"
        }
      ]
    },
    {
      "cell_type": "markdown",
      "metadata": {
        "id": "CeqJ_NNBSNrc",
        "colab_type": "text"
      },
      "source": [
        "### b) criterion='entropy'"
      ]
    },
    {
      "cell_type": "code",
      "metadata": {
        "id": "bSLYoD4ISNrd",
        "colab_type": "code",
        "colab": {
          "base_uri": "https://localhost:8080/",
          "height": 121
        },
        "outputId": "d588c294-5d5c-49a7-df9b-da7fba436075"
      },
      "source": [
        "from sklearn.tree import DecisionTreeClassifier  \n",
        "dt2 = DecisionTreeClassifier(criterion='entropy')  \n",
        "dt2.fit(X_train, y_train)  "
      ],
      "execution_count": 27,
      "outputs": [
        {
          "output_type": "execute_result",
          "data": {
            "text/plain": [
              "DecisionTreeClassifier(ccp_alpha=0.0, class_weight=None, criterion='entropy',\n",
              "                       max_depth=None, max_features=None, max_leaf_nodes=None,\n",
              "                       min_impurity_decrease=0.0, min_impurity_split=None,\n",
              "                       min_samples_leaf=1, min_samples_split=2,\n",
              "                       min_weight_fraction_leaf=0.0, presort='deprecated',\n",
              "                       random_state=None, splitter='best')"
            ]
          },
          "metadata": {
            "tags": []
          },
          "execution_count": 27
        }
      ]
    },
    {
      "cell_type": "code",
      "metadata": {
        "scrolled": false,
        "id": "IdMC7FMUSNrj",
        "colab_type": "code",
        "colab": {
          "base_uri": "https://localhost:8080/",
          "height": 243
        },
        "outputId": "6eaf0ae6-ddf1-459b-98e2-81eb0c15471f"
      },
      "source": [
        "y_pred_dt = dt2.predict(X_test)  \n",
        "y_pred_dt"
      ],
      "execution_count": 28,
      "outputs": [
        {
          "output_type": "execute_result",
          "data": {
            "text/plain": [
              "array([0, 0, 1, 1, 0, 0, 0, 0, 0, 0, 1, 0, 0, 0, 0, 1, 1, 1, 1, 0, 0, 0,\n",
              "       1, 0, 1, 0, 0, 0, 0, 1, 0, 0, 1, 1, 1, 1, 0, 0, 0, 0, 0, 1, 0, 0,\n",
              "       0, 0, 0, 0, 1, 0, 0, 1, 1, 0, 1, 1, 0, 1, 1, 0, 1, 1, 1, 0, 1, 0,\n",
              "       1, 0, 0, 0, 0, 0, 0, 0, 1, 1, 0, 1, 1, 1, 1, 0, 0, 0, 1, 0, 1, 0,\n",
              "       0, 1, 1, 1, 0, 1, 1, 1, 1, 1, 1, 1, 1, 1, 1, 1, 0, 1, 0, 1, 0, 0,\n",
              "       1, 1, 1, 1, 0, 0, 0, 1, 0, 1, 1, 0, 1, 0, 1, 0, 0, 0, 1, 1, 0, 1,\n",
              "       1, 1, 0, 1, 1, 0, 1, 0, 0, 0, 0, 1, 0, 0, 0, 0, 0, 1, 1, 0, 0, 1,\n",
              "       0, 0, 1, 0, 0, 0, 1, 0, 0, 0, 0, 0, 0, 1, 0, 1, 0, 0, 0, 1, 1, 1,\n",
              "       1, 0, 0, 1, 0, 0, 0, 0, 0, 0, 1, 0, 0, 0, 0, 0, 0, 1, 0, 0, 1, 0,\n",
              "       0, 0, 0, 0, 1, 0, 0, 1, 1, 1, 0, 1, 0, 0, 0, 1, 1, 0, 1, 1, 0, 0,\n",
              "       1, 0, 1, 0, 1, 0, 1, 0, 1, 1, 0, 0, 1, 1, 0, 1, 1, 1, 1, 1, 0, 0,\n",
              "       1, 0, 0, 1, 0, 1, 1, 0, 0, 0, 1, 1, 1, 1, 0, 1, 1, 1, 0, 1, 0, 0,\n",
              "       0, 1, 0, 1, 1, 0, 1, 0, 1, 0, 1])"
            ]
          },
          "metadata": {
            "tags": []
          },
          "execution_count": 28
        }
      ]
    },
    {
      "cell_type": "markdown",
      "metadata": {
        "colab_type": "text",
        "id": "soLFuTcTSNrm"
      },
      "source": [
        "##### Evaluating the Algorithm\n",
        "\n"
      ]
    },
    {
      "cell_type": "code",
      "metadata": {
        "colab_type": "code",
        "outputId": "5385e238-08d9-4019-d92a-cbdb66dddb45",
        "id": "IYOY8GqFSNrn",
        "colab": {
          "base_uri": "https://localhost:8080/",
          "height": 35
        }
      },
      "source": [
        "dt_score = dt.score(X_test, y_test)\n",
        "print(f\"Decision Tree classifier accuracy score is {dt_score}\")"
      ],
      "execution_count": 29,
      "outputs": [
        {
          "output_type": "stream",
          "text": [
            "Decision Tree classifier accuracy score is 0.9927272727272727\n"
          ],
          "name": "stdout"
        }
      ]
    },
    {
      "cell_type": "markdown",
      "metadata": {
        "colab_type": "text",
        "id": "pSKS600B8a7r"
      },
      "source": [
        "## Extra section"
      ]
    },
    {
      "cell_type": "markdown",
      "metadata": {
        "colab_type": "text",
        "id": "VOR4z1m7Qoss"
      },
      "source": [
        "### Visualize decision tree"
      ]
    },
    {
      "cell_type": "markdown",
      "metadata": {
        "colab_type": "text",
        "id": "flCqCeIl8xm9"
      },
      "source": [
        "We can visualize the Decision Tree model using the [Graphviz](https://www.graphviz.org/) tool.\n",
        "\n",
        "Graphviz is an easy tool for drawing graph. For example: the code\n",
        "\n",
        "```\n",
        "digraph G {Hello->World}\n",
        "```\n",
        "\n",
        "will generate the following graph\n",
        "\n",
        "![digraph](https://graphviz.gitlab.io/_pages/Gallery/directed/hello.png)\n",
        "\n",
        "* More example https://www.graphviz.org/gallery/\n",
        "* You can play around at http://www.webgraphviz.com/ or https://dreampuf.github.io/GraphvizOnline/"
      ]
    },
    {
      "cell_type": "markdown",
      "metadata": {
        "colab_type": "text",
        "id": "mIG3R9Lk_5NS"
      },
      "source": [
        "So let's generate the graph."
      ]
    },
    {
      "cell_type": "code",
      "metadata": {
        "colab_type": "code",
        "id": "YIZ49PfhQosu",
        "outputId": "01d549a5-b21e-4402-f150-152ef259b516",
        "colab": {
          "base_uri": "https://localhost:8080/",
          "height": 1000
        }
      },
      "source": [
        "from sklearn.tree import export_graphviz\n",
        "dot_data = export_graphviz(dt, out_file=None)\n",
        "print(dot_data)"
      ],
      "execution_count": 30,
      "outputs": [
        {
          "output_type": "stream",
          "text": [
            "digraph Tree {\n",
            "node [shape=box] ;\n",
            "0 [label=\"X[0] <= 0.32\\ngini = 0.494\\nsamples = 1097\\nvalue = [610, 487]\"] ;\n",
            "1 [label=\"X[1] <= 7.565\\ngini = 0.303\\nsamples = 520\\nvalue = [97, 423]\"] ;\n",
            "0 -> 1 [labeldistance=2.5, labelangle=45, headlabel=\"True\"] ;\n",
            "2 [label=\"X[0] <= -0.403\\ngini = 0.121\\nsamples = 434\\nvalue = [28, 406]\"] ;\n",
            "1 -> 2 ;\n",
            "3 [label=\"X[2] <= 6.162\\ngini = 0.058\\nsamples = 366\\nvalue = [11, 355]\"] ;\n",
            "2 -> 3 ;\n",
            "4 [label=\"X[1] <= 7.293\\ngini = 0.008\\nsamples = 257\\nvalue = [1, 256]\"] ;\n",
            "3 -> 4 ;\n",
            "5 [label=\"gini = 0.0\\nsamples = 253\\nvalue = [0, 253]\"] ;\n",
            "4 -> 5 ;\n",
            "6 [label=\"X[1] <= 7.349\\ngini = 0.375\\nsamples = 4\\nvalue = [1, 3]\"] ;\n",
            "4 -> 6 ;\n",
            "7 [label=\"gini = 0.0\\nsamples = 1\\nvalue = [1, 0]\"] ;\n",
            "6 -> 7 ;\n",
            "8 [label=\"gini = 0.0\\nsamples = 3\\nvalue = [0, 3]\"] ;\n",
            "6 -> 8 ;\n",
            "9 [label=\"X[1] <= -4.675\\ngini = 0.167\\nsamples = 109\\nvalue = [10, 99]\"] ;\n",
            "3 -> 9 ;\n",
            "10 [label=\"gini = 0.0\\nsamples = 98\\nvalue = [0, 98]\"] ;\n",
            "9 -> 10 ;\n",
            "11 [label=\"X[0] <= -2.117\\ngini = 0.165\\nsamples = 11\\nvalue = [10, 1]\"] ;\n",
            "9 -> 11 ;\n",
            "12 [label=\"X[2] <= 6.615\\ngini = 0.5\\nsamples = 2\\nvalue = [1, 1]\"] ;\n",
            "11 -> 12 ;\n",
            "13 [label=\"gini = 0.0\\nsamples = 1\\nvalue = [0, 1]\"] ;\n",
            "12 -> 13 ;\n",
            "14 [label=\"gini = 0.0\\nsamples = 1\\nvalue = [1, 0]\"] ;\n",
            "12 -> 14 ;\n",
            "15 [label=\"gini = 0.0\\nsamples = 9\\nvalue = [9, 0]\"] ;\n",
            "11 -> 15 ;\n",
            "16 [label=\"X[1] <= 5.391\\ngini = 0.375\\nsamples = 68\\nvalue = [17, 51]\"] ;\n",
            "2 -> 16 ;\n",
            "17 [label=\"X[2] <= 2.617\\ngini = 0.234\\nsamples = 59\\nvalue = [8, 51]\"] ;\n",
            "16 -> 17 ;\n",
            "18 [label=\"gini = 0.0\\nsamples = 50\\nvalue = [0, 50]\"] ;\n",
            "17 -> 18 ;\n",
            "19 [label=\"X[3] <= 1.151\\ngini = 0.198\\nsamples = 9\\nvalue = [8, 1]\"] ;\n",
            "17 -> 19 ;\n",
            "20 [label=\"gini = 0.0\\nsamples = 8\\nvalue = [8, 0]\"] ;\n",
            "19 -> 20 ;\n",
            "21 [label=\"gini = 0.0\\nsamples = 1\\nvalue = [0, 1]\"] ;\n",
            "19 -> 21 ;\n",
            "22 [label=\"gini = 0.0\\nsamples = 9\\nvalue = [9, 0]\"] ;\n",
            "16 -> 22 ;\n",
            "23 [label=\"X[0] <= -4.726\\ngini = 0.317\\nsamples = 86\\nvalue = [69, 17]\"] ;\n",
            "1 -> 23 ;\n",
            "24 [label=\"gini = 0.0\\nsamples = 17\\nvalue = [0, 17]\"] ;\n",
            "23 -> 24 ;\n",
            "25 [label=\"gini = 0.0\\nsamples = 69\\nvalue = [69, 0]\"] ;\n",
            "23 -> 25 ;\n",
            "26 [label=\"X[2] <= -4.386\\ngini = 0.197\\nsamples = 577\\nvalue = [513, 64]\"] ;\n",
            "0 -> 26 [labeldistance=2.5, labelangle=-45, headlabel=\"False\"] ;\n",
            "27 [label=\"X[0] <= 3.304\\ngini = 0.401\\nsamples = 36\\nvalue = [10, 26]\"] ;\n",
            "26 -> 27 ;\n",
            "28 [label=\"gini = 0.0\\nsamples = 26\\nvalue = [0, 26]\"] ;\n",
            "27 -> 28 ;\n",
            "29 [label=\"gini = 0.0\\nsamples = 10\\nvalue = [10, 0]\"] ;\n",
            "27 -> 29 ;\n",
            "30 [label=\"X[0] <= 1.509\\ngini = 0.131\\nsamples = 541\\nvalue = [503, 38]\"] ;\n",
            "26 -> 30 ;\n",
            "31 [label=\"X[2] <= -2.19\\ngini = 0.379\\nsamples = 138\\nvalue = [103, 35]\"] ;\n",
            "30 -> 31 ;\n",
            "32 [label=\"X[1] <= 5.667\\ngini = 0.287\\nsamples = 23\\nvalue = [4, 19]\"] ;\n",
            "31 -> 32 ;\n",
            "33 [label=\"gini = 0.0\\nsamples = 19\\nvalue = [0, 19]\"] ;\n",
            "32 -> 33 ;\n",
            "34 [label=\"gini = 0.0\\nsamples = 4\\nvalue = [4, 0]\"] ;\n",
            "32 -> 34 ;\n",
            "35 [label=\"X[3] <= 0.106\\ngini = 0.24\\nsamples = 115\\nvalue = [99, 16]\"] ;\n",
            "31 -> 35 ;\n",
            "36 [label=\"X[2] <= -1.434\\ngini = 0.023\\nsamples = 85\\nvalue = [84, 1]\"] ;\n",
            "35 -> 36 ;\n",
            "37 [label=\"X[1] <= 4.125\\ngini = 0.142\\nsamples = 13\\nvalue = [12, 1]\"] ;\n",
            "36 -> 37 ;\n",
            "38 [label=\"gini = 0.0\\nsamples = 1\\nvalue = [0, 1]\"] ;\n",
            "37 -> 38 ;\n",
            "39 [label=\"gini = 0.0\\nsamples = 12\\nvalue = [12, 0]\"] ;\n",
            "37 -> 39 ;\n",
            "40 [label=\"gini = 0.0\\nsamples = 72\\nvalue = [72, 0]\"] ;\n",
            "36 -> 40 ;\n",
            "41 [label=\"X[2] <= 1.853\\ngini = 0.5\\nsamples = 30\\nvalue = [15, 15]\"] ;\n",
            "35 -> 41 ;\n",
            "42 [label=\"X[1] <= 3.394\\ngini = 0.208\\nsamples = 17\\nvalue = [2, 15]\"] ;\n",
            "41 -> 42 ;\n",
            "43 [label=\"gini = 0.0\\nsamples = 15\\nvalue = [0, 15]\"] ;\n",
            "42 -> 43 ;\n",
            "44 [label=\"gini = 0.0\\nsamples = 2\\nvalue = [2, 0]\"] ;\n",
            "42 -> 44 ;\n",
            "45 [label=\"gini = 0.0\\nsamples = 13\\nvalue = [13, 0]\"] ;\n",
            "41 -> 45 ;\n",
            "46 [label=\"X[0] <= 2.037\\ngini = 0.015\\nsamples = 403\\nvalue = [400, 3]\"] ;\n",
            "30 -> 46 ;\n",
            "47 [label=\"X[2] <= -2.648\\ngini = 0.101\\nsamples = 56\\nvalue = [53, 3]\"] ;\n",
            "46 -> 47 ;\n",
            "48 [label=\"X[1] <= 6.473\\ngini = 0.375\\nsamples = 4\\nvalue = [1, 3]\"] ;\n",
            "47 -> 48 ;\n",
            "49 [label=\"gini = 0.0\\nsamples = 3\\nvalue = [0, 3]\"] ;\n",
            "48 -> 49 ;\n",
            "50 [label=\"gini = 0.0\\nsamples = 1\\nvalue = [1, 0]\"] ;\n",
            "48 -> 50 ;\n",
            "51 [label=\"gini = 0.0\\nsamples = 52\\nvalue = [52, 0]\"] ;\n",
            "47 -> 51 ;\n",
            "52 [label=\"gini = 0.0\\nsamples = 347\\nvalue = [347, 0]\"] ;\n",
            "46 -> 52 ;\n",
            "}\n"
          ],
          "name": "stdout"
        }
      ]
    },
    {
      "cell_type": "markdown",
      "metadata": {
        "colab_type": "text",
        "id": "0X6_ggMHFJ0Z"
      },
      "source": [
        "Copy the code above, paste it to online graphviz service like http://viz-js.com/ and see the result."
      ]
    },
    {
      "cell_type": "markdown",
      "metadata": {
        "colab_type": "text",
        "id": "NnUDorsr8wjv"
      },
      "source": [
        "### Jypiter does it all"
      ]
    },
    {
      "cell_type": "markdown",
      "metadata": {
        "colab_type": "text",
        "id": "tZsrkGvwBBta"
      },
      "source": [
        "If we want to display the graph automatically inside Jupiter, we'll need\n",
        "* Install Graphviz binary\n",
        "* Call the Graphviz inside Jupiter and grab the result.\n",
        "\n",
        "**Note**: Google Colab does not let us install Graphviz binary, so that we cant make with work with Google Colab.\n"
      ]
    },
    {
      "cell_type": "code",
      "metadata": {
        "colab_type": "code",
        "id": "ASScryziBlf8",
        "outputId": "d81f9dea-a826-4150-ba63-f5e9b4bf3c92",
        "colab": {
          "base_uri": "https://localhost:8080/",
          "height": 35
        }
      },
      "source": [
        "\"\"\"\n",
        "Install lib that call Graphviz binary\n",
        "\"\"\"\n",
        "\n",
        "#pip3 install graphviz"
      ],
      "execution_count": 31,
      "outputs": [
        {
          "output_type": "execute_result",
          "data": {
            "text/plain": [
              "'\\nInstall lib that call Graphviz binary\\n'"
            ]
          },
          "metadata": {
            "tags": []
          },
          "execution_count": 31
        }
      ]
    },
    {
      "cell_type": "code",
      "metadata": {
        "colab_type": "code",
        "id": "1eRgxNHtQosy",
        "colab": {
          "base_uri": "https://localhost:8080/",
          "height": 1000
        },
        "outputId": "8b4f1b5a-9337-4cfb-9fe5-3a8a91915b6f"
      },
      "source": [
        "import graphviz \n",
        "graph = graphviz.Source(dot_data)\n",
        "graph"
      ],
      "execution_count": 33,
      "outputs": [
        {
          "output_type": "execute_result",
          "data": {
            "text/plain": [
              "<graphviz.files.Source at 0x7f6946a9d780>"
            ],
            "image/svg+xml": "<?xml version=\"1.0\" encoding=\"UTF-8\" standalone=\"no\"?>\n<!DOCTYPE svg PUBLIC \"-//W3C//DTD SVG 1.1//EN\"\n \"http://www.w3.org/Graphics/SVG/1.1/DTD/svg11.dtd\">\n<!-- Generated by graphviz version 2.40.1 (20161225.0304)\n -->\n<!-- Title: Tree Pages: 1 -->\n<svg width=\"1635pt\" height=\"789pt\"\n viewBox=\"0.00 0.00 1635.00 789.00\" xmlns=\"http://www.w3.org/2000/svg\" xmlns:xlink=\"http://www.w3.org/1999/xlink\">\n<g id=\"graph0\" class=\"graph\" transform=\"scale(1 1) rotate(0) translate(4 785)\">\n<title>Tree</title>\n<polygon fill=\"#ffffff\" stroke=\"transparent\" points=\"-4,4 -4,-785 1631,-785 1631,4 -4,4\"/>\n<!-- 0 -->\n<g id=\"node1\" class=\"node\">\n<title>0</title>\n<polygon fill=\"none\" stroke=\"#000000\" points=\"901.5,-781 776.5,-781 776.5,-713 901.5,-713 901.5,-781\"/>\n<text text-anchor=\"middle\" x=\"839\" y=\"-765.8\" font-family=\"Times,serif\" font-size=\"14.00\" fill=\"#000000\">X[0] &lt;= 0.32</text>\n<text text-anchor=\"middle\" x=\"839\" y=\"-750.8\" font-family=\"Times,serif\" font-size=\"14.00\" fill=\"#000000\">gini = 0.494</text>\n<text text-anchor=\"middle\" x=\"839\" y=\"-735.8\" font-family=\"Times,serif\" font-size=\"14.00\" fill=\"#000000\">samples = 1097</text>\n<text text-anchor=\"middle\" x=\"839\" y=\"-720.8\" font-family=\"Times,serif\" font-size=\"14.00\" fill=\"#000000\">value = [610, 487]</text>\n</g>\n<!-- 1 -->\n<g id=\"node2\" class=\"node\">\n<title>1</title>\n<polygon fill=\"none\" stroke=\"#000000\" points=\"781.5,-677 664.5,-677 664.5,-609 781.5,-609 781.5,-677\"/>\n<text text-anchor=\"middle\" x=\"723\" y=\"-661.8\" font-family=\"Times,serif\" font-size=\"14.00\" fill=\"#000000\">X[1] &lt;= 7.565</text>\n<text text-anchor=\"middle\" x=\"723\" y=\"-646.8\" font-family=\"Times,serif\" font-size=\"14.00\" fill=\"#000000\">gini = 0.303</text>\n<text text-anchor=\"middle\" x=\"723\" y=\"-631.8\" font-family=\"Times,serif\" font-size=\"14.00\" fill=\"#000000\">samples = 520</text>\n<text text-anchor=\"middle\" x=\"723\" y=\"-616.8\" font-family=\"Times,serif\" font-size=\"14.00\" fill=\"#000000\">value = [97, 423]</text>\n</g>\n<!-- 0&#45;&gt;1 -->\n<g id=\"edge1\" class=\"edge\">\n<title>0&#45;&gt;1</title>\n<path fill=\"none\" stroke=\"#000000\" d=\"M801.0173,-712.9465C790.7023,-703.6986 779.4246,-693.5876 768.7301,-683.9994\"/>\n<polygon fill=\"#000000\" stroke=\"#000000\" points=\"770.8502,-681.1995 761.0681,-677.13 766.1774,-686.4115 770.8502,-681.1995\"/>\n<text text-anchor=\"middle\" x=\"762.4297\" y=\"-698.3929\" font-family=\"Times,serif\" font-size=\"14.00\" fill=\"#000000\">True</text>\n</g>\n<!-- 26 -->\n<g id=\"node27\" class=\"node\">\n<title>26</title>\n<polygon fill=\"none\" stroke=\"#000000\" points=\"1023.5,-677 906.5,-677 906.5,-609 1023.5,-609 1023.5,-677\"/>\n<text text-anchor=\"middle\" x=\"965\" y=\"-661.8\" font-family=\"Times,serif\" font-size=\"14.00\" fill=\"#000000\">X[2] &lt;= &#45;4.386</text>\n<text text-anchor=\"middle\" x=\"965\" y=\"-646.8\" font-family=\"Times,serif\" font-size=\"14.00\" fill=\"#000000\">gini = 0.197</text>\n<text text-anchor=\"middle\" x=\"965\" y=\"-631.8\" font-family=\"Times,serif\" font-size=\"14.00\" fill=\"#000000\">samples = 577</text>\n<text text-anchor=\"middle\" x=\"965\" y=\"-616.8\" font-family=\"Times,serif\" font-size=\"14.00\" fill=\"#000000\">value = [513, 64]</text>\n</g>\n<!-- 0&#45;&gt;26 -->\n<g id=\"edge26\" class=\"edge\">\n<title>0&#45;&gt;26</title>\n<path fill=\"none\" stroke=\"#000000\" d=\"M880.2571,-712.9465C891.5701,-703.6088 903.9492,-693.3911 915.6658,-683.7203\"/>\n<polygon fill=\"#000000\" stroke=\"#000000\" points=\"918.1659,-686.195 923.6502,-677.13 913.71,-680.7964 918.1659,-686.195\"/>\n<text text-anchor=\"middle\" x=\"921.2698\" y=\"-698.3164\" font-family=\"Times,serif\" font-size=\"14.00\" fill=\"#000000\">False</text>\n</g>\n<!-- 2 -->\n<g id=\"node3\" class=\"node\">\n<title>2</title>\n<polygon fill=\"none\" stroke=\"#000000\" points=\"601.5,-573 484.5,-573 484.5,-505 601.5,-505 601.5,-573\"/>\n<text text-anchor=\"middle\" x=\"543\" y=\"-557.8\" font-family=\"Times,serif\" font-size=\"14.00\" fill=\"#000000\">X[0] &lt;= &#45;0.403</text>\n<text text-anchor=\"middle\" x=\"543\" y=\"-542.8\" font-family=\"Times,serif\" font-size=\"14.00\" fill=\"#000000\">gini = 0.121</text>\n<text text-anchor=\"middle\" x=\"543\" y=\"-527.8\" font-family=\"Times,serif\" font-size=\"14.00\" fill=\"#000000\">samples = 434</text>\n<text text-anchor=\"middle\" x=\"543\" y=\"-512.8\" font-family=\"Times,serif\" font-size=\"14.00\" fill=\"#000000\">value = [28, 406]</text>\n</g>\n<!-- 1&#45;&gt;2 -->\n<g id=\"edge2\" class=\"edge\">\n<title>1&#45;&gt;2</title>\n<path fill=\"none\" stroke=\"#000000\" d=\"M664.0613,-608.9465C647.0356,-599.1095 628.3196,-588.2958 610.8005,-578.1736\"/>\n<polygon fill=\"#000000\" stroke=\"#000000\" points=\"612.1732,-574.9246 601.7636,-572.9523 608.6713,-580.9856 612.1732,-574.9246\"/>\n</g>\n<!-- 23 -->\n<g id=\"node24\" class=\"node\">\n<title>23</title>\n<polygon fill=\"none\" stroke=\"#000000\" points=\"778,-573 668,-573 668,-505 778,-505 778,-573\"/>\n<text text-anchor=\"middle\" x=\"723\" y=\"-557.8\" font-family=\"Times,serif\" font-size=\"14.00\" fill=\"#000000\">X[0] &lt;= &#45;4.726</text>\n<text text-anchor=\"middle\" x=\"723\" y=\"-542.8\" font-family=\"Times,serif\" font-size=\"14.00\" fill=\"#000000\">gini = 0.317</text>\n<text text-anchor=\"middle\" x=\"723\" y=\"-527.8\" font-family=\"Times,serif\" font-size=\"14.00\" fill=\"#000000\">samples = 86</text>\n<text text-anchor=\"middle\" x=\"723\" y=\"-512.8\" font-family=\"Times,serif\" font-size=\"14.00\" fill=\"#000000\">value = [69, 17]</text>\n</g>\n<!-- 1&#45;&gt;23 -->\n<g id=\"edge23\" class=\"edge\">\n<title>1&#45;&gt;23</title>\n<path fill=\"none\" stroke=\"#000000\" d=\"M723,-608.9465C723,-600.776 723,-591.9318 723,-583.3697\"/>\n<polygon fill=\"#000000\" stroke=\"#000000\" points=\"726.5001,-583.13 723,-573.13 719.5001,-583.13 726.5001,-583.13\"/>\n</g>\n<!-- 3 -->\n<g id=\"node4\" class=\"node\">\n<title>3</title>\n<polygon fill=\"none\" stroke=\"#000000\" points=\"417,-469 301,-469 301,-401 417,-401 417,-469\"/>\n<text text-anchor=\"middle\" x=\"359\" y=\"-453.8\" font-family=\"Times,serif\" font-size=\"14.00\" fill=\"#000000\">X[2] &lt;= 6.162</text>\n<text text-anchor=\"middle\" x=\"359\" y=\"-438.8\" font-family=\"Times,serif\" font-size=\"14.00\" fill=\"#000000\">gini = 0.058</text>\n<text text-anchor=\"middle\" x=\"359\" y=\"-423.8\" font-family=\"Times,serif\" font-size=\"14.00\" fill=\"#000000\">samples = 366</text>\n<text text-anchor=\"middle\" x=\"359\" y=\"-408.8\" font-family=\"Times,serif\" font-size=\"14.00\" fill=\"#000000\">value = [11, 355]</text>\n</g>\n<!-- 2&#45;&gt;3 -->\n<g id=\"edge3\" class=\"edge\">\n<title>2&#45;&gt;3</title>\n<path fill=\"none\" stroke=\"#000000\" d=\"M484.2754,-505.8078C465.7533,-495.3388 445.1516,-483.6944 426.0923,-472.9217\"/>\n<polygon fill=\"#000000\" stroke=\"#000000\" points=\"427.5953,-469.7509 417.1674,-467.8772 424.1509,-475.8448 427.5953,-469.7509\"/>\n</g>\n<!-- 16 -->\n<g id=\"node17\" class=\"node\">\n<title>16</title>\n<polygon fill=\"none\" stroke=\"#000000\" points=\"598,-469 488,-469 488,-401 598,-401 598,-469\"/>\n<text text-anchor=\"middle\" x=\"543\" y=\"-453.8\" font-family=\"Times,serif\" font-size=\"14.00\" fill=\"#000000\">X[1] &lt;= 5.391</text>\n<text text-anchor=\"middle\" x=\"543\" y=\"-438.8\" font-family=\"Times,serif\" font-size=\"14.00\" fill=\"#000000\">gini = 0.375</text>\n<text text-anchor=\"middle\" x=\"543\" y=\"-423.8\" font-family=\"Times,serif\" font-size=\"14.00\" fill=\"#000000\">samples = 68</text>\n<text text-anchor=\"middle\" x=\"543\" y=\"-408.8\" font-family=\"Times,serif\" font-size=\"14.00\" fill=\"#000000\">value = [17, 51]</text>\n</g>\n<!-- 2&#45;&gt;16 -->\n<g id=\"edge16\" class=\"edge\">\n<title>2&#45;&gt;16</title>\n<path fill=\"none\" stroke=\"#000000\" d=\"M543,-504.9465C543,-496.776 543,-487.9318 543,-479.3697\"/>\n<polygon fill=\"#000000\" stroke=\"#000000\" points=\"546.5001,-479.13 543,-469.13 539.5001,-479.13 546.5001,-479.13\"/>\n</g>\n<!-- 4 -->\n<g id=\"node5\" class=\"node\">\n<title>4</title>\n<polygon fill=\"none\" stroke=\"#000000\" points=\"234,-365 124,-365 124,-297 234,-297 234,-365\"/>\n<text text-anchor=\"middle\" x=\"179\" y=\"-349.8\" font-family=\"Times,serif\" font-size=\"14.00\" fill=\"#000000\">X[1] &lt;= 7.293</text>\n<text text-anchor=\"middle\" x=\"179\" y=\"-334.8\" font-family=\"Times,serif\" font-size=\"14.00\" fill=\"#000000\">gini = 0.008</text>\n<text text-anchor=\"middle\" x=\"179\" y=\"-319.8\" font-family=\"Times,serif\" font-size=\"14.00\" fill=\"#000000\">samples = 257</text>\n<text text-anchor=\"middle\" x=\"179\" y=\"-304.8\" font-family=\"Times,serif\" font-size=\"14.00\" fill=\"#000000\">value = [1, 256]</text>\n</g>\n<!-- 3&#45;&gt;4 -->\n<g id=\"edge4\" class=\"edge\">\n<title>3&#45;&gt;4</title>\n<path fill=\"none\" stroke=\"#000000\" d=\"M300.5592,-401.2342C282.1264,-390.5841 261.6713,-378.7656 242.8796,-367.9082\"/>\n<polygon fill=\"#000000\" stroke=\"#000000\" points=\"244.5009,-364.8028 234.0912,-362.8305 240.9989,-370.8639 244.5009,-364.8028\"/>\n</g>\n<!-- 9 -->\n<g id=\"node10\" class=\"node\">\n<title>9</title>\n<polygon fill=\"none\" stroke=\"#000000\" points=\"414,-365 304,-365 304,-297 414,-297 414,-365\"/>\n<text text-anchor=\"middle\" x=\"359\" y=\"-349.8\" font-family=\"Times,serif\" font-size=\"14.00\" fill=\"#000000\">X[1] &lt;= &#45;4.675</text>\n<text text-anchor=\"middle\" x=\"359\" y=\"-334.8\" font-family=\"Times,serif\" font-size=\"14.00\" fill=\"#000000\">gini = 0.167</text>\n<text text-anchor=\"middle\" x=\"359\" y=\"-319.8\" font-family=\"Times,serif\" font-size=\"14.00\" fill=\"#000000\">samples = 109</text>\n<text text-anchor=\"middle\" x=\"359\" y=\"-304.8\" font-family=\"Times,serif\" font-size=\"14.00\" fill=\"#000000\">value = [10, 99]</text>\n</g>\n<!-- 3&#45;&gt;9 -->\n<g id=\"edge9\" class=\"edge\">\n<title>3&#45;&gt;9</title>\n<path fill=\"none\" stroke=\"#000000\" d=\"M359,-400.9465C359,-392.776 359,-383.9318 359,-375.3697\"/>\n<polygon fill=\"#000000\" stroke=\"#000000\" points=\"362.5001,-375.13 359,-365.13 355.5001,-375.13 362.5001,-375.13\"/>\n</g>\n<!-- 5 -->\n<g id=\"node6\" class=\"node\">\n<title>5</title>\n<polygon fill=\"none\" stroke=\"#000000\" points=\"110,-253.5 0,-253.5 0,-200.5 110,-200.5 110,-253.5\"/>\n<text text-anchor=\"middle\" x=\"55\" y=\"-238.3\" font-family=\"Times,serif\" font-size=\"14.00\" fill=\"#000000\">gini = 0.0</text>\n<text text-anchor=\"middle\" x=\"55\" y=\"-223.3\" font-family=\"Times,serif\" font-size=\"14.00\" fill=\"#000000\">samples = 253</text>\n<text text-anchor=\"middle\" x=\"55\" y=\"-208.3\" font-family=\"Times,serif\" font-size=\"14.00\" fill=\"#000000\">value = [0, 253]</text>\n</g>\n<!-- 4&#45;&gt;5 -->\n<g id=\"edge5\" class=\"edge\">\n<title>4&#45;&gt;5</title>\n<path fill=\"none\" stroke=\"#000000\" d=\"M138.3978,-296.9465C124.3453,-285.1606 108.6212,-271.9726 94.6465,-260.2519\"/>\n<polygon fill=\"#000000\" stroke=\"#000000\" points=\"96.5575,-257.2866 86.6464,-253.5422 92.0592,-262.65 96.5575,-257.2866\"/>\n</g>\n<!-- 6 -->\n<g id=\"node7\" class=\"node\">\n<title>6</title>\n<polygon fill=\"none\" stroke=\"#000000\" points=\"229.5,-261 128.5,-261 128.5,-193 229.5,-193 229.5,-261\"/>\n<text text-anchor=\"middle\" x=\"179\" y=\"-245.8\" font-family=\"Times,serif\" font-size=\"14.00\" fill=\"#000000\">X[1] &lt;= 7.349</text>\n<text text-anchor=\"middle\" x=\"179\" y=\"-230.8\" font-family=\"Times,serif\" font-size=\"14.00\" fill=\"#000000\">gini = 0.375</text>\n<text text-anchor=\"middle\" x=\"179\" y=\"-215.8\" font-family=\"Times,serif\" font-size=\"14.00\" fill=\"#000000\">samples = 4</text>\n<text text-anchor=\"middle\" x=\"179\" y=\"-200.8\" font-family=\"Times,serif\" font-size=\"14.00\" fill=\"#000000\">value = [1, 3]</text>\n</g>\n<!-- 4&#45;&gt;6 -->\n<g id=\"edge6\" class=\"edge\">\n<title>4&#45;&gt;6</title>\n<path fill=\"none\" stroke=\"#000000\" d=\"M179,-296.9465C179,-288.776 179,-279.9318 179,-271.3697\"/>\n<polygon fill=\"#000000\" stroke=\"#000000\" points=\"182.5001,-271.13 179,-261.13 175.5001,-271.13 182.5001,-271.13\"/>\n</g>\n<!-- 7 -->\n<g id=\"node8\" class=\"node\">\n<title>7</title>\n<polygon fill=\"none\" stroke=\"#000000\" points=\"122.5,-149.5 27.5,-149.5 27.5,-96.5 122.5,-96.5 122.5,-149.5\"/>\n<text text-anchor=\"middle\" x=\"75\" y=\"-134.3\" font-family=\"Times,serif\" font-size=\"14.00\" fill=\"#000000\">gini = 0.0</text>\n<text text-anchor=\"middle\" x=\"75\" y=\"-119.3\" font-family=\"Times,serif\" font-size=\"14.00\" fill=\"#000000\">samples = 1</text>\n<text text-anchor=\"middle\" x=\"75\" y=\"-104.3\" font-family=\"Times,serif\" font-size=\"14.00\" fill=\"#000000\">value = [1, 0]</text>\n</g>\n<!-- 6&#45;&gt;7 -->\n<g id=\"edge7\" class=\"edge\">\n<title>6&#45;&gt;7</title>\n<path fill=\"none\" stroke=\"#000000\" d=\"M144.9465,-192.9465C133.3809,-181.3809 120.4652,-168.4652 108.9107,-156.9107\"/>\n<polygon fill=\"#000000\" stroke=\"#000000\" points=\"111.0881,-154.1384 101.5422,-149.5422 106.1384,-159.0881 111.0881,-154.1384\"/>\n</g>\n<!-- 8 -->\n<g id=\"node9\" class=\"node\">\n<title>8</title>\n<polygon fill=\"none\" stroke=\"#000000\" points=\"235.5,-149.5 140.5,-149.5 140.5,-96.5 235.5,-96.5 235.5,-149.5\"/>\n<text text-anchor=\"middle\" x=\"188\" y=\"-134.3\" font-family=\"Times,serif\" font-size=\"14.00\" fill=\"#000000\">gini = 0.0</text>\n<text text-anchor=\"middle\" x=\"188\" y=\"-119.3\" font-family=\"Times,serif\" font-size=\"14.00\" fill=\"#000000\">samples = 3</text>\n<text text-anchor=\"middle\" x=\"188\" y=\"-104.3\" font-family=\"Times,serif\" font-size=\"14.00\" fill=\"#000000\">value = [0, 3]</text>\n</g>\n<!-- 6&#45;&gt;8 -->\n<g id=\"edge8\" class=\"edge\">\n<title>6&#45;&gt;8</title>\n<path fill=\"none\" stroke=\"#000000\" d=\"M181.9469,-192.9465C182.8716,-182.2621 183.8959,-170.4254 184.8349,-159.5742\"/>\n<polygon fill=\"#000000\" stroke=\"#000000\" points=\"188.3278,-159.8067 185.7031,-149.5422 181.3539,-159.2031 188.3278,-159.8067\"/>\n</g>\n<!-- 10 -->\n<g id=\"node11\" class=\"node\">\n<title>10</title>\n<polygon fill=\"none\" stroke=\"#000000\" points=\"350,-253.5 248,-253.5 248,-200.5 350,-200.5 350,-253.5\"/>\n<text text-anchor=\"middle\" x=\"299\" y=\"-238.3\" font-family=\"Times,serif\" font-size=\"14.00\" fill=\"#000000\">gini = 0.0</text>\n<text text-anchor=\"middle\" x=\"299\" y=\"-223.3\" font-family=\"Times,serif\" font-size=\"14.00\" fill=\"#000000\">samples = 98</text>\n<text text-anchor=\"middle\" x=\"299\" y=\"-208.3\" font-family=\"Times,serif\" font-size=\"14.00\" fill=\"#000000\">value = [0, 98]</text>\n</g>\n<!-- 9&#45;&gt;10 -->\n<g id=\"edge10\" class=\"edge\">\n<title>9&#45;&gt;10</title>\n<path fill=\"none\" stroke=\"#000000\" d=\"M339.3538,-296.9465C332.9355,-285.8215 325.7965,-273.4473 319.329,-262.237\"/>\n<polygon fill=\"#000000\" stroke=\"#000000\" points=\"322.3417,-260.455 314.3128,-253.5422 316.2784,-263.9531 322.3417,-260.455\"/>\n</g>\n<!-- 11 -->\n<g id=\"node12\" class=\"node\">\n<title>11</title>\n<polygon fill=\"none\" stroke=\"#000000\" points=\"473.5,-261 368.5,-261 368.5,-193 473.5,-193 473.5,-261\"/>\n<text text-anchor=\"middle\" x=\"421\" y=\"-245.8\" font-family=\"Times,serif\" font-size=\"14.00\" fill=\"#000000\">X[0] &lt;= &#45;2.117</text>\n<text text-anchor=\"middle\" x=\"421\" y=\"-230.8\" font-family=\"Times,serif\" font-size=\"14.00\" fill=\"#000000\">gini = 0.165</text>\n<text text-anchor=\"middle\" x=\"421\" y=\"-215.8\" font-family=\"Times,serif\" font-size=\"14.00\" fill=\"#000000\">samples = 11</text>\n<text text-anchor=\"middle\" x=\"421\" y=\"-200.8\" font-family=\"Times,serif\" font-size=\"14.00\" fill=\"#000000\">value = [10, 1]</text>\n</g>\n<!-- 9&#45;&gt;11 -->\n<g id=\"edge11\" class=\"edge\">\n<title>9&#45;&gt;11</title>\n<path fill=\"none\" stroke=\"#000000\" d=\"M379.3011,-296.9465C384.4396,-288.3271 390.0251,-278.9579 395.3886,-269.9611\"/>\n<polygon fill=\"#000000\" stroke=\"#000000\" points=\"398.5389,-271.5117 400.6533,-261.13 392.5263,-267.9272 398.5389,-271.5117\"/>\n</g>\n<!-- 12 -->\n<g id=\"node13\" class=\"node\">\n<title>12</title>\n<polygon fill=\"none\" stroke=\"#000000\" points=\"417.5,-157 316.5,-157 316.5,-89 417.5,-89 417.5,-157\"/>\n<text text-anchor=\"middle\" x=\"367\" y=\"-141.8\" font-family=\"Times,serif\" font-size=\"14.00\" fill=\"#000000\">X[2] &lt;= 6.615</text>\n<text text-anchor=\"middle\" x=\"367\" y=\"-126.8\" font-family=\"Times,serif\" font-size=\"14.00\" fill=\"#000000\">gini = 0.5</text>\n<text text-anchor=\"middle\" x=\"367\" y=\"-111.8\" font-family=\"Times,serif\" font-size=\"14.00\" fill=\"#000000\">samples = 2</text>\n<text text-anchor=\"middle\" x=\"367\" y=\"-96.8\" font-family=\"Times,serif\" font-size=\"14.00\" fill=\"#000000\">value = [1, 1]</text>\n</g>\n<!-- 11&#45;&gt;12 -->\n<g id=\"edge12\" class=\"edge\">\n<title>11&#45;&gt;12</title>\n<path fill=\"none\" stroke=\"#000000\" d=\"M403.3184,-192.9465C398.8895,-184.4169 394.0794,-175.153 389.4528,-166.2424\"/>\n<polygon fill=\"#000000\" stroke=\"#000000\" points=\"392.4358,-164.3921 384.7213,-157.13 386.2233,-167.6178 392.4358,-164.3921\"/>\n</g>\n<!-- 15 -->\n<g id=\"node16\" class=\"node\">\n<title>15</title>\n<polygon fill=\"none\" stroke=\"#000000\" points=\"530.5,-149.5 435.5,-149.5 435.5,-96.5 530.5,-96.5 530.5,-149.5\"/>\n<text text-anchor=\"middle\" x=\"483\" y=\"-134.3\" font-family=\"Times,serif\" font-size=\"14.00\" fill=\"#000000\">gini = 0.0</text>\n<text text-anchor=\"middle\" x=\"483\" y=\"-119.3\" font-family=\"Times,serif\" font-size=\"14.00\" fill=\"#000000\">samples = 9</text>\n<text text-anchor=\"middle\" x=\"483\" y=\"-104.3\" font-family=\"Times,serif\" font-size=\"14.00\" fill=\"#000000\">value = [9, 0]</text>\n</g>\n<!-- 11&#45;&gt;15 -->\n<g id=\"edge15\" class=\"edge\">\n<title>11&#45;&gt;15</title>\n<path fill=\"none\" stroke=\"#000000\" d=\"M441.3011,-192.9465C447.9334,-181.8215 455.3103,-169.4473 461.9933,-158.237\"/>\n<polygon fill=\"#000000\" stroke=\"#000000\" points=\"465.0624,-159.9239 467.1768,-149.5422 459.0498,-156.3394 465.0624,-159.9239\"/>\n</g>\n<!-- 13 -->\n<g id=\"node14\" class=\"node\">\n<title>13</title>\n<polygon fill=\"none\" stroke=\"#000000\" points=\"358.5,-53 263.5,-53 263.5,0 358.5,0 358.5,-53\"/>\n<text text-anchor=\"middle\" x=\"311\" y=\"-37.8\" font-family=\"Times,serif\" font-size=\"14.00\" fill=\"#000000\">gini = 0.0</text>\n<text text-anchor=\"middle\" x=\"311\" y=\"-22.8\" font-family=\"Times,serif\" font-size=\"14.00\" fill=\"#000000\">samples = 1</text>\n<text text-anchor=\"middle\" x=\"311\" y=\"-7.8\" font-family=\"Times,serif\" font-size=\"14.00\" fill=\"#000000\">value = [0, 1]</text>\n</g>\n<!-- 12&#45;&gt;13 -->\n<g id=\"edge13\" class=\"edge\">\n<title>12&#45;&gt;13</title>\n<path fill=\"none\" stroke=\"#000000\" d=\"M347.2565,-88.9777C342.2083,-80.2786 336.7669,-70.9018 331.6734,-62.1247\"/>\n<polygon fill=\"#000000\" stroke=\"#000000\" points=\"334.5689,-60.1409 326.5224,-53.2485 328.5145,-63.6544 334.5689,-60.1409\"/>\n</g>\n<!-- 14 -->\n<g id=\"node15\" class=\"node\">\n<title>14</title>\n<polygon fill=\"none\" stroke=\"#000000\" points=\"471.5,-53 376.5,-53 376.5,0 471.5,0 471.5,-53\"/>\n<text text-anchor=\"middle\" x=\"424\" y=\"-37.8\" font-family=\"Times,serif\" font-size=\"14.00\" fill=\"#000000\">gini = 0.0</text>\n<text text-anchor=\"middle\" x=\"424\" y=\"-22.8\" font-family=\"Times,serif\" font-size=\"14.00\" fill=\"#000000\">samples = 1</text>\n<text text-anchor=\"middle\" x=\"424\" y=\"-7.8\" font-family=\"Times,serif\" font-size=\"14.00\" fill=\"#000000\">value = [1, 0]</text>\n</g>\n<!-- 12&#45;&gt;14 -->\n<g id=\"edge14\" class=\"edge\">\n<title>12&#45;&gt;14</title>\n<path fill=\"none\" stroke=\"#000000\" d=\"M387.0961,-88.9777C392.2344,-80.2786 397.773,-70.9018 402.9575,-62.1247\"/>\n<polygon fill=\"#000000\" stroke=\"#000000\" points=\"406.1281,-63.6387 408.2004,-53.2485 400.101,-60.0786 406.1281,-63.6387\"/>\n</g>\n<!-- 17 -->\n<g id=\"node18\" class=\"node\">\n<title>17</title>\n<polygon fill=\"none\" stroke=\"#000000\" points=\"594,-365 492,-365 492,-297 594,-297 594,-365\"/>\n<text text-anchor=\"middle\" x=\"543\" y=\"-349.8\" font-family=\"Times,serif\" font-size=\"14.00\" fill=\"#000000\">X[2] &lt;= 2.617</text>\n<text text-anchor=\"middle\" x=\"543\" y=\"-334.8\" font-family=\"Times,serif\" font-size=\"14.00\" fill=\"#000000\">gini = 0.234</text>\n<text text-anchor=\"middle\" x=\"543\" y=\"-319.8\" font-family=\"Times,serif\" font-size=\"14.00\" fill=\"#000000\">samples = 59</text>\n<text text-anchor=\"middle\" x=\"543\" y=\"-304.8\" font-family=\"Times,serif\" font-size=\"14.00\" fill=\"#000000\">value = [8, 51]</text>\n</g>\n<!-- 16&#45;&gt;17 -->\n<g id=\"edge17\" class=\"edge\">\n<title>16&#45;&gt;17</title>\n<path fill=\"none\" stroke=\"#000000\" d=\"M543,-400.9465C543,-392.776 543,-383.9318 543,-375.3697\"/>\n<polygon fill=\"#000000\" stroke=\"#000000\" points=\"546.5001,-375.13 543,-365.13 539.5001,-375.13 546.5001,-375.13\"/>\n</g>\n<!-- 22 -->\n<g id=\"node23\" class=\"node\">\n<title>22</title>\n<polygon fill=\"none\" stroke=\"#000000\" points=\"707.5,-357.5 612.5,-357.5 612.5,-304.5 707.5,-304.5 707.5,-357.5\"/>\n<text text-anchor=\"middle\" x=\"660\" y=\"-342.3\" font-family=\"Times,serif\" font-size=\"14.00\" fill=\"#000000\">gini = 0.0</text>\n<text text-anchor=\"middle\" x=\"660\" y=\"-327.3\" font-family=\"Times,serif\" font-size=\"14.00\" fill=\"#000000\">samples = 9</text>\n<text text-anchor=\"middle\" x=\"660\" y=\"-312.3\" font-family=\"Times,serif\" font-size=\"14.00\" fill=\"#000000\">value = [9, 0]</text>\n</g>\n<!-- 16&#45;&gt;22 -->\n<g id=\"edge22\" class=\"edge\">\n<title>16&#45;&gt;22</title>\n<path fill=\"none\" stroke=\"#000000\" d=\"M581.3102,-400.9465C594.5694,-389.1606 609.4058,-375.9726 622.5916,-364.2519\"/>\n<polygon fill=\"#000000\" stroke=\"#000000\" points=\"624.9912,-366.8018 630.1401,-357.5422 620.3407,-361.5699 624.9912,-366.8018\"/>\n</g>\n<!-- 18 -->\n<g id=\"node19\" class=\"node\">\n<title>18</title>\n<polygon fill=\"none\" stroke=\"#000000\" points=\"594,-253.5 492,-253.5 492,-200.5 594,-200.5 594,-253.5\"/>\n<text text-anchor=\"middle\" x=\"543\" y=\"-238.3\" font-family=\"Times,serif\" font-size=\"14.00\" fill=\"#000000\">gini = 0.0</text>\n<text text-anchor=\"middle\" x=\"543\" y=\"-223.3\" font-family=\"Times,serif\" font-size=\"14.00\" fill=\"#000000\">samples = 50</text>\n<text text-anchor=\"middle\" x=\"543\" y=\"-208.3\" font-family=\"Times,serif\" font-size=\"14.00\" fill=\"#000000\">value = [0, 50]</text>\n</g>\n<!-- 17&#45;&gt;18 -->\n<g id=\"edge18\" class=\"edge\">\n<title>17&#45;&gt;18</title>\n<path fill=\"none\" stroke=\"#000000\" d=\"M543,-296.9465C543,-286.2621 543,-274.4254 543,-263.5742\"/>\n<polygon fill=\"#000000\" stroke=\"#000000\" points=\"546.5001,-263.5421 543,-253.5422 539.5001,-263.5422 546.5001,-263.5421\"/>\n</g>\n<!-- 19 -->\n<g id=\"node20\" class=\"node\">\n<title>19</title>\n<polygon fill=\"none\" stroke=\"#000000\" points=\"713.5,-261 612.5,-261 612.5,-193 713.5,-193 713.5,-261\"/>\n<text text-anchor=\"middle\" x=\"663\" y=\"-245.8\" font-family=\"Times,serif\" font-size=\"14.00\" fill=\"#000000\">X[3] &lt;= 1.151</text>\n<text text-anchor=\"middle\" x=\"663\" y=\"-230.8\" font-family=\"Times,serif\" font-size=\"14.00\" fill=\"#000000\">gini = 0.198</text>\n<text text-anchor=\"middle\" x=\"663\" y=\"-215.8\" font-family=\"Times,serif\" font-size=\"14.00\" fill=\"#000000\">samples = 9</text>\n<text text-anchor=\"middle\" x=\"663\" y=\"-200.8\" font-family=\"Times,serif\" font-size=\"14.00\" fill=\"#000000\">value = [8, 1]</text>\n</g>\n<!-- 17&#45;&gt;19 -->\n<g id=\"edge19\" class=\"edge\">\n<title>17&#45;&gt;19</title>\n<path fill=\"none\" stroke=\"#000000\" d=\"M582.2925,-296.9465C593.0667,-287.6088 604.8564,-277.3911 616.015,-267.7203\"/>\n<polygon fill=\"#000000\" stroke=\"#000000\" points=\"618.3546,-270.3243 623.6192,-261.13 613.7701,-265.0344 618.3546,-270.3243\"/>\n</g>\n<!-- 20 -->\n<g id=\"node21\" class=\"node\">\n<title>20</title>\n<polygon fill=\"none\" stroke=\"#000000\" points=\"651.5,-149.5 556.5,-149.5 556.5,-96.5 651.5,-96.5 651.5,-149.5\"/>\n<text text-anchor=\"middle\" x=\"604\" y=\"-134.3\" font-family=\"Times,serif\" font-size=\"14.00\" fill=\"#000000\">gini = 0.0</text>\n<text text-anchor=\"middle\" x=\"604\" y=\"-119.3\" font-family=\"Times,serif\" font-size=\"14.00\" fill=\"#000000\">samples = 8</text>\n<text text-anchor=\"middle\" x=\"604\" y=\"-104.3\" font-family=\"Times,serif\" font-size=\"14.00\" fill=\"#000000\">value = [8, 0]</text>\n</g>\n<!-- 19&#45;&gt;20 -->\n<g id=\"edge20\" class=\"edge\">\n<title>19&#45;&gt;20</title>\n<path fill=\"none\" stroke=\"#000000\" d=\"M643.6812,-192.9465C637.4324,-181.9316 630.4888,-169.6922 624.1793,-158.5703\"/>\n<polygon fill=\"#000000\" stroke=\"#000000\" points=\"627.0362,-156.513 619.0576,-149.5422 620.9477,-159.967 627.0362,-156.513\"/>\n</g>\n<!-- 21 -->\n<g id=\"node22\" class=\"node\">\n<title>21</title>\n<polygon fill=\"none\" stroke=\"#000000\" points=\"764.5,-149.5 669.5,-149.5 669.5,-96.5 764.5,-96.5 764.5,-149.5\"/>\n<text text-anchor=\"middle\" x=\"717\" y=\"-134.3\" font-family=\"Times,serif\" font-size=\"14.00\" fill=\"#000000\">gini = 0.0</text>\n<text text-anchor=\"middle\" x=\"717\" y=\"-119.3\" font-family=\"Times,serif\" font-size=\"14.00\" fill=\"#000000\">samples = 1</text>\n<text text-anchor=\"middle\" x=\"717\" y=\"-104.3\" font-family=\"Times,serif\" font-size=\"14.00\" fill=\"#000000\">value = [0, 1]</text>\n</g>\n<!-- 19&#45;&gt;21 -->\n<g id=\"edge21\" class=\"edge\">\n<title>19&#45;&gt;21</title>\n<path fill=\"none\" stroke=\"#000000\" d=\"M680.6816,-192.9465C686.4009,-181.9316 692.756,-169.6922 698.5308,-158.5703\"/>\n<polygon fill=\"#000000\" stroke=\"#000000\" points=\"701.7165,-160.03 703.2185,-149.5422 695.504,-156.8043 701.7165,-160.03\"/>\n</g>\n<!-- 24 -->\n<g id=\"node25\" class=\"node\">\n<title>24</title>\n<polygon fill=\"none\" stroke=\"#000000\" points=\"718,-461.5 616,-461.5 616,-408.5 718,-408.5 718,-461.5\"/>\n<text text-anchor=\"middle\" x=\"667\" y=\"-446.3\" font-family=\"Times,serif\" font-size=\"14.00\" fill=\"#000000\">gini = 0.0</text>\n<text text-anchor=\"middle\" x=\"667\" y=\"-431.3\" font-family=\"Times,serif\" font-size=\"14.00\" fill=\"#000000\">samples = 17</text>\n<text text-anchor=\"middle\" x=\"667\" y=\"-416.3\" font-family=\"Times,serif\" font-size=\"14.00\" fill=\"#000000\">value = [0, 17]</text>\n</g>\n<!-- 23&#45;&gt;24 -->\n<g id=\"edge24\" class=\"edge\">\n<title>23&#45;&gt;24</title>\n<path fill=\"none\" stroke=\"#000000\" d=\"M704.6635,-504.9465C698.7324,-493.9316 692.1419,-481.6922 686.1532,-470.5703\"/>\n<polygon fill=\"#000000\" stroke=\"#000000\" points=\"689.1146,-468.6875 681.2919,-461.5422 682.9513,-472.0063 689.1146,-468.6875\"/>\n</g>\n<!-- 25 -->\n<g id=\"node26\" class=\"node\">\n<title>25</title>\n<polygon fill=\"none\" stroke=\"#000000\" points=\"838,-461.5 736,-461.5 736,-408.5 838,-408.5 838,-461.5\"/>\n<text text-anchor=\"middle\" x=\"787\" y=\"-446.3\" font-family=\"Times,serif\" font-size=\"14.00\" fill=\"#000000\">gini = 0.0</text>\n<text text-anchor=\"middle\" x=\"787\" y=\"-431.3\" font-family=\"Times,serif\" font-size=\"14.00\" fill=\"#000000\">samples = 69</text>\n<text text-anchor=\"middle\" x=\"787\" y=\"-416.3\" font-family=\"Times,serif\" font-size=\"14.00\" fill=\"#000000\">value = [69, 0]</text>\n</g>\n<!-- 23&#45;&gt;25 -->\n<g id=\"edge25\" class=\"edge\">\n<title>23&#45;&gt;25</title>\n<path fill=\"none\" stroke=\"#000000\" d=\"M743.956,-504.9465C750.8022,-493.8215 758.4171,-481.4473 765.3157,-470.237\"/>\n<polygon fill=\"#000000\" stroke=\"#000000\" points=\"768.4061,-471.8931 770.6664,-461.5422 762.4445,-468.2244 768.4061,-471.8931\"/>\n</g>\n<!-- 27 -->\n<g id=\"node28\" class=\"node\">\n<title>27</title>\n<polygon fill=\"none\" stroke=\"#000000\" points=\"1020,-573 910,-573 910,-505 1020,-505 1020,-573\"/>\n<text text-anchor=\"middle\" x=\"965\" y=\"-557.8\" font-family=\"Times,serif\" font-size=\"14.00\" fill=\"#000000\">X[0] &lt;= 3.304</text>\n<text text-anchor=\"middle\" x=\"965\" y=\"-542.8\" font-family=\"Times,serif\" font-size=\"14.00\" fill=\"#000000\">gini = 0.401</text>\n<text text-anchor=\"middle\" x=\"965\" y=\"-527.8\" font-family=\"Times,serif\" font-size=\"14.00\" fill=\"#000000\">samples = 36</text>\n<text text-anchor=\"middle\" x=\"965\" y=\"-512.8\" font-family=\"Times,serif\" font-size=\"14.00\" fill=\"#000000\">value = [10, 26]</text>\n</g>\n<!-- 26&#45;&gt;27 -->\n<g id=\"edge27\" class=\"edge\">\n<title>26&#45;&gt;27</title>\n<path fill=\"none\" stroke=\"#000000\" d=\"M965,-608.9465C965,-600.776 965,-591.9318 965,-583.3697\"/>\n<polygon fill=\"#000000\" stroke=\"#000000\" points=\"968.5001,-583.13 965,-573.13 961.5001,-583.13 968.5001,-583.13\"/>\n</g>\n<!-- 30 -->\n<g id=\"node31\" class=\"node\">\n<title>30</title>\n<polygon fill=\"none\" stroke=\"#000000\" points=\"1213.5,-573 1096.5,-573 1096.5,-505 1213.5,-505 1213.5,-573\"/>\n<text text-anchor=\"middle\" x=\"1155\" y=\"-557.8\" font-family=\"Times,serif\" font-size=\"14.00\" fill=\"#000000\">X[0] &lt;= 1.509</text>\n<text text-anchor=\"middle\" x=\"1155\" y=\"-542.8\" font-family=\"Times,serif\" font-size=\"14.00\" fill=\"#000000\">gini = 0.131</text>\n<text text-anchor=\"middle\" x=\"1155\" y=\"-527.8\" font-family=\"Times,serif\" font-size=\"14.00\" fill=\"#000000\">samples = 541</text>\n<text text-anchor=\"middle\" x=\"1155\" y=\"-512.8\" font-family=\"Times,serif\" font-size=\"14.00\" fill=\"#000000\">value = [503, 38]</text>\n</g>\n<!-- 26&#45;&gt;30 -->\n<g id=\"edge30\" class=\"edge\">\n<title>26&#45;&gt;30</title>\n<path fill=\"none\" stroke=\"#000000\" d=\"M1023.5566,-610.948C1043.7828,-599.8768 1066.6068,-587.3836 1087.4912,-575.9522\"/>\n<polygon fill=\"#000000\" stroke=\"#000000\" points=\"1089.2183,-578.9969 1096.3097,-571.1252 1085.8573,-572.8566 1089.2183,-578.9969\"/>\n</g>\n<!-- 28 -->\n<g id=\"node29\" class=\"node\">\n<title>28</title>\n<polygon fill=\"none\" stroke=\"#000000\" points=\"958,-461.5 856,-461.5 856,-408.5 958,-408.5 958,-461.5\"/>\n<text text-anchor=\"middle\" x=\"907\" y=\"-446.3\" font-family=\"Times,serif\" font-size=\"14.00\" fill=\"#000000\">gini = 0.0</text>\n<text text-anchor=\"middle\" x=\"907\" y=\"-431.3\" font-family=\"Times,serif\" font-size=\"14.00\" fill=\"#000000\">samples = 26</text>\n<text text-anchor=\"middle\" x=\"907\" y=\"-416.3\" font-family=\"Times,serif\" font-size=\"14.00\" fill=\"#000000\">value = [0, 26]</text>\n</g>\n<!-- 27&#45;&gt;28 -->\n<g id=\"edge28\" class=\"edge\">\n<title>27&#45;&gt;28</title>\n<path fill=\"none\" stroke=\"#000000\" d=\"M946.0086,-504.9465C939.8657,-493.9316 933.0399,-481.6922 926.8373,-470.5703\"/>\n<polygon fill=\"#000000\" stroke=\"#000000\" points=\"929.7299,-468.5711 921.8024,-461.5422 923.6163,-471.9806 929.7299,-468.5711\"/>\n</g>\n<!-- 29 -->\n<g id=\"node30\" class=\"node\">\n<title>29</title>\n<polygon fill=\"none\" stroke=\"#000000\" points=\"1078,-461.5 976,-461.5 976,-408.5 1078,-408.5 1078,-461.5\"/>\n<text text-anchor=\"middle\" x=\"1027\" y=\"-446.3\" font-family=\"Times,serif\" font-size=\"14.00\" fill=\"#000000\">gini = 0.0</text>\n<text text-anchor=\"middle\" x=\"1027\" y=\"-431.3\" font-family=\"Times,serif\" font-size=\"14.00\" fill=\"#000000\">samples = 10</text>\n<text text-anchor=\"middle\" x=\"1027\" y=\"-416.3\" font-family=\"Times,serif\" font-size=\"14.00\" fill=\"#000000\">value = [10, 0]</text>\n</g>\n<!-- 27&#45;&gt;29 -->\n<g id=\"edge29\" class=\"edge\">\n<title>27&#45;&gt;29</title>\n<path fill=\"none\" stroke=\"#000000\" d=\"M985.3011,-504.9465C991.9334,-493.8215 999.3103,-481.4473 1005.9933,-470.237\"/>\n<polygon fill=\"#000000\" stroke=\"#000000\" points=\"1009.0624,-471.9239 1011.1768,-461.5422 1003.0498,-468.3394 1009.0624,-471.9239\"/>\n</g>\n<!-- 31 -->\n<g id=\"node32\" class=\"node\">\n<title>31</title>\n<polygon fill=\"none\" stroke=\"#000000\" points=\"1213.5,-469 1096.5,-469 1096.5,-401 1213.5,-401 1213.5,-469\"/>\n<text text-anchor=\"middle\" x=\"1155\" y=\"-453.8\" font-family=\"Times,serif\" font-size=\"14.00\" fill=\"#000000\">X[2] &lt;= &#45;2.19</text>\n<text text-anchor=\"middle\" x=\"1155\" y=\"-438.8\" font-family=\"Times,serif\" font-size=\"14.00\" fill=\"#000000\">gini = 0.379</text>\n<text text-anchor=\"middle\" x=\"1155\" y=\"-423.8\" font-family=\"Times,serif\" font-size=\"14.00\" fill=\"#000000\">samples = 138</text>\n<text text-anchor=\"middle\" x=\"1155\" y=\"-408.8\" font-family=\"Times,serif\" font-size=\"14.00\" fill=\"#000000\">value = [103, 35]</text>\n</g>\n<!-- 30&#45;&gt;31 -->\n<g id=\"edge31\" class=\"edge\">\n<title>30&#45;&gt;31</title>\n<path fill=\"none\" stroke=\"#000000\" d=\"M1155,-504.9465C1155,-496.776 1155,-487.9318 1155,-479.3697\"/>\n<polygon fill=\"#000000\" stroke=\"#000000\" points=\"1158.5001,-479.13 1155,-469.13 1151.5001,-479.13 1158.5001,-479.13\"/>\n</g>\n<!-- 46 -->\n<g id=\"node47\" class=\"node\">\n<title>46</title>\n<polygon fill=\"none\" stroke=\"#000000\" points=\"1501,-469 1391,-469 1391,-401 1501,-401 1501,-469\"/>\n<text text-anchor=\"middle\" x=\"1446\" y=\"-453.8\" font-family=\"Times,serif\" font-size=\"14.00\" fill=\"#000000\">X[0] &lt;= 2.037</text>\n<text text-anchor=\"middle\" x=\"1446\" y=\"-438.8\" font-family=\"Times,serif\" font-size=\"14.00\" fill=\"#000000\">gini = 0.015</text>\n<text text-anchor=\"middle\" x=\"1446\" y=\"-423.8\" font-family=\"Times,serif\" font-size=\"14.00\" fill=\"#000000\">samples = 403</text>\n<text text-anchor=\"middle\" x=\"1446\" y=\"-408.8\" font-family=\"Times,serif\" font-size=\"14.00\" fill=\"#000000\">value = [400, 3]</text>\n</g>\n<!-- 30&#45;&gt;46 -->\n<g id=\"edge46\" class=\"edge\">\n<title>30&#45;&gt;46</title>\n<path fill=\"none\" stroke=\"#000000\" d=\"M1213.5381,-518.0792C1262.0297,-500.7489 1330.8761,-476.1439 1381.056,-458.2102\"/>\n<polygon fill=\"#000000\" stroke=\"#000000\" points=\"1382.2764,-461.491 1390.5151,-454.8296 1379.9205,-454.8993 1382.2764,-461.491\"/>\n</g>\n<!-- 32 -->\n<g id=\"node33\" class=\"node\">\n<title>32</title>\n<polygon fill=\"none\" stroke=\"#000000\" points=\"1021,-365 919,-365 919,-297 1021,-297 1021,-365\"/>\n<text text-anchor=\"middle\" x=\"970\" y=\"-349.8\" font-family=\"Times,serif\" font-size=\"14.00\" fill=\"#000000\">X[1] &lt;= 5.667</text>\n<text text-anchor=\"middle\" x=\"970\" y=\"-334.8\" font-family=\"Times,serif\" font-size=\"14.00\" fill=\"#000000\">gini = 0.287</text>\n<text text-anchor=\"middle\" x=\"970\" y=\"-319.8\" font-family=\"Times,serif\" font-size=\"14.00\" fill=\"#000000\">samples = 23</text>\n<text text-anchor=\"middle\" x=\"970\" y=\"-304.8\" font-family=\"Times,serif\" font-size=\"14.00\" fill=\"#000000\">value = [4, 19]</text>\n</g>\n<!-- 31&#45;&gt;32 -->\n<g id=\"edge32\" class=\"edge\">\n<title>31&#45;&gt;32</title>\n<path fill=\"none\" stroke=\"#000000\" d=\"M1096.4648,-402.0938C1075.3462,-390.2216 1051.4846,-376.8076 1030.224,-364.8557\"/>\n<polygon fill=\"#000000\" stroke=\"#000000\" points=\"1031.7193,-361.6812 1021.2871,-359.8317 1028.289,-367.7831 1031.7193,-361.6812\"/>\n</g>\n<!-- 35 -->\n<g id=\"node36\" class=\"node\">\n<title>35</title>\n<polygon fill=\"none\" stroke=\"#000000\" points=\"1210,-365 1100,-365 1100,-297 1210,-297 1210,-365\"/>\n<text text-anchor=\"middle\" x=\"1155\" y=\"-349.8\" font-family=\"Times,serif\" font-size=\"14.00\" fill=\"#000000\">X[3] &lt;= 0.106</text>\n<text text-anchor=\"middle\" x=\"1155\" y=\"-334.8\" font-family=\"Times,serif\" font-size=\"14.00\" fill=\"#000000\">gini = 0.24</text>\n<text text-anchor=\"middle\" x=\"1155\" y=\"-319.8\" font-family=\"Times,serif\" font-size=\"14.00\" fill=\"#000000\">samples = 115</text>\n<text text-anchor=\"middle\" x=\"1155\" y=\"-304.8\" font-family=\"Times,serif\" font-size=\"14.00\" fill=\"#000000\">value = [99, 16]</text>\n</g>\n<!-- 31&#45;&gt;35 -->\n<g id=\"edge35\" class=\"edge\">\n<title>31&#45;&gt;35</title>\n<path fill=\"none\" stroke=\"#000000\" d=\"M1155,-400.9465C1155,-392.776 1155,-383.9318 1155,-375.3697\"/>\n<polygon fill=\"#000000\" stroke=\"#000000\" points=\"1158.5001,-375.13 1155,-365.13 1151.5001,-375.13 1158.5001,-375.13\"/>\n</g>\n<!-- 33 -->\n<g id=\"node34\" class=\"node\">\n<title>33</title>\n<polygon fill=\"none\" stroke=\"#000000\" points=\"904,-253.5 802,-253.5 802,-200.5 904,-200.5 904,-253.5\"/>\n<text text-anchor=\"middle\" x=\"853\" y=\"-238.3\" font-family=\"Times,serif\" font-size=\"14.00\" fill=\"#000000\">gini = 0.0</text>\n<text text-anchor=\"middle\" x=\"853\" y=\"-223.3\" font-family=\"Times,serif\" font-size=\"14.00\" fill=\"#000000\">samples = 19</text>\n<text text-anchor=\"middle\" x=\"853\" y=\"-208.3\" font-family=\"Times,serif\" font-size=\"14.00\" fill=\"#000000\">value = [0, 19]</text>\n</g>\n<!-- 32&#45;&gt;33 -->\n<g id=\"edge33\" class=\"edge\">\n<title>32&#45;&gt;33</title>\n<path fill=\"none\" stroke=\"#000000\" d=\"M931.6898,-296.9465C918.4306,-285.1606 903.5942,-271.9726 890.4084,-260.2519\"/>\n<polygon fill=\"#000000\" stroke=\"#000000\" points=\"892.6593,-257.5699 882.8599,-253.5422 888.0088,-262.8018 892.6593,-257.5699\"/>\n</g>\n<!-- 34 -->\n<g id=\"node35\" class=\"node\">\n<title>34</title>\n<polygon fill=\"none\" stroke=\"#000000\" points=\"1017.5,-253.5 922.5,-253.5 922.5,-200.5 1017.5,-200.5 1017.5,-253.5\"/>\n<text text-anchor=\"middle\" x=\"970\" y=\"-238.3\" font-family=\"Times,serif\" font-size=\"14.00\" fill=\"#000000\">gini = 0.0</text>\n<text text-anchor=\"middle\" x=\"970\" y=\"-223.3\" font-family=\"Times,serif\" font-size=\"14.00\" fill=\"#000000\">samples = 4</text>\n<text text-anchor=\"middle\" x=\"970\" y=\"-208.3\" font-family=\"Times,serif\" font-size=\"14.00\" fill=\"#000000\">value = [4, 0]</text>\n</g>\n<!-- 32&#45;&gt;34 -->\n<g id=\"edge34\" class=\"edge\">\n<title>32&#45;&gt;34</title>\n<path fill=\"none\" stroke=\"#000000\" d=\"M970,-296.9465C970,-286.2621 970,-274.4254 970,-263.5742\"/>\n<polygon fill=\"#000000\" stroke=\"#000000\" points=\"973.5001,-263.5421 970,-253.5422 966.5001,-263.5422 973.5001,-263.5421\"/>\n</g>\n<!-- 36 -->\n<g id=\"node37\" class=\"node\">\n<title>36</title>\n<polygon fill=\"none\" stroke=\"#000000\" points=\"1142,-261 1036,-261 1036,-193 1142,-193 1142,-261\"/>\n<text text-anchor=\"middle\" x=\"1089\" y=\"-245.8\" font-family=\"Times,serif\" font-size=\"14.00\" fill=\"#000000\">X[2] &lt;= &#45;1.434</text>\n<text text-anchor=\"middle\" x=\"1089\" y=\"-230.8\" font-family=\"Times,serif\" font-size=\"14.00\" fill=\"#000000\">gini = 0.023</text>\n<text text-anchor=\"middle\" x=\"1089\" y=\"-215.8\" font-family=\"Times,serif\" font-size=\"14.00\" fill=\"#000000\">samples = 85</text>\n<text text-anchor=\"middle\" x=\"1089\" y=\"-200.8\" font-family=\"Times,serif\" font-size=\"14.00\" fill=\"#000000\">value = [84, 1]</text>\n</g>\n<!-- 35&#45;&gt;36 -->\n<g id=\"edge36\" class=\"edge\">\n<title>35&#45;&gt;36</title>\n<path fill=\"none\" stroke=\"#000000\" d=\"M1133.3891,-296.9465C1127.8622,-288.2373 1121.8494,-278.7626 1116.0854,-269.6801\"/>\n<polygon fill=\"#000000\" stroke=\"#000000\" points=\"1118.9729,-267.6979 1110.6594,-261.13 1113.0626,-271.4487 1118.9729,-267.6979\"/>\n</g>\n<!-- 41 -->\n<g id=\"node42\" class=\"node\">\n<title>41</title>\n<polygon fill=\"none\" stroke=\"#000000\" points=\"1270,-261 1160,-261 1160,-193 1270,-193 1270,-261\"/>\n<text text-anchor=\"middle\" x=\"1215\" y=\"-245.8\" font-family=\"Times,serif\" font-size=\"14.00\" fill=\"#000000\">X[2] &lt;= 1.853</text>\n<text text-anchor=\"middle\" x=\"1215\" y=\"-230.8\" font-family=\"Times,serif\" font-size=\"14.00\" fill=\"#000000\">gini = 0.5</text>\n<text text-anchor=\"middle\" x=\"1215\" y=\"-215.8\" font-family=\"Times,serif\" font-size=\"14.00\" fill=\"#000000\">samples = 30</text>\n<text text-anchor=\"middle\" x=\"1215\" y=\"-200.8\" font-family=\"Times,serif\" font-size=\"14.00\" fill=\"#000000\">value = [15, 15]</text>\n</g>\n<!-- 35&#45;&gt;41 -->\n<g id=\"edge41\" class=\"edge\">\n<title>35&#45;&gt;41</title>\n<path fill=\"none\" stroke=\"#000000\" d=\"M1174.6462,-296.9465C1179.619,-288.3271 1185.0243,-278.9579 1190.2148,-269.9611\"/>\n<polygon fill=\"#000000\" stroke=\"#000000\" points=\"1193.344,-271.5409 1195.3096,-261.13 1187.2807,-268.0428 1193.344,-271.5409\"/>\n</g>\n<!-- 37 -->\n<g id=\"node38\" class=\"node\">\n<title>37</title>\n<polygon fill=\"none\" stroke=\"#000000\" points=\"1020,-157 918,-157 918,-89 1020,-89 1020,-157\"/>\n<text text-anchor=\"middle\" x=\"969\" y=\"-141.8\" font-family=\"Times,serif\" font-size=\"14.00\" fill=\"#000000\">X[1] &lt;= 4.125</text>\n<text text-anchor=\"middle\" x=\"969\" y=\"-126.8\" font-family=\"Times,serif\" font-size=\"14.00\" fill=\"#000000\">gini = 0.142</text>\n<text text-anchor=\"middle\" x=\"969\" y=\"-111.8\" font-family=\"Times,serif\" font-size=\"14.00\" fill=\"#000000\">samples = 13</text>\n<text text-anchor=\"middle\" x=\"969\" y=\"-96.8\" font-family=\"Times,serif\" font-size=\"14.00\" fill=\"#000000\">value = [12, 1]</text>\n</g>\n<!-- 36&#45;&gt;37 -->\n<g id=\"edge37\" class=\"edge\">\n<title>36&#45;&gt;37</title>\n<path fill=\"none\" stroke=\"#000000\" d=\"M1049.7075,-192.9465C1038.9333,-183.6088 1027.1436,-173.3911 1015.985,-163.7203\"/>\n<polygon fill=\"#000000\" stroke=\"#000000\" points=\"1018.2299,-161.0344 1008.3808,-157.13 1013.6454,-166.3243 1018.2299,-161.0344\"/>\n</g>\n<!-- 40 -->\n<g id=\"node41\" class=\"node\">\n<title>40</title>\n<polygon fill=\"none\" stroke=\"#000000\" points=\"1140,-149.5 1038,-149.5 1038,-96.5 1140,-96.5 1140,-149.5\"/>\n<text text-anchor=\"middle\" x=\"1089\" y=\"-134.3\" font-family=\"Times,serif\" font-size=\"14.00\" fill=\"#000000\">gini = 0.0</text>\n<text text-anchor=\"middle\" x=\"1089\" y=\"-119.3\" font-family=\"Times,serif\" font-size=\"14.00\" fill=\"#000000\">samples = 72</text>\n<text text-anchor=\"middle\" x=\"1089\" y=\"-104.3\" font-family=\"Times,serif\" font-size=\"14.00\" fill=\"#000000\">value = [72, 0]</text>\n</g>\n<!-- 36&#45;&gt;40 -->\n<g id=\"edge40\" class=\"edge\">\n<title>36&#45;&gt;40</title>\n<path fill=\"none\" stroke=\"#000000\" d=\"M1089,-192.9465C1089,-182.2621 1089,-170.4254 1089,-159.5742\"/>\n<polygon fill=\"#000000\" stroke=\"#000000\" points=\"1092.5001,-159.5421 1089,-149.5422 1085.5001,-159.5422 1092.5001,-159.5421\"/>\n</g>\n<!-- 38 -->\n<g id=\"node39\" class=\"node\">\n<title>38</title>\n<polygon fill=\"none\" stroke=\"#000000\" points=\"900.5,-53 805.5,-53 805.5,0 900.5,0 900.5,-53\"/>\n<text text-anchor=\"middle\" x=\"853\" y=\"-37.8\" font-family=\"Times,serif\" font-size=\"14.00\" fill=\"#000000\">gini = 0.0</text>\n<text text-anchor=\"middle\" x=\"853\" y=\"-22.8\" font-family=\"Times,serif\" font-size=\"14.00\" fill=\"#000000\">samples = 1</text>\n<text text-anchor=\"middle\" x=\"853\" y=\"-7.8\" font-family=\"Times,serif\" font-size=\"14.00\" fill=\"#000000\">value = [0, 1]</text>\n</g>\n<!-- 37&#45;&gt;38 -->\n<g id=\"edge38\" class=\"edge\">\n<title>37&#45;&gt;38</title>\n<path fill=\"none\" stroke=\"#000000\" d=\"M928.1027,-88.9777C916.6551,-79.4545 904.2313,-69.1191 892.8455,-59.6473\"/>\n<polygon fill=\"#000000\" stroke=\"#000000\" points=\"895.0797,-56.9532 885.1536,-53.2485 890.6029,-62.3345 895.0797,-56.9532\"/>\n</g>\n<!-- 39 -->\n<g id=\"node40\" class=\"node\">\n<title>39</title>\n<polygon fill=\"none\" stroke=\"#000000\" points=\"1021,-53 919,-53 919,0 1021,0 1021,-53\"/>\n<text text-anchor=\"middle\" x=\"970\" y=\"-37.8\" font-family=\"Times,serif\" font-size=\"14.00\" fill=\"#000000\">gini = 0.0</text>\n<text text-anchor=\"middle\" x=\"970\" y=\"-22.8\" font-family=\"Times,serif\" font-size=\"14.00\" fill=\"#000000\">samples = 12</text>\n<text text-anchor=\"middle\" x=\"970\" y=\"-7.8\" font-family=\"Times,serif\" font-size=\"14.00\" fill=\"#000000\">value = [12, 0]</text>\n</g>\n<!-- 37&#45;&gt;39 -->\n<g id=\"edge39\" class=\"edge\">\n<title>37&#45;&gt;39</title>\n<path fill=\"none\" stroke=\"#000000\" d=\"M969.3526,-88.9777C969.438,-80.7364 969.5297,-71.887 969.6164,-63.5153\"/>\n<polygon fill=\"#000000\" stroke=\"#000000\" points=\"973.1189,-63.2842 969.7228,-53.2485 966.1193,-63.2116 973.1189,-63.2842\"/>\n</g>\n<!-- 42 -->\n<g id=\"node43\" class=\"node\">\n<title>42</title>\n<polygon fill=\"none\" stroke=\"#000000\" points=\"1260,-157 1158,-157 1158,-89 1260,-89 1260,-157\"/>\n<text text-anchor=\"middle\" x=\"1209\" y=\"-141.8\" font-family=\"Times,serif\" font-size=\"14.00\" fill=\"#000000\">X[1] &lt;= 3.394</text>\n<text text-anchor=\"middle\" x=\"1209\" y=\"-126.8\" font-family=\"Times,serif\" font-size=\"14.00\" fill=\"#000000\">gini = 0.208</text>\n<text text-anchor=\"middle\" x=\"1209\" y=\"-111.8\" font-family=\"Times,serif\" font-size=\"14.00\" fill=\"#000000\">samples = 17</text>\n<text text-anchor=\"middle\" x=\"1209\" y=\"-96.8\" font-family=\"Times,serif\" font-size=\"14.00\" fill=\"#000000\">value = [2, 15]</text>\n</g>\n<!-- 41&#45;&gt;42 -->\n<g id=\"edge42\" class=\"edge\">\n<title>41&#45;&gt;42</title>\n<path fill=\"none\" stroke=\"#000000\" d=\"M1213.0354,-192.9465C1212.564,-184.776 1212.0538,-175.9318 1211.5598,-167.3697\"/>\n<polygon fill=\"#000000\" stroke=\"#000000\" points=\"1215.0393,-166.9118 1210.969,-157.13 1208.0509,-167.315 1215.0393,-166.9118\"/>\n</g>\n<!-- 45 -->\n<g id=\"node46\" class=\"node\">\n<title>45</title>\n<polygon fill=\"none\" stroke=\"#000000\" points=\"1380,-149.5 1278,-149.5 1278,-96.5 1380,-96.5 1380,-149.5\"/>\n<text text-anchor=\"middle\" x=\"1329\" y=\"-134.3\" font-family=\"Times,serif\" font-size=\"14.00\" fill=\"#000000\">gini = 0.0</text>\n<text text-anchor=\"middle\" x=\"1329\" y=\"-119.3\" font-family=\"Times,serif\" font-size=\"14.00\" fill=\"#000000\">samples = 13</text>\n<text text-anchor=\"middle\" x=\"1329\" y=\"-104.3\" font-family=\"Times,serif\" font-size=\"14.00\" fill=\"#000000\">value = [13, 0]</text>\n</g>\n<!-- 41&#45;&gt;45 -->\n<g id=\"edge45\" class=\"edge\">\n<title>41&#45;&gt;45</title>\n<path fill=\"none\" stroke=\"#000000\" d=\"M1252.3279,-192.9465C1265.1263,-181.2707 1279.433,-168.219 1292.1901,-156.5809\"/>\n<polygon fill=\"#000000\" stroke=\"#000000\" points=\"1294.8769,-158.8675 1299.9057,-149.5422 1290.1591,-153.6961 1294.8769,-158.8675\"/>\n</g>\n<!-- 43 -->\n<g id=\"node44\" class=\"node\">\n<title>43</title>\n<polygon fill=\"none\" stroke=\"#000000\" points=\"1201,-53 1099,-53 1099,0 1201,0 1201,-53\"/>\n<text text-anchor=\"middle\" x=\"1150\" y=\"-37.8\" font-family=\"Times,serif\" font-size=\"14.00\" fill=\"#000000\">gini = 0.0</text>\n<text text-anchor=\"middle\" x=\"1150\" y=\"-22.8\" font-family=\"Times,serif\" font-size=\"14.00\" fill=\"#000000\">samples = 15</text>\n<text text-anchor=\"middle\" x=\"1150\" y=\"-7.8\" font-family=\"Times,serif\" font-size=\"14.00\" fill=\"#000000\">value = [0, 15]</text>\n</g>\n<!-- 42&#45;&gt;43 -->\n<g id=\"edge43\" class=\"edge\">\n<title>42&#45;&gt;43</title>\n<path fill=\"none\" stroke=\"#000000\" d=\"M1188.1988,-88.9777C1182.8242,-80.187 1177.0265,-70.7044 1171.6115,-61.8477\"/>\n<polygon fill=\"#000000\" stroke=\"#000000\" points=\"1174.5564,-59.9545 1166.354,-53.2485 1168.5842,-63.6059 1174.5564,-59.9545\"/>\n</g>\n<!-- 44 -->\n<g id=\"node45\" class=\"node\">\n<title>44</title>\n<polygon fill=\"none\" stroke=\"#000000\" points=\"1314.5,-53 1219.5,-53 1219.5,0 1314.5,0 1314.5,-53\"/>\n<text text-anchor=\"middle\" x=\"1267\" y=\"-37.8\" font-family=\"Times,serif\" font-size=\"14.00\" fill=\"#000000\">gini = 0.0</text>\n<text text-anchor=\"middle\" x=\"1267\" y=\"-22.8\" font-family=\"Times,serif\" font-size=\"14.00\" fill=\"#000000\">samples = 2</text>\n<text text-anchor=\"middle\" x=\"1267\" y=\"-7.8\" font-family=\"Times,serif\" font-size=\"14.00\" fill=\"#000000\">value = [2, 0]</text>\n</g>\n<!-- 42&#45;&gt;44 -->\n<g id=\"edge44\" class=\"edge\">\n<title>42&#45;&gt;44</title>\n<path fill=\"none\" stroke=\"#000000\" d=\"M1229.4486,-88.9777C1234.7322,-80.187 1240.4316,-70.7044 1245.7548,-61.8477\"/>\n<polygon fill=\"#000000\" stroke=\"#000000\" points=\"1248.7715,-63.6225 1250.9232,-53.2485 1242.7718,-60.0165 1248.7715,-63.6225\"/>\n</g>\n<!-- 47 -->\n<g id=\"node48\" class=\"node\">\n<title>47</title>\n<polygon fill=\"none\" stroke=\"#000000\" points=\"1499,-365 1393,-365 1393,-297 1499,-297 1499,-365\"/>\n<text text-anchor=\"middle\" x=\"1446\" y=\"-349.8\" font-family=\"Times,serif\" font-size=\"14.00\" fill=\"#000000\">X[2] &lt;= &#45;2.648</text>\n<text text-anchor=\"middle\" x=\"1446\" y=\"-334.8\" font-family=\"Times,serif\" font-size=\"14.00\" fill=\"#000000\">gini = 0.101</text>\n<text text-anchor=\"middle\" x=\"1446\" y=\"-319.8\" font-family=\"Times,serif\" font-size=\"14.00\" fill=\"#000000\">samples = 56</text>\n<text text-anchor=\"middle\" x=\"1446\" y=\"-304.8\" font-family=\"Times,serif\" font-size=\"14.00\" fill=\"#000000\">value = [53, 3]</text>\n</g>\n<!-- 46&#45;&gt;47 -->\n<g id=\"edge47\" class=\"edge\">\n<title>46&#45;&gt;47</title>\n<path fill=\"none\" stroke=\"#000000\" d=\"M1446,-400.9465C1446,-392.776 1446,-383.9318 1446,-375.3697\"/>\n<polygon fill=\"#000000\" stroke=\"#000000\" points=\"1449.5001,-375.13 1446,-365.13 1442.5001,-375.13 1449.5001,-375.13\"/>\n</g>\n<!-- 52 -->\n<g id=\"node53\" class=\"node\">\n<title>52</title>\n<polygon fill=\"none\" stroke=\"#000000\" points=\"1627,-357.5 1517,-357.5 1517,-304.5 1627,-304.5 1627,-357.5\"/>\n<text text-anchor=\"middle\" x=\"1572\" y=\"-342.3\" font-family=\"Times,serif\" font-size=\"14.00\" fill=\"#000000\">gini = 0.0</text>\n<text text-anchor=\"middle\" x=\"1572\" y=\"-327.3\" font-family=\"Times,serif\" font-size=\"14.00\" fill=\"#000000\">samples = 347</text>\n<text text-anchor=\"middle\" x=\"1572\" y=\"-312.3\" font-family=\"Times,serif\" font-size=\"14.00\" fill=\"#000000\">value = [347, 0]</text>\n</g>\n<!-- 46&#45;&gt;52 -->\n<g id=\"edge52\" class=\"edge\">\n<title>46&#45;&gt;52</title>\n<path fill=\"none\" stroke=\"#000000\" d=\"M1487.2571,-400.9465C1501.6697,-389.0504 1517.8127,-375.726 1532.1117,-363.9237\"/>\n<polygon fill=\"#000000\" stroke=\"#000000\" points=\"1534.3589,-366.6071 1539.8431,-357.5422 1529.9029,-361.2086 1534.3589,-366.6071\"/>\n</g>\n<!-- 48 -->\n<g id=\"node49\" class=\"node\">\n<title>48</title>\n<polygon fill=\"none\" stroke=\"#000000\" points=\"1496.5,-261 1395.5,-261 1395.5,-193 1496.5,-193 1496.5,-261\"/>\n<text text-anchor=\"middle\" x=\"1446\" y=\"-245.8\" font-family=\"Times,serif\" font-size=\"14.00\" fill=\"#000000\">X[1] &lt;= 6.473</text>\n<text text-anchor=\"middle\" x=\"1446\" y=\"-230.8\" font-family=\"Times,serif\" font-size=\"14.00\" fill=\"#000000\">gini = 0.375</text>\n<text text-anchor=\"middle\" x=\"1446\" y=\"-215.8\" font-family=\"Times,serif\" font-size=\"14.00\" fill=\"#000000\">samples = 4</text>\n<text text-anchor=\"middle\" x=\"1446\" y=\"-200.8\" font-family=\"Times,serif\" font-size=\"14.00\" fill=\"#000000\">value = [1, 3]</text>\n</g>\n<!-- 47&#45;&gt;48 -->\n<g id=\"edge48\" class=\"edge\">\n<title>47&#45;&gt;48</title>\n<path fill=\"none\" stroke=\"#000000\" d=\"M1446,-296.9465C1446,-288.776 1446,-279.9318 1446,-271.3697\"/>\n<polygon fill=\"#000000\" stroke=\"#000000\" points=\"1449.5001,-271.13 1446,-261.13 1442.5001,-271.13 1449.5001,-271.13\"/>\n</g>\n<!-- 51 -->\n<g id=\"node52\" class=\"node\">\n<title>51</title>\n<polygon fill=\"none\" stroke=\"#000000\" points=\"1617,-253.5 1515,-253.5 1515,-200.5 1617,-200.5 1617,-253.5\"/>\n<text text-anchor=\"middle\" x=\"1566\" y=\"-238.3\" font-family=\"Times,serif\" font-size=\"14.00\" fill=\"#000000\">gini = 0.0</text>\n<text text-anchor=\"middle\" x=\"1566\" y=\"-223.3\" font-family=\"Times,serif\" font-size=\"14.00\" fill=\"#000000\">samples = 52</text>\n<text text-anchor=\"middle\" x=\"1566\" y=\"-208.3\" font-family=\"Times,serif\" font-size=\"14.00\" fill=\"#000000\">value = [52, 0]</text>\n</g>\n<!-- 47&#45;&gt;51 -->\n<g id=\"edge51\" class=\"edge\">\n<title>47&#45;&gt;51</title>\n<path fill=\"none\" stroke=\"#000000\" d=\"M1485.2925,-296.9465C1498.8917,-285.1606 1514.1085,-271.9726 1527.6324,-260.2519\"/>\n<polygon fill=\"#000000\" stroke=\"#000000\" points=\"1530.1098,-262.7364 1535.3744,-253.5422 1525.5252,-257.4466 1530.1098,-262.7364\"/>\n</g>\n<!-- 49 -->\n<g id=\"node50\" class=\"node\">\n<title>49</title>\n<polygon fill=\"none\" stroke=\"#000000\" points=\"1493.5,-149.5 1398.5,-149.5 1398.5,-96.5 1493.5,-96.5 1493.5,-149.5\"/>\n<text text-anchor=\"middle\" x=\"1446\" y=\"-134.3\" font-family=\"Times,serif\" font-size=\"14.00\" fill=\"#000000\">gini = 0.0</text>\n<text text-anchor=\"middle\" x=\"1446\" y=\"-119.3\" font-family=\"Times,serif\" font-size=\"14.00\" fill=\"#000000\">samples = 3</text>\n<text text-anchor=\"middle\" x=\"1446\" y=\"-104.3\" font-family=\"Times,serif\" font-size=\"14.00\" fill=\"#000000\">value = [0, 3]</text>\n</g>\n<!-- 48&#45;&gt;49 -->\n<g id=\"edge49\" class=\"edge\">\n<title>48&#45;&gt;49</title>\n<path fill=\"none\" stroke=\"#000000\" d=\"M1446,-192.9465C1446,-182.2621 1446,-170.4254 1446,-159.5742\"/>\n<polygon fill=\"#000000\" stroke=\"#000000\" points=\"1449.5001,-159.5421 1446,-149.5422 1442.5001,-159.5422 1449.5001,-159.5421\"/>\n</g>\n<!-- 50 -->\n<g id=\"node51\" class=\"node\">\n<title>50</title>\n<polygon fill=\"none\" stroke=\"#000000\" points=\"1606.5,-149.5 1511.5,-149.5 1511.5,-96.5 1606.5,-96.5 1606.5,-149.5\"/>\n<text text-anchor=\"middle\" x=\"1559\" y=\"-134.3\" font-family=\"Times,serif\" font-size=\"14.00\" fill=\"#000000\">gini = 0.0</text>\n<text text-anchor=\"middle\" x=\"1559\" y=\"-119.3\" font-family=\"Times,serif\" font-size=\"14.00\" fill=\"#000000\">samples = 1</text>\n<text text-anchor=\"middle\" x=\"1559\" y=\"-104.3\" font-family=\"Times,serif\" font-size=\"14.00\" fill=\"#000000\">value = [1, 0]</text>\n</g>\n<!-- 48&#45;&gt;50 -->\n<g id=\"edge50\" class=\"edge\">\n<title>48&#45;&gt;50</title>\n<path fill=\"none\" stroke=\"#000000\" d=\"M1483.0004,-192.9465C1495.6866,-181.2707 1509.8678,-168.219 1522.513,-156.5809\"/>\n<polygon fill=\"#000000\" stroke=\"#000000\" points=\"1525.1731,-158.8895 1530.1609,-149.5422 1520.4327,-153.7389 1525.1731,-158.8895\"/>\n</g>\n</g>\n</svg>\n"
          },
          "metadata": {
            "tags": []
          },
          "execution_count": 33
        }
      ]
    },
    {
      "cell_type": "code",
      "metadata": {
        "id": "1iy0jA6MSNsJ",
        "colab_type": "code",
        "colab": {}
      },
      "source": [
        ""
      ],
      "execution_count": 0,
      "outputs": []
    }
  ]
}