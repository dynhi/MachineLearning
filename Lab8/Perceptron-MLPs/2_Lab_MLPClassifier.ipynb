{
  "nbformat": 4,
  "nbformat_minor": 0,
  "metadata": {
    "kernelspec": {
      "display_name": "Python 3",
      "language": "python",
      "name": "python3"
    },
    "language_info": {
      "codemirror_mode": {
        "name": "ipython",
        "version": 3
      },
      "file_extension": ".py",
      "mimetype": "text/x-python",
      "name": "python",
      "nbconvert_exporter": "python",
      "pygments_lexer": "ipython3",
      "version": "3.6.6"
    },
    "colab": {
      "name": "2-Lab-MLPClassifier.ipynb",
      "provenance": [],
      "include_colab_link": true
    }
  },
  "cells": [
    {
      "cell_type": "markdown",
      "metadata": {
        "id": "view-in-github",
        "colab_type": "text"
      },
      "source": [
        "<a href=\"https://colab.research.google.com/github/dynhi/MachineLearning/blob/master/Lab8/Perceptron-MLPs/2_Lab_MLPClassifier.ipynb\" target=\"_parent\"><img src=\"https://colab.research.google.com/assets/colab-badge.svg\" alt=\"Open In Colab\"/></a>"
      ]
    },
    {
      "cell_type": "markdown",
      "metadata": {
        "colab_type": "text",
        "id": "gvKshvFzQorr"
      },
      "source": [
        "#  Multilayer Perceptron trong Python"
      ]
    },
    {
      "cell_type": "code",
      "metadata": {
        "id": "HNP5bnpjPiTo",
        "colab_type": "code",
        "colab": {}
      },
      "source": [
        "import numpy as np\n",
        "\n",
        "from matplotlib import pyplot as plt\n",
        "from matplotlib.colors import ListedColormap\n",
        "\n",
        "from sklearn.model_selection import train_test_split\n",
        "from sklearn import preprocessing \n",
        "from sklearn.preprocessing import StandardScaler\n",
        "from sklearn.datasets import make_moons\n",
        "import numpy as np\n",
        "from sklearn.neural_network import MLPClassifier"
      ],
      "execution_count": 1,
      "outputs": []
    },
    {
      "cell_type": "markdown",
      "metadata": {
        "id": "CWquScYuPiTt",
        "colab_type": "text"
      },
      "source": [
        "## 1) MLPClassifier for toy dataset "
      ]
    },
    {
      "cell_type": "markdown",
      "metadata": {
        "id": "CxGUa3xsPiTu",
        "colab_type": "text"
      },
      "source": [
        "### Chuẩn bị dữ liệu"
      ]
    },
    {
      "cell_type": "code",
      "metadata": {
        "id": "0RiOIN16PiTv",
        "colab_type": "code",
        "colab": {}
      },
      "source": [
        "# Create artificial dataset (classification problem within 2 classes within R^2 input space)\n",
        "X, y = make_moons(n_samples=900, noise=0.2, random_state=0)"
      ],
      "execution_count": 2,
      "outputs": []
    },
    {
      "cell_type": "code",
      "metadata": {
        "id": "g0Y__MhQPiTz",
        "colab_type": "code",
        "colab": {}
      },
      "source": [
        "X = np.array(X)\n",
        "y = np.array(y)"
      ],
      "execution_count": 3,
      "outputs": []
    },
    {
      "cell_type": "code",
      "metadata": {
        "id": "iZruzkvjPiT5",
        "colab_type": "code",
        "colab": {
          "base_uri": "https://localhost:8080/",
          "height": 35
        },
        "outputId": "70a44da5-6fa5-403c-d9fb-879f86e91dbc"
      },
      "source": [
        "X.shape"
      ],
      "execution_count": 4,
      "outputs": [
        {
          "output_type": "execute_result",
          "data": {
            "text/plain": [
              "(900, 2)"
            ]
          },
          "metadata": {
            "tags": []
          },
          "execution_count": 4
        }
      ]
    },
    {
      "cell_type": "code",
      "metadata": {
        "id": "2Pk2Kv4yPiUC",
        "colab_type": "code",
        "colab": {
          "base_uri": "https://localhost:8080/",
          "height": 35
        },
        "outputId": "8f559538-57b3-48cd-f73e-f992a951fe30"
      },
      "source": [
        "y.shape"
      ],
      "execution_count": 5,
      "outputs": [
        {
          "output_type": "execute_result",
          "data": {
            "text/plain": [
              "(900,)"
            ]
          },
          "metadata": {
            "tags": []
          },
          "execution_count": 5
        }
      ]
    },
    {
      "cell_type": "code",
      "metadata": {
        "id": "5r-9rAPaPiUG",
        "colab_type": "code",
        "colab": {}
      },
      "source": [
        "# Preprocess dataset, and split into training and test part\n",
        "X = StandardScaler().fit_transform(X)\n",
        "X_train, X_test, y_train, y_test = train_test_split(X, y, test_size=0.7)"
      ],
      "execution_count": 6,
      "outputs": []
    },
    {
      "cell_type": "code",
      "metadata": {
        "id": "bd4Sh6BCPiUL",
        "colab_type": "code",
        "colab": {}
      },
      "source": [
        "# Encode class labels as binary vector (with exactly ONE bit set to 1, and all others to 0)\n",
        "Y_train_OneHot = np.eye(2)[y_train]\n",
        "Y_test_OneHot = np.eye(2)[y_test]"
      ],
      "execution_count": 7,
      "outputs": []
    },
    {
      "cell_type": "code",
      "metadata": {
        "id": "9E97iH4jPiUT",
        "colab_type": "code",
        "colab": {
          "base_uri": "https://localhost:8080/",
          "height": 35
        },
        "outputId": "bdc69952-a4ce-43d4-f6ee-4be6192588f9"
      },
      "source": [
        "X_train.shape"
      ],
      "execution_count": 8,
      "outputs": [
        {
          "output_type": "execute_result",
          "data": {
            "text/plain": [
              "(270, 2)"
            ]
          },
          "metadata": {
            "tags": []
          },
          "execution_count": 8
        }
      ]
    },
    {
      "cell_type": "code",
      "metadata": {
        "id": "hgYTlCelPiUa",
        "colab_type": "code",
        "colab": {
          "base_uri": "https://localhost:8080/",
          "height": 35
        },
        "outputId": "996bfeae-c565-4874-d9d9-18926f0f9514"
      },
      "source": [
        "y_train.shape"
      ],
      "execution_count": 9,
      "outputs": [
        {
          "output_type": "execute_result",
          "data": {
            "text/plain": [
              "(270,)"
            ]
          },
          "metadata": {
            "tags": []
          },
          "execution_count": 9
        }
      ]
    },
    {
      "cell_type": "code",
      "metadata": {
        "id": "fgcLI8GaPiUm",
        "colab_type": "code",
        "colab": {}
      },
      "source": [
        "# Plot training+testing dataset\n",
        "################################\n",
        "cm = plt.cm.RdBu\n",
        "cm_bright = ListedColormap(['#FF0000', '#0000FF'])"
      ],
      "execution_count": 10,
      "outputs": []
    },
    {
      "cell_type": "code",
      "metadata": {
        "scrolled": true,
        "id": "xBLi1ItLPiUu",
        "colab_type": "code",
        "colab": {
          "base_uri": "https://localhost:8080/",
          "height": 283
        },
        "outputId": "41e7ea20-8d34-4a3e-c9e2-12111391e984"
      },
      "source": [
        "# Plot the training points...\n",
        "plt.scatter(X_train[:, 0], X_train[:, 1], c=y_train, cmap=cm_bright)"
      ],
      "execution_count": 11,
      "outputs": [
        {
          "output_type": "execute_result",
          "data": {
            "text/plain": [
              "<matplotlib.collections.PathCollection at 0x7f75424af278>"
            ]
          },
          "metadata": {
            "tags": []
          },
          "execution_count": 11
        },
        {
          "output_type": "display_data",
          "data": {
            "image/png": "[encoded data removed]",
            "text/plain": [
              "<Figure size 432x288 with 1 Axes>"
            ]
          },
          "metadata": {
            "tags": [],
            "needs_background": "light"
          }
        }
      ]
    },
    {
      "cell_type": "code",
      "metadata": {
        "scrolled": true,
        "id": "0gO7cYuwPiU3",
        "colab_type": "code",
        "colab": {
          "base_uri": "https://localhost:8080/",
          "height": 283
        },
        "outputId": "39622009-7878-4b64-f4fa-85c112f8d496"
      },
      "source": [
        "#   ...and testing points\n",
        "plt.scatter(X_test[:, 0], X_test[:, 1], marker='x', c=y_test, cmap=cm_bright, alpha=0.3)\n"
      ],
      "execution_count": 12,
      "outputs": [
        {
          "output_type": "execute_result",
          "data": {
            "text/plain": [
              "<matplotlib.collections.PathCollection at 0x7f753f78c630>"
            ]
          },
          "metadata": {
            "tags": []
          },
          "execution_count": 12
        },
        {
          "output_type": "display_data",
          "data": {
            "image/png": "[encoded data removed]",
            "text/plain": [
              "<Figure size 432x288 with 1 Axes>"
            ]
          },
          "metadata": {
            "tags": [],
            "needs_background": "light"
          }
        }
      ]
    },
    {
      "cell_type": "markdown",
      "metadata": {
        "id": "pd2tU1P8PiU_",
        "colab_type": "text"
      },
      "source": [
        "### Xây dựng model `MLPClassifier`"
      ]
    },
    {
      "cell_type": "code",
      "metadata": {
        "scrolled": true,
        "id": "DDDgrUbvPiU_",
        "colab_type": "code",
        "colab": {
          "base_uri": "https://localhost:8080/",
          "height": 0
        },
        "outputId": "28c53b70-eccc-49d3-a0ae-01b7034fd204"
      },
      "source": [
        "\n",
        "\n",
        "clf = MLPClassifier(hidden_layer_sizes=(1, ), activation='tanh', solver='sgd', \n",
        "                    alpha=0.0000001, batch_size=4, learning_rate='constant', learning_rate_init=0.005, \n",
        "                    power_t=0.5, max_iter=500, shuffle=True, random_state=11, tol=0.00001, \n",
        "                    verbose=True, warm_start=False, momentum=0.8, nesterovs_momentum=True, \n",
        "                    early_stopping=False, validation_fraction=0.2, \n",
        "                    beta_1=0.9, beta_2=0.999, epsilon=1e-08)\n",
        "print(clf)"
      ],
      "execution_count": 13,
      "outputs": [
        {
          "output_type": "stream",
          "text": [
            "MLPClassifier(activation='tanh', alpha=1e-07, batch_size=4, beta_1=0.9,\n",
            "              beta_2=0.999, early_stopping=False, epsilon=1e-08,\n",
            "              hidden_layer_sizes=(1,), learning_rate='constant',\n",
            "              learning_rate_init=0.005, max_fun=15000, max_iter=500,\n",
            "              momentum=0.8, n_iter_no_change=10, nesterovs_momentum=True,\n",
            "              power_t=0.5, random_state=11, shuffle=True, solver='sgd',\n",
            "              tol=1e-05, validation_fraction=0.2, verbose=True,\n",
            "              warm_start=False)\n"
          ],
          "name": "stdout"
        }
      ]
    },
    {
      "cell_type": "code",
      "metadata": {
        "scrolled": true,
        "id": "tYJzYWa3PiVH",
        "colab_type": "code",
        "colab": {
          "base_uri": "https://localhost:8080/",
          "height": 0
        },
        "outputId": "34554f26-d72b-49e1-ce2a-f5fd4485e04b"
      },
      "source": [
        "\n",
        "# Train the MLP classifier on training dataset\n",
        "clf.fit(X_train, Y_train_OneHot)\n",
        "print()\n"
      ],
      "execution_count": 14,
      "outputs": [
        {
          "output_type": "stream",
          "text": [
            "Iteration 1, loss = 1.66977145\n",
            "Iteration 2, loss = 1.48147283\n",
            "Iteration 3, loss = 1.38194632\n",
            "Iteration 4, loss = 1.29635139\n",
            "Iteration 5, loss = 1.19856477\n",
            "Iteration 6, loss = 1.08756368\n",
            "Iteration 7, loss = 0.97368110\n",
            "Iteration 8, loss = 0.86798684\n",
            "Iteration 9, loss = 0.78857782\n",
            "Iteration 10, loss = 0.72764596\n",
            "Iteration 11, loss = 0.68576895\n",
            "Iteration 12, loss = 0.66143227\n",
            "Iteration 13, loss = 0.64621936\n",
            "Iteration 14, loss = 0.63527529\n",
            "Iteration 15, loss = 0.62934470\n",
            "Iteration 16, loss = 0.62157641\n",
            "Iteration 17, loss = 0.61765589\n",
            "Iteration 18, loss = 0.61407695\n",
            "Iteration 19, loss = 0.61091218\n",
            "Iteration 20, loss = 0.60753790\n",
            "Iteration 21, loss = 0.60666828\n",
            "Iteration 22, loss = 0.60395317\n",
            "Iteration 23, loss = 0.60278854\n",
            "Iteration 24, loss = 0.60350404\n",
            "Iteration 25, loss = 0.60053736\n",
            "Iteration 26, loss = 0.59978926\n",
            "Iteration 27, loss = 0.59798318\n",
            "Iteration 28, loss = 0.59701254\n",
            "Iteration 29, loss = 0.59858570\n",
            "Iteration 30, loss = 0.59393236\n",
            "Iteration 31, loss = 0.59401841\n",
            "Iteration 32, loss = 0.59268899\n",
            "Iteration 33, loss = 0.59264206\n",
            "Iteration 34, loss = 0.59250117\n",
            "Iteration 35, loss = 0.59113035\n",
            "Iteration 36, loss = 0.59030068\n",
            "Iteration 37, loss = 0.58992958\n",
            "Iteration 38, loss = 0.58700385\n",
            "Iteration 39, loss = 0.58846040\n",
            "Iteration 40, loss = 0.58696569\n",
            "Iteration 41, loss = 0.58572319\n",
            "Iteration 42, loss = 0.58770495\n",
            "Iteration 43, loss = 0.58565185\n",
            "Iteration 44, loss = 0.58343167\n",
            "Iteration 45, loss = 0.58312933\n",
            "Iteration 46, loss = 0.58435190\n",
            "Iteration 47, loss = 0.58692503\n",
            "Iteration 48, loss = 0.58263499\n",
            "Iteration 49, loss = 0.58425098\n",
            "Iteration 50, loss = 0.58179840\n",
            "Iteration 51, loss = 0.58072201\n",
            "Iteration 52, loss = 0.58330973\n",
            "Iteration 53, loss = 0.58090268\n",
            "Iteration 54, loss = 0.57930211\n",
            "Iteration 55, loss = 0.58112354\n",
            "Iteration 56, loss = 0.58094554\n",
            "Iteration 57, loss = 0.58093155\n",
            "Iteration 58, loss = 0.57781656\n",
            "Iteration 59, loss = 0.57801624\n",
            "Iteration 60, loss = 0.58004361\n",
            "Iteration 61, loss = 0.57833541\n",
            "Iteration 62, loss = 0.57786836\n",
            "Iteration 63, loss = 0.57900936\n",
            "Iteration 64, loss = 0.58458304\n",
            "Iteration 65, loss = 0.57748424\n",
            "Iteration 66, loss = 0.57822940\n",
            "Iteration 67, loss = 0.57999648\n",
            "Iteration 68, loss = 0.57783633\n",
            "Iteration 69, loss = 0.57836400\n",
            "Iteration 70, loss = 0.57581722\n",
            "Iteration 71, loss = 0.57936257\n",
            "Iteration 72, loss = 0.57840554\n",
            "Iteration 73, loss = 0.57349594\n",
            "Iteration 74, loss = 0.57986867\n",
            "Iteration 75, loss = 0.57631521\n",
            "Iteration 76, loss = 0.57420542\n",
            "Iteration 77, loss = 0.57688842\n",
            "Iteration 78, loss = 0.57924979\n",
            "Iteration 79, loss = 0.57562960\n",
            "Iteration 80, loss = 0.57482378\n",
            "Iteration 81, loss = 0.57881624\n",
            "Iteration 82, loss = 0.57561995\n",
            "Iteration 83, loss = 0.57541954\n",
            "Iteration 84, loss = 0.57563140\n",
            "Training loss did not improve more than tol=0.000010 for 10 consecutive epochs. Stopping.\n",
            "\n"
          ],
          "name": "stdout"
        }
      ]
    },
    {
      "cell_type": "code",
      "metadata": {
        "id": "n8xNe7rnPiVL",
        "colab_type": "code",
        "colab": {
          "base_uri": "https://localhost:8080/",
          "height": 0
        },
        "outputId": "620a4f5d-0a5f-478f-e93a-5deb0962b67e"
      },
      "source": [
        "\n",
        "# Evaluate acuracy on test data\n",
        "score = clf.score(X_test,Y_test_OneHot)\n",
        "print(\"Acuracy (on test set) = \", score)"
      ],
      "execution_count": 15,
      "outputs": [
        {
          "output_type": "stream",
          "text": [
            "Acuracy (on test set) =  0.861904761904762\n"
          ],
          "name": "stdout"
        }
      ]
    },
    {
      "cell_type": "markdown",
      "metadata": {
        "id": "VmddUTSqPiVQ",
        "colab_type": "text"
      },
      "source": [
        "### Sử dụng GridSearchCV để chọn bộ thông số tốt nhất "
      ]
    },
    {
      "cell_type": "code",
      "metadata": {
        "id": "J2nIeaq3PiVR",
        "colab_type": "code",
        "colab": {}
      },
      "source": [
        "from sklearn.model_selection import GridSearchCV\n",
        "from sklearn.neural_network import MLPClassifier\n",
        "from sklearn.metrics import classification_report\n",
        "\n",
        "# param_grid = [\n",
        "#   {'hidden_layer_sizes': [(5,), (10,), (15,), (25,)], \n",
        "#    'learning_rate_init':[0.003, 0.01, 0.03, 0.1],\n",
        "#    'alpha': [0.00001, 0.0001, 0.001, 0.01]}\n",
        "#  ]\n",
        "\n",
        "param_grid = [\n",
        "  {'hidden_layer_sizes': [(5,), (10,)], \n",
        "   'learning_rate_init':[0.003, 0.01],\n",
        "   'alpha': [0.00001, 0.0001]}\n",
        " ]\n",
        "\n",
        "\n",
        "clf = GridSearchCV( MLPClassifier(activation='tanh', alpha=1e-07, batch_size=4, beta_1=0.9,\n",
        "   beta_2=0.999, early_stopping=False, epsilon=1e-08,\n",
        "   hidden_layer_sizes=(10,), learning_rate='constant',\n",
        "   learning_rate_init=0.005, max_iter=500, momentum=0.8,\n",
        "   nesterovs_momentum=True, power_t=0.5, random_state=11, shuffle=True,\n",
        "   solver='adam', tol=1e-05, validation_fraction=0.3, verbose=False,\n",
        "   warm_start=False), \n",
        "   param_grid, cv=3, scoring='accuracy')\n",
        "\n"
      ],
      "execution_count": 16,
      "outputs": []
    },
    {
      "cell_type": "code",
      "metadata": {
        "id": "mulBV7etPiVV",
        "colab_type": "code",
        "colab": {
          "base_uri": "https://localhost:8080/",
          "height": 35
        },
        "outputId": "3ed1254a-bf55-450c-ed50-a7e188a5e054"
      },
      "source": [
        "clf.fit(X_train, Y_train_OneHot)\n",
        "print(\"Best parameters set found on development set:\")\n",
        "\n"
      ],
      "execution_count": 17,
      "outputs": [
        {
          "output_type": "stream",
          "text": [
            "Best parameters set found on development set:\n"
          ],
          "name": "stdout"
        }
      ]
    },
    {
      "cell_type": "code",
      "metadata": {
        "id": "LFZHI27pPiVb",
        "colab_type": "code",
        "colab": {
          "base_uri": "https://localhost:8080/",
          "height": 35
        },
        "outputId": "ed9855bb-8935-4aa1-968e-041f00a86e7f"
      },
      "source": [
        "print(clf.best_params_)\n"
      ],
      "execution_count": 18,
      "outputs": [
        {
          "output_type": "stream",
          "text": [
            "{'alpha': 1e-05, 'hidden_layer_sizes': (5,), 'learning_rate_init': 0.01}\n"
          ],
          "name": "stdout"
        }
      ]
    },
    {
      "cell_type": "code",
      "metadata": {
        "id": "UAmS9tnrPiVf",
        "colab_type": "code",
        "colab": {
          "base_uri": "https://localhost:8080/",
          "height": 156
        },
        "outputId": "e3fbfa5d-ac6e-479b-be86-d09687e13b8f"
      },
      "source": [
        "clf.best_estimator_"
      ],
      "execution_count": 19,
      "outputs": [
        {
          "output_type": "execute_result",
          "data": {
            "text/plain": [
              "MLPClassifier(activation='tanh', alpha=1e-05, batch_size=4, beta_1=0.9,\n",
              "              beta_2=0.999, early_stopping=False, epsilon=1e-08,\n",
              "              hidden_layer_sizes=(5,), learning_rate='constant',\n",
              "              learning_rate_init=0.01, max_fun=15000, max_iter=500,\n",
              "              momentum=0.8, n_iter_no_change=10, nesterovs_momentum=True,\n",
              "              power_t=0.5, random_state=11, shuffle=True, solver='adam',\n",
              "              tol=1e-05, validation_fraction=0.3, verbose=False,\n",
              "              warm_start=False)"
            ]
          },
          "metadata": {
            "tags": []
          },
          "execution_count": 19
        }
      ]
    },
    {
      "cell_type": "code",
      "metadata": {
        "id": "toZKyfhEPiVk",
        "colab_type": "code",
        "colab": {
          "base_uri": "https://localhost:8080/",
          "height": 35
        },
        "outputId": "37a0f46a-7605-4ad2-e14b-040b94d8632c"
      },
      "source": [
        "clf.best_score_"
      ],
      "execution_count": 20,
      "outputs": [
        {
          "output_type": "execute_result",
          "data": {
            "text/plain": [
              "0.9666666666666667"
            ]
          },
          "metadata": {
            "tags": []
          },
          "execution_count": 20
        }
      ]
    },
    {
      "cell_type": "markdown",
      "metadata": {
        "id": "NO2M3Q2LPiVp",
        "colab_type": "text"
      },
      "source": [
        "## 2) MLPClassifier cho bộ dữ liệu số"
      ]
    },
    {
      "cell_type": "code",
      "metadata": {
        "id": "_qRJ_UTTPiVr",
        "colab_type": "code",
        "colab": {
          "base_uri": "https://localhost:8080/",
          "height": 362
        },
        "outputId": "0c5bdeed-ef02-4ebd-d17d-2dbbe7997cf5"
      },
      "source": [
        "from sklearn.datasets import load_digits\n",
        "from sklearn.model_selection import train_test_split\n",
        "from sklearn.neural_network import MLPClassifier\n",
        "from sklearn.metrics import classification_report\n",
        "\n",
        "digits = load_digits()\n",
        "n_samples = len(digits.images)\n",
        "print(\"Number_of-examples = \", n_samples)\n",
        "\n",
        "import matplotlib.pyplot as plt\n",
        "print(\"\\n Plot of first example\")\n",
        "plt.gray() \n",
        "plt.matshow(digits.images[0]) \n",
        "print(\"CLOSE PLOT WINDOW TO CONTINUE\")\n",
        "plt.ioff()"
      ],
      "execution_count": 21,
      "outputs": [
        {
          "output_type": "stream",
          "text": [
            "Number_of-examples =  1797\n",
            "\n",
            " Plot of first example\n",
            "CLOSE PLOT WINDOW TO CONTINUE\n"
          ],
          "name": "stdout"
        },
        {
          "output_type": "display_data",
          "data": {
            "text/plain": [
              "<Figure size 432x288 with 0 Axes>"
            ]
          },
          "metadata": {
            "tags": []
          }
        },
        {
          "output_type": "display_data",
          "data": {
            "image/png": "[encoded data removed]",
            "text/plain": [
              "<Figure size 288x288 with 1 Axes>"
            ]
          },
          "metadata": {
            "tags": [],
            "needs_background": "light"
          }
        }
      ]
    },
    {
      "cell_type": "code",
      "metadata": {
        "id": "UZ4AN0hFPiVx",
        "colab_type": "code",
        "colab": {}
      },
      "source": [
        "\n",
        "# Flatten the images, to turn data in a (samples, feature) matrix:\n",
        "data = digits.images.reshape((n_samples, -1))\n",
        "\n",
        "X = data\n",
        "y = digits.target\n",
        "X_train, X_test, y_train, y_test = train_test_split(X, y, test_size=0.2)"
      ],
      "execution_count": 22,
      "outputs": []
    },
    {
      "cell_type": "code",
      "metadata": {
        "id": "Y2r500NyPiV4",
        "colab_type": "code",
        "colab": {
          "base_uri": "https://localhost:8080/",
          "height": 35
        },
        "outputId": "35a0697d-542e-45f9-8c39-dbfb3cb0ea2d"
      },
      "source": [
        "X_train.shape"
      ],
      "execution_count": 23,
      "outputs": [
        {
          "output_type": "execute_result",
          "data": {
            "text/plain": [
              "(1437, 64)"
            ]
          },
          "metadata": {
            "tags": []
          },
          "execution_count": 23
        }
      ]
    },
    {
      "cell_type": "code",
      "metadata": {
        "scrolled": true,
        "id": "A5rBiB93PiV9",
        "colab_type": "code",
        "colab": {
          "base_uri": "https://localhost:8080/",
          "height": 35
        },
        "outputId": "cf1925fa-3bb8-46a8-db41-4239448a7f28"
      },
      "source": [
        "y_train.shape"
      ],
      "execution_count": 24,
      "outputs": [
        {
          "output_type": "execute_result",
          "data": {
            "text/plain": [
              "(1437,)"
            ]
          },
          "metadata": {
            "tags": []
          },
          "execution_count": 24
        }
      ]
    },
    {
      "cell_type": "code",
      "metadata": {
        "id": "4tJlRnkhPiWC",
        "colab_type": "code",
        "colab": {}
      },
      "source": [
        "clf = MLPClassifier(hidden_layer_sizes=(30, ), activation='tanh', solver='sgd', \n",
        "                    alpha=0.00001, batch_size=4, learning_rate='constant', learning_rate_init=0.01, \n",
        "                    power_t=0.5, max_iter=500, shuffle=True, random_state=11, tol=0.00001, \n",
        "                    verbose=True, warm_start=False, momentum=0.8, nesterovs_momentum=True, \n",
        "                    early_stopping=True, validation_fraction=0.1, \n",
        "                    beta_1=0.9, beta_2=0.999, epsilon=1e-08)"
      ],
      "execution_count": 25,
      "outputs": []
    },
    {
      "cell_type": "code",
      "metadata": {
        "id": "eEbONM7vPiWH",
        "colab_type": "code",
        "colab": {
          "base_uri": "https://localhost:8080/",
          "height": 156
        },
        "outputId": "02739e75-05c8-40c4-e944-1a0ee33ae8d8"
      },
      "source": [
        "clf"
      ],
      "execution_count": 26,
      "outputs": [
        {
          "output_type": "execute_result",
          "data": {
            "text/plain": [
              "MLPClassifier(activation='tanh', alpha=1e-05, batch_size=4, beta_1=0.9,\n",
              "              beta_2=0.999, early_stopping=True, epsilon=1e-08,\n",
              "              hidden_layer_sizes=(30,), learning_rate='constant',\n",
              "              learning_rate_init=0.01, max_fun=15000, max_iter=500,\n",
              "              momentum=0.8, n_iter_no_change=10, nesterovs_momentum=True,\n",
              "              power_t=0.5, random_state=11, shuffle=True, solver='sgd',\n",
              "              tol=1e-05, validation_fraction=0.1, verbose=True,\n",
              "              warm_start=False)"
            ]
          },
          "metadata": {
            "tags": []
          },
          "execution_count": 26
        }
      ]
    },
    {
      "cell_type": "code",
      "metadata": {
        "scrolled": true,
        "id": "fVz91oXsPiWO",
        "colab_type": "code",
        "colab": {
          "base_uri": "https://localhost:8080/",
          "height": 936
        },
        "outputId": "d092c28a-9cdc-427e-8614-9895480c4e2b"
      },
      "source": [
        "# Train the MLP classifier on training dataset\n",
        "clf.fit(X_train, y_train)\n"
      ],
      "execution_count": 27,
      "outputs": [
        {
          "output_type": "stream",
          "text": [
            "Iteration 1, loss = 1.20105905\n",
            "Validation score: 0.791667\n",
            "Iteration 2, loss = 0.60241600\n",
            "Validation score: 0.763889\n",
            "Iteration 3, loss = 0.55907580\n",
            "Validation score: 0.791667\n",
            "Iteration 4, loss = 0.49470046\n",
            "Validation score: 0.819444\n",
            "Iteration 5, loss = 0.38322572\n",
            "Validation score: 0.847222\n",
            "Iteration 6, loss = 0.44315535\n",
            "Validation score: 0.833333\n",
            "Iteration 7, loss = 0.35330732\n",
            "Validation score: 0.833333\n",
            "Iteration 8, loss = 0.44090640\n",
            "Validation score: 0.847222\n",
            "Iteration 9, loss = 0.36392374\n",
            "Validation score: 0.861111\n",
            "Iteration 10, loss = 0.40847162\n",
            "Validation score: 0.826389\n",
            "Iteration 11, loss = 0.26759794\n",
            "Validation score: 0.916667\n",
            "Iteration 12, loss = 0.22436976\n",
            "Validation score: 0.854167\n",
            "Iteration 13, loss = 0.21787412\n",
            "Validation score: 0.875000\n",
            "Iteration 14, loss = 0.23774021\n",
            "Validation score: 0.888889\n",
            "Iteration 15, loss = 0.28270317\n",
            "Validation score: 0.854167\n",
            "Iteration 16, loss = 0.30786665\n",
            "Validation score: 0.881944\n",
            "Iteration 17, loss = 0.28124555\n",
            "Validation score: 0.875000\n",
            "Iteration 18, loss = 0.23286763\n",
            "Validation score: 0.861111\n",
            "Iteration 19, loss = 0.20977324\n",
            "Validation score: 0.895833\n",
            "Iteration 20, loss = 0.18346387\n",
            "Validation score: 0.895833\n",
            "Iteration 21, loss = 0.23052729\n",
            "Validation score: 0.881944\n",
            "Iteration 22, loss = 0.26049902\n",
            "Validation score: 0.833333\n",
            "Validation score did not improve more than tol=0.000010 for 10 consecutive epochs. Stopping.\n"
          ],
          "name": "stdout"
        },
        {
          "output_type": "execute_result",
          "data": {
            "text/plain": [
              "MLPClassifier(activation='tanh', alpha=1e-05, batch_size=4, beta_1=0.9,\n",
              "              beta_2=0.999, early_stopping=True, epsilon=1e-08,\n",
              "              hidden_layer_sizes=(30,), learning_rate='constant',\n",
              "              learning_rate_init=0.01, max_fun=15000, max_iter=500,\n",
              "              momentum=0.8, n_iter_no_change=10, nesterovs_momentum=True,\n",
              "              power_t=0.5, random_state=11, shuffle=True, solver='sgd',\n",
              "              tol=1e-05, validation_fraction=0.1, verbose=True,\n",
              "              warm_start=False)"
            ]
          },
          "metadata": {
            "tags": []
          },
          "execution_count": 27
        }
      ]
    },
    {
      "cell_type": "code",
      "metadata": {
        "id": "VML-brG7PiWR",
        "colab_type": "code",
        "colab": {
          "base_uri": "https://localhost:8080/",
          "height": 35
        },
        "outputId": "977b1a94-b296-4b4f-9e8e-ee1aadd78974"
      },
      "source": [
        "\n",
        "score = clf.score(X_train,y_train)\n",
        "print(\"Acuracy (on train set) = \", score)"
      ],
      "execution_count": 28,
      "outputs": [
        {
          "output_type": "stream",
          "text": [
            "Acuracy (on train set) =  0.9373695198329853\n"
          ],
          "name": "stdout"
        }
      ]
    },
    {
      "cell_type": "code",
      "metadata": {
        "id": "Z0fnbZtHPiWV",
        "colab_type": "code",
        "colab": {
          "base_uri": "https://localhost:8080/",
          "height": 35
        },
        "outputId": "db02ba8a-59da-4a7f-b674-70aa6c5198ff"
      },
      "source": [
        "\n",
        "score = clf.score(X_test,y_test)\n",
        "print(\"Acuracy (on test set) = \", score)\n"
      ],
      "execution_count": 29,
      "outputs": [
        {
          "output_type": "stream",
          "text": [
            "Acuracy (on test set) =  0.9388888888888889\n"
          ],
          "name": "stdout"
        }
      ]
    },
    {
      "cell_type": "markdown",
      "metadata": {
        "id": "SuiGgKgdPiWb",
        "colab_type": "text"
      },
      "source": [
        "### Thay đổi số layers, số neurons trên mỗi layers:"
      ]
    },
    {
      "cell_type": "code",
      "metadata": {
        "id": "auioImbcPiWe",
        "colab_type": "code",
        "colab": {}
      },
      "source": [
        "clf = MLPClassifier(hidden_layer_sizes=(30, 20, 15 ), activation='tanh', solver='sgd', \n",
        "                    alpha=0.00001, batch_size=4, learning_rate='constant', learning_rate_init=0.01, \n",
        "                    power_t=0.5, max_iter=500, shuffle=True, random_state=11, tol=0.00001, \n",
        "                    verbose=True, warm_start=False, momentum=0.8, nesterovs_momentum=True, \n",
        "                    early_stopping=True, validation_fraction=0.1, \n",
        "                    beta_1=0.9, beta_2=0.999, epsilon=1e-08)"
      ],
      "execution_count": 30,
      "outputs": []
    },
    {
      "cell_type": "code",
      "metadata": {
        "scrolled": true,
        "id": "n3sIuw9qPiWj",
        "colab_type": "code",
        "colab": {
          "base_uri": "https://localhost:8080/",
          "height": 1000
        },
        "outputId": "ea84bc95-280b-400f-ba98-8a028ca1b97e"
      },
      "source": [
        "# Train the MLP classifier on training dataset\n",
        "clf.fit(X_train, y_train)\n"
      ],
      "execution_count": 31,
      "outputs": [
        {
          "output_type": "stream",
          "text": [
            "Iteration 1, loss = 1.36462131\n",
            "Validation score: 0.666667\n",
            "Iteration 2, loss = 0.97705910\n",
            "Validation score: 0.555556\n",
            "Iteration 3, loss = 0.95086664\n",
            "Validation score: 0.715278\n",
            "Iteration 4, loss = 0.84803033\n",
            "Validation score: 0.625000\n",
            "Iteration 5, loss = 0.85203166\n",
            "Validation score: 0.659722\n",
            "Iteration 6, loss = 0.86201442\n",
            "Validation score: 0.569444\n",
            "Iteration 7, loss = 1.17703645\n",
            "Validation score: 0.541667\n",
            "Iteration 8, loss = 0.93876104\n",
            "Validation score: 0.673611\n",
            "Iteration 9, loss = 0.95054574\n",
            "Validation score: 0.701389\n",
            "Iteration 10, loss = 0.83272726\n",
            "Validation score: 0.763889\n",
            "Iteration 11, loss = 0.64391754\n",
            "Validation score: 0.805556\n",
            "Iteration 12, loss = 0.90740439\n",
            "Validation score: 0.680556\n",
            "Iteration 13, loss = 0.70304218\n",
            "Validation score: 0.812500\n",
            "Iteration 14, loss = 0.50820529\n",
            "Validation score: 0.784722\n",
            "Iteration 15, loss = 0.64480629\n",
            "Validation score: 0.756944\n",
            "Iteration 16, loss = 0.59483347\n",
            "Validation score: 0.819444\n",
            "Iteration 17, loss = 0.44099942\n",
            "Validation score: 0.833333\n",
            "Iteration 18, loss = 0.46043236\n",
            "Validation score: 0.763889\n",
            "Iteration 19, loss = 0.58211571\n",
            "Validation score: 0.756944\n",
            "Iteration 20, loss = 0.56359504\n",
            "Validation score: 0.791667\n",
            "Iteration 21, loss = 0.52677266\n",
            "Validation score: 0.763889\n",
            "Iteration 22, loss = 0.57378760\n",
            "Validation score: 0.854167\n",
            "Iteration 23, loss = 0.56593731\n",
            "Validation score: 0.770833\n",
            "Iteration 24, loss = 0.57294335\n",
            "Validation score: 0.777778\n",
            "Iteration 25, loss = 0.45768473\n",
            "Validation score: 0.895833\n",
            "Iteration 26, loss = 0.38328767\n",
            "Validation score: 0.881944\n",
            "Iteration 27, loss = 0.41173979\n",
            "Validation score: 0.819444\n",
            "Iteration 28, loss = 0.48829800\n",
            "Validation score: 0.826389\n",
            "Iteration 29, loss = 0.62737559\n",
            "Validation score: 0.826389\n",
            "Iteration 30, loss = 0.48850385\n",
            "Validation score: 0.875000\n",
            "Iteration 31, loss = 0.38392829\n",
            "Validation score: 0.819444\n",
            "Iteration 32, loss = 0.72464207\n",
            "Validation score: 0.666667\n",
            "Iteration 33, loss = 0.82833395\n",
            "Validation score: 0.736111\n",
            "Iteration 34, loss = 0.76696814\n",
            "Validation score: 0.791667\n",
            "Iteration 35, loss = 0.73863253\n",
            "Validation score: 0.777778\n",
            "Iteration 36, loss = 0.87198498\n",
            "Validation score: 0.680556\n",
            "Validation score did not improve more than tol=0.000010 for 10 consecutive epochs. Stopping.\n"
          ],
          "name": "stdout"
        },
        {
          "output_type": "execute_result",
          "data": {
            "text/plain": [
              "MLPClassifier(activation='tanh', alpha=1e-05, batch_size=4, beta_1=0.9,\n",
              "              beta_2=0.999, early_stopping=True, epsilon=1e-08,\n",
              "              hidden_layer_sizes=(30, 20, 15), learning_rate='constant',\n",
              "              learning_rate_init=0.01, max_fun=15000, max_iter=500,\n",
              "              momentum=0.8, n_iter_no_change=10, nesterovs_momentum=True,\n",
              "              power_t=0.5, random_state=11, shuffle=True, solver='sgd',\n",
              "              tol=1e-05, validation_fraction=0.1, verbose=True,\n",
              "              warm_start=False)"
            ]
          },
          "metadata": {
            "tags": []
          },
          "execution_count": 31
        }
      ]
    },
    {
      "cell_type": "code",
      "metadata": {
        "id": "72LdfrPTPiWp",
        "colab_type": "code",
        "colab": {
          "base_uri": "https://localhost:8080/",
          "height": 35
        },
        "outputId": "87045f4e-f302-459d-8a51-547739957c89"
      },
      "source": [
        "\n",
        "score = clf.score(X_train,y_train)\n",
        "print(\"Acuracy (on train set) = \", score)"
      ],
      "execution_count": 32,
      "outputs": [
        {
          "output_type": "stream",
          "text": [
            "Acuracy (on train set) =  0.9025748086290883\n"
          ],
          "name": "stdout"
        }
      ]
    },
    {
      "cell_type": "code",
      "metadata": {
        "id": "ZRpRE-xiPiWu",
        "colab_type": "code",
        "colab": {
          "base_uri": "https://localhost:8080/",
          "height": 35
        },
        "outputId": "02a1d37e-3d94-4cee-c149-c21e9c7ffbb0"
      },
      "source": [
        "\n",
        "score = clf.score(X_test,y_test)\n",
        "print(\"Acuracy (on test set) = \", score)\n"
      ],
      "execution_count": 33,
      "outputs": [
        {
          "output_type": "stream",
          "text": [
            "Acuracy (on test set) =  0.8583333333333333\n"
          ],
          "name": "stdout"
        }
      ]
    },
    {
      "cell_type": "markdown",
      "metadata": {
        "id": "6TwdGvfyPiWy",
        "colab_type": "text"
      },
      "source": [
        "- Nhận xét: việc chọn số Layers và số neurons trên mỗi Layers phải dựa vào từng bài toán  để có thể đạt được độ chính xác cao nhất"
      ]
    },
    {
      "cell_type": "code",
      "metadata": {
        "id": "DUkgG8LEPiWz",
        "colab_type": "code",
        "colab": {}
      },
      "source": [
        ""
      ],
      "execution_count": 33,
      "outputs": []
    },
    {
      "cell_type": "code",
      "metadata": {
        "id": "jNQ_jqMOPiW7",
        "colab_type": "code",
        "colab": {}
      },
      "source": [
        ""
      ],
      "execution_count": 33,
      "outputs": []
    }
  ]
}