{
  "nbformat": 4,
  "nbformat_minor": 0,
  "metadata": {
    "kernelspec": {
      "display_name": "Python 3",
      "language": "python",
      "name": "python3"
    },
    "language_info": {
      "codemirror_mode": {
        "name": "ipython",
        "version": 3
      },
      "file_extension": ".py",
      "mimetype": "text/x-python",
      "name": "python",
      "nbconvert_exporter": "python",
      "pygments_lexer": "ipython3",
      "version": "3.6.6"
    },
    "colab": {
      "name": "1-Lab-Perceptron-MLPs.ipynb",
      "provenance": [],
      "include_colab_link": true
    }
  },
  "cells": [
    {
      "cell_type": "markdown",
      "metadata": {
        "id": "view-in-github",
        "colab_type": "text"
      },
      "source": [
        "<a href=\"https://colab.research.google.com/github/dynhi/MachineLearning/blob/master/Lab8/Perceptron-MLPs/1_Lab_Perceptron_MLPs.ipynb\" target=\"_parent\"><img src=\"https://colab.research.google.com/assets/colab-badge.svg\" alt=\"Open In Colab\"/></a>"
      ]
    },
    {
      "cell_type": "markdown",
      "metadata": {
        "colab_type": "text",
        "id": "gvKshvFzQorr"
      },
      "source": [
        "# Understanding Perceptron and Multilayer Perceptron"
      ]
    },
    {
      "cell_type": "markdown",
      "metadata": {
        "id": "t7nJS81QO0z6",
        "colab_type": "text"
      },
      "source": [
        "- Nguyễn Hữu Vũ \n",
        "- Nhóm nghiên cứu về AI đại học Bách Khoa Tp. Hồ Chí Minh"
      ]
    },
    {
      "cell_type": "code",
      "metadata": {
        "id": "oGLny30SO00q",
        "colab_type": "code",
        "colab": {}
      },
      "source": [
        "from sklearn.neural_network import MLPClassifier\n",
        "from sklearn.linear_model import Perceptron\n",
        "import sklearn.metrics as metric\n",
        "import numpy as np\n",
        "import matplotlib.pyplot as plt"
      ],
      "execution_count": 1,
      "outputs": []
    },
    {
      "cell_type": "markdown",
      "metadata": {
        "id": "1VzmaXUXO00y",
        "colab_type": "text"
      },
      "source": [
        "## 1) Perceptron"
      ]
    },
    {
      "cell_type": "markdown",
      "metadata": {
        "id": "fsSM6zApO001",
        "colab_type": "text"
      },
      "source": [
        "### OR Problem"
      ]
    },
    {
      "cell_type": "code",
      "metadata": {
        "id": "llmBG1_qO003",
        "colab_type": "code",
        "colab": {}
      },
      "source": [
        "X_training=[[1, 1], \n",
        "            [1, 0],\n",
        "            [0, 1],\n",
        "            [0, 0]\n",
        "           ]\n",
        "y_training=[1, \n",
        "            1,\n",
        "            1,\n",
        "            0\n",
        "           ]\n",
        "X_training = np.array(X_training)\n",
        "y_training = np.array(y_training)"
      ],
      "execution_count": 2,
      "outputs": []
    },
    {
      "cell_type": "code",
      "metadata": {
        "id": "vZmVBPjOO006",
        "colab_type": "code",
        "colab": {
          "base_uri": "https://localhost:8080/",
          "height": 269
        },
        "outputId": "1103478e-6804-4a47-9984-391fcedf527a"
      },
      "source": [
        "fig, axes = plt.subplots(1)"
      ],
      "execution_count": 3,
      "outputs": [
        {
          "output_type": "display_data",
          "data": {
            "image/png": "[encoded data removed]",
            "text/plain": [
              "<Figure size 432x288 with 1 Axes>"
            ]
          },
          "metadata": {
            "tags": [],
            "needs_background": "light"
          }
        }
      ]
    },
    {
      "cell_type": "code",
      "metadata": {
        "scrolled": false,
        "id": "NcflS92NO01G",
        "colab_type": "code",
        "colab": {
          "base_uri": "https://localhost:8080/",
          "height": 265
        },
        "outputId": "5f3e0159-3621-4877-edd2-266ae475d1ee"
      },
      "source": [
        "axes.scatter(X_training[:,0], X_training[:,1], c= y_training)\n",
        "fig"
      ],
      "execution_count": 4,
      "outputs": [
        {
          "output_type": "execute_result",
          "data": {
            "image/png": "[encoded data removed]",
            "text/plain": [
              "<Figure size 432x288 with 1 Axes>"
            ]
          },
          "metadata": {
            "tags": []
          },
          "execution_count": 4
        }
      ]
    },
    {
      "cell_type": "code",
      "metadata": {
        "id": "F8sX53W4O01L",
        "colab_type": "code",
        "colab": {}
      },
      "source": [
        "ptn = Perceptron(max_iter=500)    "
      ],
      "execution_count": 5,
      "outputs": []
    },
    {
      "cell_type": "code",
      "metadata": {
        "id": "8LxA8tYWO01O",
        "colab_type": "code",
        "colab": {
          "base_uri": "https://localhost:8080/",
          "height": 87
        },
        "outputId": "7cf62243-56b7-4ee6-a851-3e9a17a095e5"
      },
      "source": [
        "ptn"
      ],
      "execution_count": 6,
      "outputs": [
        {
          "output_type": "execute_result",
          "data": {
            "text/plain": [
              "Perceptron(alpha=0.0001, class_weight=None, early_stopping=False, eta0=1.0,\n",
              "           fit_intercept=True, max_iter=500, n_iter_no_change=5, n_jobs=None,\n",
              "           penalty=None, random_state=0, shuffle=True, tol=0.001,\n",
              "           validation_fraction=0.1, verbose=0, warm_start=False)"
            ]
          },
          "metadata": {
            "tags": []
          },
          "execution_count": 6
        }
      ]
    },
    {
      "cell_type": "code",
      "metadata": {
        "id": "Ajeg5a6OO01U",
        "colab_type": "code",
        "colab": {
          "base_uri": "https://localhost:8080/",
          "height": 87
        },
        "outputId": "41ae675d-5843-4b21-99e6-5791dfbb0023"
      },
      "source": [
        "ptn.fit(X_training, y_training)  "
      ],
      "execution_count": 7,
      "outputs": [
        {
          "output_type": "execute_result",
          "data": {
            "text/plain": [
              "Perceptron(alpha=0.0001, class_weight=None, early_stopping=False, eta0=1.0,\n",
              "           fit_intercept=True, max_iter=500, n_iter_no_change=5, n_jobs=None,\n",
              "           penalty=None, random_state=0, shuffle=True, tol=0.001,\n",
              "           validation_fraction=0.1, verbose=0, warm_start=False)"
            ]
          },
          "metadata": {
            "tags": []
          },
          "execution_count": 7
        }
      ]
    },
    {
      "cell_type": "code",
      "metadata": {
        "id": "vzpoLi4zO01Z",
        "colab_type": "code",
        "colab": {
          "base_uri": "https://localhost:8080/",
          "height": 35
        },
        "outputId": "887e6f53-9639-4a9b-c38e-f0630ec641c5"
      },
      "source": [
        "y_pred=ptn.predict(X_training)                      # prediction\n",
        "print(y_pred) "
      ],
      "execution_count": 8,
      "outputs": [
        {
          "output_type": "stream",
          "text": [
            "[1 1 1 0]\n"
          ],
          "name": "stdout"
        }
      ]
    },
    {
      "cell_type": "code",
      "metadata": {
        "id": "_TK0TdsgO01d",
        "colab_type": "code",
        "colab": {
          "base_uri": "https://localhost:8080/",
          "height": 35
        },
        "outputId": "58770efa-0c93-4ebc-9f6f-e74c41979a12"
      },
      "source": [
        "accuracy=metric.accuracy_score(y_training, y_pred, normalize=True)\n",
        "print('acuracy=',accuracy)"
      ],
      "execution_count": 9,
      "outputs": [
        {
          "output_type": "stream",
          "text": [
            "acuracy= 1.0\n"
          ],
          "name": "stdout"
        }
      ]
    },
    {
      "cell_type": "code",
      "metadata": {
        "scrolled": true,
        "id": "k1Vj__hTO01g",
        "colab_type": "code",
        "colab": {
          "base_uri": "https://localhost:8080/",
          "height": 35
        },
        "outputId": "42548d43-066a-4ad7-9d32-3dcec8a8d56f"
      },
      "source": [
        "ptn.coef_"
      ],
      "execution_count": 10,
      "outputs": [
        {
          "output_type": "execute_result",
          "data": {
            "text/plain": [
              "array([[2., 2.]])"
            ]
          },
          "metadata": {
            "tags": []
          },
          "execution_count": 10
        }
      ]
    },
    {
      "cell_type": "code",
      "metadata": {
        "id": "WnBoMmGvO01q",
        "colab_type": "code",
        "colab": {
          "base_uri": "https://localhost:8080/",
          "height": 35
        },
        "outputId": "4b3024e2-7e61-402e-f6c1-f0e5d174bf91"
      },
      "source": [
        "ptn.intercept_"
      ],
      "execution_count": 11,
      "outputs": [
        {
          "output_type": "execute_result",
          "data": {
            "text/plain": [
              "array([-1.])"
            ]
          },
          "metadata": {
            "tags": []
          },
          "execution_count": 11
        }
      ]
    },
    {
      "cell_type": "markdown",
      "metadata": {
        "id": "62cORAe7O01v",
        "colab_type": "text"
      },
      "source": [
        "- Phuong trinh: 2x1 + 2x2 -1 = 0\n",
        "- => x2 = -x1 + 0.5"
      ]
    },
    {
      "cell_type": "code",
      "metadata": {
        "id": "NaexbemEO01w",
        "colab_type": "code",
        "colab": {}
      },
      "source": [
        ""
      ],
      "execution_count": 11,
      "outputs": []
    },
    {
      "cell_type": "code",
      "metadata": {
        "id": "CK3dCkAFO010",
        "colab_type": "code",
        "colab": {}
      },
      "source": [
        "x1 = np.linspace(-1,1.2, 50)"
      ],
      "execution_count": 12,
      "outputs": []
    },
    {
      "cell_type": "code",
      "metadata": {
        "scrolled": true,
        "id": "wMfsJaFeO019",
        "colab_type": "code",
        "colab": {
          "base_uri": "https://localhost:8080/",
          "height": 265
        },
        "outputId": "912397c2-986e-4a2f-c871-4b6cc00d2fb9"
      },
      "source": [
        "axes.plot(x1, -x1+0.5)\n",
        "fig"
      ],
      "execution_count": 13,
      "outputs": [
        {
          "output_type": "execute_result",
          "data": {
            "image/png": "[encoded data removed]",
            "text/plain": [
              "<Figure size 432x288 with 1 Axes>"
            ]
          },
          "metadata": {
            "tags": []
          },
          "execution_count": 13
        }
      ]
    },
    {
      "cell_type": "code",
      "metadata": {
        "id": "BxXef6qVO02B",
        "colab_type": "code",
        "colab": {}
      },
      "source": [
        ""
      ],
      "execution_count": 13,
      "outputs": []
    },
    {
      "cell_type": "markdown",
      "metadata": {
        "id": "n2KwHu40O02E",
        "colab_type": "text"
      },
      "source": [
        "### AND Problem"
      ]
    },
    {
      "cell_type": "code",
      "metadata": {
        "id": "0CvGw9iLO02F",
        "colab_type": "code",
        "colab": {}
      },
      "source": [
        "X_training=[[1, 1], \n",
        "            [1, 0],\n",
        "            [0, 1],\n",
        "            [0, 0]\n",
        "           ]\n",
        "y_training=[1, \n",
        "            0,\n",
        "            0,\n",
        "            0\n",
        "           ]\n",
        "X_testing=X_training\n",
        "y_true=y_training"
      ],
      "execution_count": 14,
      "outputs": []
    },
    {
      "cell_type": "code",
      "metadata": {
        "id": "ndsiDHg6O02J",
        "colab_type": "code",
        "colab": {}
      },
      "source": [
        "X_training = np.array(X_training)"
      ],
      "execution_count": 15,
      "outputs": []
    },
    {
      "cell_type": "code",
      "metadata": {
        "scrolled": true,
        "id": "Tl8vkRxhO02O",
        "colab_type": "code",
        "colab": {}
      },
      "source": [
        "y_training = np.array(y_training)"
      ],
      "execution_count": 16,
      "outputs": []
    },
    {
      "cell_type": "code",
      "metadata": {
        "id": "0ZywvFJ-O02Y",
        "colab_type": "code",
        "colab": {
          "base_uri": "https://localhost:8080/",
          "height": 269
        },
        "outputId": "485cb0bb-c5b2-4664-e11b-1dfbd6dcd6b3"
      },
      "source": [
        "fig, axes = plt.subplots(1)"
      ],
      "execution_count": 17,
      "outputs": [
        {
          "output_type": "display_data",
          "data": {
            "image/png": "[encoded data removed]",
            "text/plain": [
              "<Figure size 432x288 with 1 Axes>"
            ]
          },
          "metadata": {
            "tags": [],
            "needs_background": "light"
          }
        }
      ]
    },
    {
      "cell_type": "code",
      "metadata": {
        "scrolled": false,
        "id": "0d5sMlADO02f",
        "colab_type": "code",
        "colab": {
          "base_uri": "https://localhost:8080/",
          "height": 265
        },
        "outputId": "fc2e5e29-18c3-4b46-b6d6-968e117c878f"
      },
      "source": [
        "axes.scatter(X_training[:,0], X_training[:,1], c= y_training)\n",
        "fig"
      ],
      "execution_count": 18,
      "outputs": [
        {
          "output_type": "execute_result",
          "data": {
            "image/png": "[encoded data removed]",
            "text/plain": [
              "<Figure size 432x288 with 1 Axes>"
            ]
          },
          "metadata": {
            "tags": []
          },
          "execution_count": 18
        }
      ]
    },
    {
      "cell_type": "code",
      "metadata": {
        "id": "OSiJDhymO02o",
        "colab_type": "code",
        "colab": {}
      },
      "source": [
        "ptn = Perceptron(max_iter=500)    "
      ],
      "execution_count": 19,
      "outputs": []
    },
    {
      "cell_type": "code",
      "metadata": {
        "id": "ER1-HUeAO02u",
        "colab_type": "code",
        "colab": {
          "base_uri": "https://localhost:8080/",
          "height": 87
        },
        "outputId": "add84fb1-a1f7-47f2-f8b8-e2b2fa7528fe"
      },
      "source": [
        "ptn"
      ],
      "execution_count": 20,
      "outputs": [
        {
          "output_type": "execute_result",
          "data": {
            "text/plain": [
              "Perceptron(alpha=0.0001, class_weight=None, early_stopping=False, eta0=1.0,\n",
              "           fit_intercept=True, max_iter=500, n_iter_no_change=5, n_jobs=None,\n",
              "           penalty=None, random_state=0, shuffle=True, tol=0.001,\n",
              "           validation_fraction=0.1, verbose=0, warm_start=False)"
            ]
          },
          "metadata": {
            "tags": []
          },
          "execution_count": 20
        }
      ]
    },
    {
      "cell_type": "code",
      "metadata": {
        "id": "3UZzPe1qO021",
        "colab_type": "code",
        "colab": {
          "base_uri": "https://localhost:8080/",
          "height": 87
        },
        "outputId": "de1f7109-7780-423a-a6dd-e4ddbe017399"
      },
      "source": [
        "ptn.fit(X_training, y_training)  "
      ],
      "execution_count": 21,
      "outputs": [
        {
          "output_type": "execute_result",
          "data": {
            "text/plain": [
              "Perceptron(alpha=0.0001, class_weight=None, early_stopping=False, eta0=1.0,\n",
              "           fit_intercept=True, max_iter=500, n_iter_no_change=5, n_jobs=None,\n",
              "           penalty=None, random_state=0, shuffle=True, tol=0.001,\n",
              "           validation_fraction=0.1, verbose=0, warm_start=False)"
            ]
          },
          "metadata": {
            "tags": []
          },
          "execution_count": 21
        }
      ]
    },
    {
      "cell_type": "code",
      "metadata": {
        "id": "ENuJ5H6YO03A",
        "colab_type": "code",
        "colab": {
          "base_uri": "https://localhost:8080/",
          "height": 35
        },
        "outputId": "113e97e4-be8b-4d40-edbe-53e755d3df83"
      },
      "source": [
        "y_pred=ptn.predict(X_testing)                      # prediction\n",
        "print(y_pred) "
      ],
      "execution_count": 22,
      "outputs": [
        {
          "output_type": "stream",
          "text": [
            "[1 0 0 0]\n"
          ],
          "name": "stdout"
        }
      ]
    },
    {
      "cell_type": "code",
      "metadata": {
        "id": "dWueQ3qVO03F",
        "colab_type": "code",
        "colab": {
          "base_uri": "https://localhost:8080/",
          "height": 35
        },
        "outputId": "24301a4a-321c-4d80-b9d9-4c469b205dae"
      },
      "source": [
        "accuracy=metric.accuracy_score(y_true, y_pred, normalize=True)\n",
        "print('acuracy=',accuracy)"
      ],
      "execution_count": 23,
      "outputs": [
        {
          "output_type": "stream",
          "text": [
            "acuracy= 1.0\n"
          ],
          "name": "stdout"
        }
      ]
    },
    {
      "cell_type": "code",
      "metadata": {
        "scrolled": true,
        "id": "cWLWxpJdO03e",
        "colab_type": "code",
        "colab": {
          "base_uri": "https://localhost:8080/",
          "height": 35
        },
        "outputId": "842257fa-68bb-40c7-c6f1-fadc83bff2f8"
      },
      "source": [
        "ptn.coef_"
      ],
      "execution_count": 24,
      "outputs": [
        {
          "output_type": "execute_result",
          "data": {
            "text/plain": [
              "array([[2., 2.]])"
            ]
          },
          "metadata": {
            "tags": []
          },
          "execution_count": 24
        }
      ]
    },
    {
      "cell_type": "code",
      "metadata": {
        "id": "LfRpFur2O03p",
        "colab_type": "code",
        "colab": {
          "base_uri": "https://localhost:8080/",
          "height": 35
        },
        "outputId": "740122e3-8c10-47b8-ce2a-2ba820ec9682"
      },
      "source": [
        "ptn.intercept_"
      ],
      "execution_count": 25,
      "outputs": [
        {
          "output_type": "execute_result",
          "data": {
            "text/plain": [
              "array([-2.])"
            ]
          },
          "metadata": {
            "tags": []
          },
          "execution_count": 25
        }
      ]
    },
    {
      "cell_type": "markdown",
      "metadata": {
        "id": "S_42_PMjO031",
        "colab_type": "text"
      },
      "source": [
        "- Phuong trinh: 2x1 + 3x2 -4 = 0\n",
        "- => x2 = (-2/3)x1 + 4/3"
      ]
    },
    {
      "cell_type": "code",
      "metadata": {
        "id": "G3aDaOkcO032",
        "colab_type": "code",
        "colab": {}
      },
      "source": [
        "x1 = np.linspace(-1,1.2, 50)"
      ],
      "execution_count": 26,
      "outputs": []
    },
    {
      "cell_type": "code",
      "metadata": {
        "scrolled": false,
        "id": "87GZIS8nO03_",
        "colab_type": "code",
        "colab": {
          "base_uri": "https://localhost:8080/",
          "height": 265
        },
        "outputId": "e0c3a678-712d-4c7d-9ade-3e935297ae20"
      },
      "source": [
        "axes.plot(x1, -2/3*x1+4/3)\n",
        "fig"
      ],
      "execution_count": 27,
      "outputs": [
        {
          "output_type": "execute_result",
          "data": {
            "image/png": "[encoded data removed]",
            "text/plain": [
              "<Figure size 432x288 with 1 Axes>"
            ]
          },
          "metadata": {
            "tags": []
          },
          "execution_count": 27
        }
      ]
    },
    {
      "cell_type": "code",
      "metadata": {
        "id": "ERWrCCC8O04H",
        "colab_type": "code",
        "colab": {}
      },
      "source": [
        ""
      ],
      "execution_count": 27,
      "outputs": []
    },
    {
      "cell_type": "markdown",
      "metadata": {
        "id": "AcELtf1RO04O",
        "colab_type": "text"
      },
      "source": [
        "### XOR Problem"
      ]
    },
    {
      "cell_type": "code",
      "metadata": {
        "id": "gJGQR4u9O04P",
        "colab_type": "code",
        "colab": {}
      },
      "source": [
        "X_training=[[1, 1], \n",
        "            [1, 0],\n",
        "            [0, 1],\n",
        "            [0, 0]\n",
        "           ]\n",
        "y_training=[0, \n",
        "            1,\n",
        "            1,\n",
        "            0\n",
        "           ]\n",
        "\n",
        "\n",
        "X_training = np.array(X_training)\n",
        "\n",
        "y_training = np.array(y_training)"
      ],
      "execution_count": 28,
      "outputs": []
    },
    {
      "cell_type": "code",
      "metadata": {
        "id": "KliPAbMyO04W",
        "colab_type": "code",
        "colab": {
          "base_uri": "https://localhost:8080/",
          "height": 269
        },
        "outputId": "3f2f2f32-20c7-4c25-e5e1-960601383131"
      },
      "source": [
        "fig, axes = plt.subplots(1)"
      ],
      "execution_count": 29,
      "outputs": [
        {
          "output_type": "display_data",
          "data": {
            "image/png": "[encoded data removed]",
            "text/plain": [
              "<Figure size 432x288 with 1 Axes>"
            ]
          },
          "metadata": {
            "tags": [],
            "needs_background": "light"
          }
        }
      ]
    },
    {
      "cell_type": "code",
      "metadata": {
        "scrolled": true,
        "id": "ZY8bhVAGO04b",
        "colab_type": "code",
        "colab": {
          "base_uri": "https://localhost:8080/",
          "height": 265
        },
        "outputId": "d41ba108-21ee-4bc5-84f6-a4309cf3e9e3"
      },
      "source": [
        "axes.scatter(X_training[:,0], X_training[:,1], c= y_training)\n",
        "fig"
      ],
      "execution_count": 30,
      "outputs": [
        {
          "output_type": "execute_result",
          "data": {
            "image/png": "[encoded data removed]",
            "text/plain": [
              "<Figure size 432x288 with 1 Axes>"
            ]
          },
          "metadata": {
            "tags": []
          },
          "execution_count": 30
        }
      ]
    },
    {
      "cell_type": "code",
      "metadata": {
        "id": "EiR3UJrqO04l",
        "colab_type": "code",
        "colab": {}
      },
      "source": [
        "ptn = Perceptron(max_iter=500)    "
      ],
      "execution_count": 31,
      "outputs": []
    },
    {
      "cell_type": "code",
      "metadata": {
        "id": "IlqmDBkRO04r",
        "colab_type": "code",
        "colab": {
          "base_uri": "https://localhost:8080/",
          "height": 87
        },
        "outputId": "52ff0875-3239-48de-82d6-264bf815e1ca"
      },
      "source": [
        "ptn"
      ],
      "execution_count": 32,
      "outputs": [
        {
          "output_type": "execute_result",
          "data": {
            "text/plain": [
              "Perceptron(alpha=0.0001, class_weight=None, early_stopping=False, eta0=1.0,\n",
              "           fit_intercept=True, max_iter=500, n_iter_no_change=5, n_jobs=None,\n",
              "           penalty=None, random_state=0, shuffle=True, tol=0.001,\n",
              "           validation_fraction=0.1, verbose=0, warm_start=False)"
            ]
          },
          "metadata": {
            "tags": []
          },
          "execution_count": 32
        }
      ]
    },
    {
      "cell_type": "code",
      "metadata": {
        "id": "ICIF03DzO04x",
        "colab_type": "code",
        "colab": {
          "base_uri": "https://localhost:8080/",
          "height": 87
        },
        "outputId": "a0414c61-b6bf-421d-d69c-9f5c691855e9"
      },
      "source": [
        "ptn.fit(X_training, y_training)  "
      ],
      "execution_count": 33,
      "outputs": [
        {
          "output_type": "execute_result",
          "data": {
            "text/plain": [
              "Perceptron(alpha=0.0001, class_weight=None, early_stopping=False, eta0=1.0,\n",
              "           fit_intercept=True, max_iter=500, n_iter_no_change=5, n_jobs=None,\n",
              "           penalty=None, random_state=0, shuffle=True, tol=0.001,\n",
              "           validation_fraction=0.1, verbose=0, warm_start=False)"
            ]
          },
          "metadata": {
            "tags": []
          },
          "execution_count": 33
        }
      ]
    },
    {
      "cell_type": "code",
      "metadata": {
        "id": "0n_ACJ9KO044",
        "colab_type": "code",
        "colab": {
          "base_uri": "https://localhost:8080/",
          "height": 35
        },
        "outputId": "082bd3a9-cb33-4a6f-c564-3cd8df1fdd8d"
      },
      "source": [
        "y_pred=ptn.predict(X_testing)                      # prediction\n",
        "print(y_pred) "
      ],
      "execution_count": 34,
      "outputs": [
        {
          "output_type": "stream",
          "text": [
            "[0 0 0 0]\n"
          ],
          "name": "stdout"
        }
      ]
    },
    {
      "cell_type": "code",
      "metadata": {
        "id": "yufd-xHqO049",
        "colab_type": "code",
        "colab": {
          "base_uri": "https://localhost:8080/",
          "height": 35
        },
        "outputId": "8f604b77-c4ca-4a28-cbc6-4d351b34f500"
      },
      "source": [
        "accuracy=metric.accuracy_score(y_true, y_pred, normalize=True)\n",
        "print('acuracy=',accuracy)"
      ],
      "execution_count": 35,
      "outputs": [
        {
          "output_type": "stream",
          "text": [
            "acuracy= 0.75\n"
          ],
          "name": "stdout"
        }
      ]
    },
    {
      "cell_type": "code",
      "metadata": {
        "scrolled": true,
        "id": "5oNjh-ThO05D",
        "colab_type": "code",
        "colab": {
          "base_uri": "https://localhost:8080/",
          "height": 35
        },
        "outputId": "8192d8db-ad23-4610-f3e8-255484d8faf4"
      },
      "source": [
        "ptn.coef_"
      ],
      "execution_count": 36,
      "outputs": [
        {
          "output_type": "execute_result",
          "data": {
            "text/plain": [
              "array([[0., 0.]])"
            ]
          },
          "metadata": {
            "tags": []
          },
          "execution_count": 36
        }
      ]
    },
    {
      "cell_type": "code",
      "metadata": {
        "id": "mAPWheNtO05N",
        "colab_type": "code",
        "colab": {
          "base_uri": "https://localhost:8080/",
          "height": 35
        },
        "outputId": "a7cf1408-c7b5-4bdf-cd61-0f587d4b123a"
      },
      "source": [
        "ptn.intercept_"
      ],
      "execution_count": 37,
      "outputs": [
        {
          "output_type": "execute_result",
          "data": {
            "text/plain": [
              "array([0.])"
            ]
          },
          "metadata": {
            "tags": []
          },
          "execution_count": 37
        }
      ]
    },
    {
      "cell_type": "markdown",
      "metadata": {
        "id": "sNwsfUDcO05Y",
        "colab_type": "text"
      },
      "source": [
        "- Phuong trinh: 0*x1 + 0*x2 -1 = 0\n",
        "- => phương trình vô nghiệm\n",
        "- Lý do: Với hàm XOR, vì dữ liệu không linearly separable, tức không thể tìm được 1 đường thằng giúp phân chia 2 lớp, nên bài toán vô nghiệm"
      ]
    },
    {
      "cell_type": "code",
      "metadata": {
        "id": "k3wHIQCbO05a",
        "colab_type": "code",
        "colab": {}
      },
      "source": [
        ""
      ],
      "execution_count": 37,
      "outputs": []
    },
    {
      "cell_type": "markdown",
      "metadata": {
        "id": "fRTIscTdO05n",
        "colab_type": "text"
      },
      "source": [
        "## 2) Multi-Layer Perceptron (MLP)\n"
      ]
    },
    {
      "cell_type": "markdown",
      "metadata": {
        "id": "Aqpzv3eUO05n",
        "colab_type": "text"
      },
      "source": [
        "### OR problem"
      ]
    },
    {
      "cell_type": "code",
      "metadata": {
        "id": "F6iwfXwuO05o",
        "colab_type": "code",
        "colab": {}
      },
      "source": [
        "X_training=[[1, 1], \n",
        "            [1, 0],\n",
        "            [0, 1],\n",
        "            [0, 0]\n",
        "           ]\n",
        "y_training=[1, \n",
        "            1,\n",
        "            1,\n",
        "            0\n",
        "           ]\n",
        "X_training = np.array(X_training)\n",
        "y_training = np.array(y_training)"
      ],
      "execution_count": 38,
      "outputs": []
    },
    {
      "cell_type": "code",
      "metadata": {
        "id": "X2dMkuoFO05w",
        "colab_type": "code",
        "colab": {
          "base_uri": "https://localhost:8080/",
          "height": 156
        },
        "outputId": "e1274aac-1d62-437b-e445-18e071c9bbf1"
      },
      "source": [
        "mlp = MLPClassifier(solver='lbfgs', hidden_layer_sizes=(1,1), activation='logistic')\n",
        "mlp"
      ],
      "execution_count": 39,
      "outputs": [
        {
          "output_type": "execute_result",
          "data": {
            "text/plain": [
              "MLPClassifier(activation='logistic', alpha=0.0001, batch_size='auto',\n",
              "              beta_1=0.9, beta_2=0.999, early_stopping=False, epsilon=1e-08,\n",
              "              hidden_layer_sizes=(1, 1), learning_rate='constant',\n",
              "              learning_rate_init=0.001, max_fun=15000, max_iter=200,\n",
              "              momentum=0.9, n_iter_no_change=10, nesterovs_momentum=True,\n",
              "              power_t=0.5, random_state=None, shuffle=True, solver='lbfgs',\n",
              "              tol=0.0001, validation_fraction=0.1, verbose=False,\n",
              "              warm_start=False)"
            ]
          },
          "metadata": {
            "tags": []
          },
          "execution_count": 39
        }
      ]
    },
    {
      "cell_type": "markdown",
      "metadata": {
        "id": "mY7JE_NNO051",
        "colab_type": "text"
      },
      "source": [
        "- (1,1) : 2 hidden layers, mỗi hidden layers có 1 neuron"
      ]
    },
    {
      "cell_type": "code",
      "metadata": {
        "id": "AwavJBObO055",
        "colab_type": "code",
        "colab": {
          "base_uri": "https://localhost:8080/",
          "height": 156
        },
        "outputId": "531317a7-b574-4095-9f69-895195512269"
      },
      "source": [
        "mlp.fit(X_training, y_training)   "
      ],
      "execution_count": 40,
      "outputs": [
        {
          "output_type": "execute_result",
          "data": {
            "text/plain": [
              "MLPClassifier(activation='logistic', alpha=0.0001, batch_size='auto',\n",
              "              beta_1=0.9, beta_2=0.999, early_stopping=False, epsilon=1e-08,\n",
              "              hidden_layer_sizes=(1, 1), learning_rate='constant',\n",
              "              learning_rate_init=0.001, max_fun=15000, max_iter=200,\n",
              "              momentum=0.9, n_iter_no_change=10, nesterovs_momentum=True,\n",
              "              power_t=0.5, random_state=None, shuffle=True, solver='lbfgs',\n",
              "              tol=0.0001, validation_fraction=0.1, verbose=False,\n",
              "              warm_start=False)"
            ]
          },
          "metadata": {
            "tags": []
          },
          "execution_count": 40
        }
      ]
    },
    {
      "cell_type": "markdown",
      "metadata": {
        "id": "qya2fzn8O06A",
        "colab_type": "text"
      },
      "source": [
        "#### Weight matrices between Layers"
      ]
    },
    {
      "cell_type": "code",
      "metadata": {
        "id": "OQGdKI0lO06B",
        "colab_type": "code",
        "colab": {
          "base_uri": "https://localhost:8080/",
          "height": 35
        },
        "outputId": "eb83e0f7-f68e-44a1-c4fa-d22e5b54e706"
      },
      "source": [
        "len(mlp.coefs_)"
      ],
      "execution_count": 41,
      "outputs": [
        {
          "output_type": "execute_result",
          "data": {
            "text/plain": [
              "3"
            ]
          },
          "metadata": {
            "tags": []
          },
          "execution_count": 41
        }
      ]
    },
    {
      "cell_type": "code",
      "metadata": {
        "id": "Pl29sOEwO06H",
        "colab_type": "code",
        "colab": {
          "base_uri": "https://localhost:8080/",
          "height": 52
        },
        "outputId": "c034cbee-08e7-4d0f-b3ea-762ec5313d46"
      },
      "source": [
        "mlp.coefs_ "
      ],
      "execution_count": 42,
      "outputs": [
        {
          "output_type": "execute_result",
          "data": {
            "text/plain": [
              "[array([[-3.85572156],\n",
              "        [-3.78148883]]), array([[-7.92379394]]), array([[15.34497152]])]"
            ]
          },
          "metadata": {
            "tags": []
          },
          "execution_count": 42
        }
      ]
    },
    {
      "cell_type": "code",
      "metadata": {
        "id": "1cShEWVZO06K",
        "colab_type": "code",
        "colab": {}
      },
      "source": [
        ""
      ],
      "execution_count": 42,
      "outputs": []
    },
    {
      "cell_type": "code",
      "metadata": {
        "id": "7kXM4rgtO06O",
        "colab_type": "code",
        "colab": {
          "base_uri": "https://localhost:8080/",
          "height": 173
        },
        "outputId": "cfe91989-a0ee-42cf-d24a-73390ed383b1"
      },
      "source": [
        "print(\"weights between input and first hidden layer:\")\n",
        "print(mlp.coefs_[0])\n",
        "print(\"\\nweights between first hidden and second hidden layer:\")\n",
        "print(mlp.coefs_[1])\n",
        "print(\"\\nweights between second hidden and output layer:\")\n",
        "print(mlp.coefs_[2])"
      ],
      "execution_count": 43,
      "outputs": [
        {
          "output_type": "stream",
          "text": [
            "weights between input and first hidden layer:\n",
            "[[-3.85572156]\n",
            " [-3.78148883]]\n",
            "\n",
            "weights between first hidden and second hidden layer:\n",
            "[[-7.92379394]]\n",
            "\n",
            "weights between second hidden and output layer:\n",
            "[[15.34497152]]\n"
          ],
          "name": "stdout"
        }
      ]
    },
    {
      "cell_type": "code",
      "metadata": {
        "id": "WSfHyhKwO06T",
        "colab_type": "code",
        "colab": {
          "base_uri": "https://localhost:8080/",
          "height": 69
        },
        "outputId": "26daad9c-017f-4918-8a99-979337b4b264"
      },
      "source": [
        "print([coef.shape for coef in mlp.coefs_])  # size of synapsis weights\n",
        "mlp.coefs_        "
      ],
      "execution_count": 44,
      "outputs": [
        {
          "output_type": "stream",
          "text": [
            "[(2, 1), (1, 1), (1, 1)]\n"
          ],
          "name": "stdout"
        },
        {
          "output_type": "execute_result",
          "data": {
            "text/plain": [
              "[array([[-3.85572156],\n",
              "        [-3.78148883]]), array([[-7.92379394]]), array([[15.34497152]])]"
            ]
          },
          "metadata": {
            "tags": []
          },
          "execution_count": 44
        }
      ]
    },
    {
      "cell_type": "markdown",
      "metadata": {
        "id": "19E9SwVIO06a",
        "colab_type": "text"
      },
      "source": [
        "#### Prediction:"
      ]
    },
    {
      "cell_type": "code",
      "metadata": {
        "id": "6Fb26WwKO06b",
        "colab_type": "code",
        "colab": {}
      },
      "source": [
        "y_pred=mlp.predict(X_testing)  "
      ],
      "execution_count": 45,
      "outputs": []
    },
    {
      "cell_type": "code",
      "metadata": {
        "id": "2IWFOBhJO06i",
        "colab_type": "code",
        "colab": {
          "base_uri": "https://localhost:8080/",
          "height": 35
        },
        "outputId": "0ed06579-145f-48a0-be8a-234212a63014"
      },
      "source": [
        "y_pred"
      ],
      "execution_count": 46,
      "outputs": [
        {
          "output_type": "execute_result",
          "data": {
            "text/plain": [
              "array([1, 1, 1, 0])"
            ]
          },
          "metadata": {
            "tags": []
          },
          "execution_count": 46
        }
      ]
    },
    {
      "cell_type": "code",
      "metadata": {
        "scrolled": true,
        "id": "pRIa57HZO06r",
        "colab_type": "code",
        "colab": {
          "base_uri": "https://localhost:8080/",
          "height": 35
        },
        "outputId": "81a76304-b09f-4d85-fa6c-00aa4740e60f"
      },
      "source": [
        "accuracy=metric.accuracy_score(y_training, y_pred)\n",
        "accuracy"
      ],
      "execution_count": 47,
      "outputs": [
        {
          "output_type": "execute_result",
          "data": {
            "text/plain": [
              "1.0"
            ]
          },
          "metadata": {
            "tags": []
          },
          "execution_count": 47
        }
      ]
    },
    {
      "cell_type": "markdown",
      "metadata": {
        "id": "TZ_lsa8vO061",
        "colab_type": "text"
      },
      "source": [
        "### XOR problem\n",
        "- Lưu ý: Trong phần trên, đối với cổng `XOR`, chúng ta không thể dùng `Perceptron` để giải"
      ]
    },
    {
      "cell_type": "code",
      "metadata": {
        "id": "vHkZX1F4O061",
        "colab_type": "code",
        "colab": {}
      },
      "source": [
        "X_training=[[1, 1], \n",
        "            [1, 0],\n",
        "            [0, 1],\n",
        "            [0, 0]\n",
        "           ]\n",
        "y_training=[0, \n",
        "            1,\n",
        "            1,\n",
        "            0\n",
        "           ]\n",
        "\n",
        "\n",
        "X_training = np.array(X_training)\n",
        "\n",
        "y_training = np.array(y_training)"
      ],
      "execution_count": 48,
      "outputs": []
    },
    {
      "cell_type": "code",
      "metadata": {
        "id": "HaiTuGpjO064",
        "colab_type": "code",
        "colab": {
          "base_uri": "https://localhost:8080/",
          "height": 156
        },
        "outputId": "0d3ec2a5-5012-4e8a-fba7-923c601e9f9f"
      },
      "source": [
        "mlp = MLPClassifier(solver='lbfgs', hidden_layer_sizes=(1,1), activation='logistic')\n",
        "mlp"
      ],
      "execution_count": 49,
      "outputs": [
        {
          "output_type": "execute_result",
          "data": {
            "text/plain": [
              "MLPClassifier(activation='logistic', alpha=0.0001, batch_size='auto',\n",
              "              beta_1=0.9, beta_2=0.999, early_stopping=False, epsilon=1e-08,\n",
              "              hidden_layer_sizes=(1, 1), learning_rate='constant',\n",
              "              learning_rate_init=0.001, max_fun=15000, max_iter=200,\n",
              "              momentum=0.9, n_iter_no_change=10, nesterovs_momentum=True,\n",
              "              power_t=0.5, random_state=None, shuffle=True, solver='lbfgs',\n",
              "              tol=0.0001, validation_fraction=0.1, verbose=False,\n",
              "              warm_start=False)"
            ]
          },
          "metadata": {
            "tags": []
          },
          "execution_count": 49
        }
      ]
    },
    {
      "cell_type": "markdown",
      "metadata": {
        "id": "gb-GJCkmO069",
        "colab_type": "text"
      },
      "source": [
        "- (1,1) : 2 hidden layers, mỗi hidden layers có 1 neuron"
      ]
    },
    {
      "cell_type": "code",
      "metadata": {
        "id": "CJjWln6ZO07F",
        "colab_type": "code",
        "colab": {
          "base_uri": "https://localhost:8080/",
          "height": 156
        },
        "outputId": "c981f5c2-67be-45b0-cbd4-b0ab4f55ca36"
      },
      "source": [
        "mlp.fit(X_training, y_training)   "
      ],
      "execution_count": 50,
      "outputs": [
        {
          "output_type": "execute_result",
          "data": {
            "text/plain": [
              "MLPClassifier(activation='logistic', alpha=0.0001, batch_size='auto',\n",
              "              beta_1=0.9, beta_2=0.999, early_stopping=False, epsilon=1e-08,\n",
              "              hidden_layer_sizes=(1, 1), learning_rate='constant',\n",
              "              learning_rate_init=0.001, max_fun=15000, max_iter=200,\n",
              "              momentum=0.9, n_iter_no_change=10, nesterovs_momentum=True,\n",
              "              power_t=0.5, random_state=None, shuffle=True, solver='lbfgs',\n",
              "              tol=0.0001, validation_fraction=0.1, verbose=False,\n",
              "              warm_start=False)"
            ]
          },
          "metadata": {
            "tags": []
          },
          "execution_count": 50
        }
      ]
    },
    {
      "cell_type": "markdown",
      "metadata": {
        "id": "R3893BKXO07L",
        "colab_type": "text"
      },
      "source": [
        "#### Weight matrices between Layers"
      ]
    },
    {
      "cell_type": "code",
      "metadata": {
        "id": "QYh6mbtbO07M",
        "colab_type": "code",
        "colab": {
          "base_uri": "https://localhost:8080/",
          "height": 35
        },
        "outputId": "5eefc5ca-c2b4-49f2-9e78-4ded6993a64c"
      },
      "source": [
        "len(mlp.coefs_)"
      ],
      "execution_count": 51,
      "outputs": [
        {
          "output_type": "execute_result",
          "data": {
            "text/plain": [
              "3"
            ]
          },
          "metadata": {
            "tags": []
          },
          "execution_count": 51
        }
      ]
    },
    {
      "cell_type": "code",
      "metadata": {
        "id": "uYih1P2VO07R",
        "colab_type": "code",
        "colab": {
          "base_uri": "https://localhost:8080/",
          "height": 52
        },
        "outputId": "c405689d-b4e7-4216-c8e0-59a9fbec90bd"
      },
      "source": [
        "mlp.coefs_ "
      ],
      "execution_count": 52,
      "outputs": [
        {
          "output_type": "execute_result",
          "data": {
            "text/plain": [
              "[array([[-0.22458551],\n",
              "        [ 0.27450111]]), array([[-0.66972994]]), array([[-0.02796985]])]"
            ]
          },
          "metadata": {
            "tags": []
          },
          "execution_count": 52
        }
      ]
    },
    {
      "cell_type": "code",
      "metadata": {
        "id": "X-yncybZO07Y",
        "colab_type": "code",
        "colab": {}
      },
      "source": [
        ""
      ],
      "execution_count": 52,
      "outputs": []
    },
    {
      "cell_type": "code",
      "metadata": {
        "id": "Ci2EESCaO07c",
        "colab_type": "code",
        "colab": {
          "base_uri": "https://localhost:8080/",
          "height": 173
        },
        "outputId": "4659b865-8308-4afd-d75c-31023382cbad"
      },
      "source": [
        "print(\"weights between input and first hidden layer:\")\n",
        "print(mlp.coefs_[0])\n",
        "print(\"\\nweights between first hidden and second hidden layer:\")\n",
        "print(mlp.coefs_[1])\n",
        "print(\"\\nweights between second hidden and output layer:\")\n",
        "print(mlp.coefs_[2])"
      ],
      "execution_count": 53,
      "outputs": [
        {
          "output_type": "stream",
          "text": [
            "weights between input and first hidden layer:\n",
            "[[-0.22458551]\n",
            " [ 0.27450111]]\n",
            "\n",
            "weights between first hidden and second hidden layer:\n",
            "[[-0.66972994]]\n",
            "\n",
            "weights between second hidden and output layer:\n",
            "[[-0.02796985]]\n"
          ],
          "name": "stdout"
        }
      ]
    },
    {
      "cell_type": "code",
      "metadata": {
        "scrolled": false,
        "id": "Vk6i89MgO07p",
        "colab_type": "code",
        "colab": {
          "base_uri": "https://localhost:8080/",
          "height": 69
        },
        "outputId": "bbeb4cb3-72b6-403d-ced8-48b6632b49c4"
      },
      "source": [
        "print([coef.shape for coef in mlp.coefs_])  # size of synapsis weights\n",
        "mlp.coefs_        "
      ],
      "execution_count": 54,
      "outputs": [
        {
          "output_type": "stream",
          "text": [
            "[(2, 1), (1, 1), (1, 1)]\n"
          ],
          "name": "stdout"
        },
        {
          "output_type": "execute_result",
          "data": {
            "text/plain": [
              "[array([[-0.22458551],\n",
              "        [ 0.27450111]]), array([[-0.66972994]]), array([[-0.02796985]])]"
            ]
          },
          "metadata": {
            "tags": []
          },
          "execution_count": 54
        }
      ]
    },
    {
      "cell_type": "markdown",
      "metadata": {
        "id": "i2UUq2ZcO07u",
        "colab_type": "text"
      },
      "source": [
        "#### Các thông số khác"
      ]
    },
    {
      "cell_type": "code",
      "metadata": {
        "id": "ALwy1HpCO07v",
        "colab_type": "code",
        "colab": {
          "base_uri": "https://localhost:8080/",
          "height": 35
        },
        "outputId": "3307d32f-0409-4f2b-ed28-9e9bdac1e1db"
      },
      "source": [
        "mlp.n_layers_ "
      ],
      "execution_count": 55,
      "outputs": [
        {
          "output_type": "execute_result",
          "data": {
            "text/plain": [
              "4"
            ]
          },
          "metadata": {
            "tags": []
          },
          "execution_count": 55
        }
      ]
    },
    {
      "cell_type": "code",
      "metadata": {
        "id": "wozSKHyAO074",
        "colab_type": "code",
        "colab": {
          "base_uri": "https://localhost:8080/",
          "height": 35
        },
        "outputId": "a5b5efbc-d232-48f8-abee-0696d0f81b28"
      },
      "source": [
        "mlp.classes_ "
      ],
      "execution_count": 56,
      "outputs": [
        {
          "output_type": "execute_result",
          "data": {
            "text/plain": [
              "array([0, 1])"
            ]
          },
          "metadata": {
            "tags": []
          },
          "execution_count": 56
        }
      ]
    },
    {
      "cell_type": "code",
      "metadata": {
        "id": "UG66a1VBO08C",
        "colab_type": "code",
        "colab": {
          "base_uri": "https://localhost:8080/",
          "height": 35
        },
        "outputId": "0b08b6ad-b115-46c2-da09-b2405ed1b1b4"
      },
      "source": [
        "mlp.out_activation_ "
      ],
      "execution_count": 57,
      "outputs": [
        {
          "output_type": "execute_result",
          "data": {
            "text/plain": [
              "'logistic'"
            ]
          },
          "metadata": {
            "tags": []
          },
          "execution_count": 57
        }
      ]
    },
    {
      "cell_type": "code",
      "metadata": {
        "id": "JmSRTBYQO08M",
        "colab_type": "code",
        "colab": {
          "base_uri": "https://localhost:8080/",
          "height": 35
        },
        "outputId": "c6a70809-06d6-407a-9520-b70cc242e25b"
      },
      "source": [
        "mlp.loss_ "
      ],
      "execution_count": 58,
      "outputs": [
        {
          "output_type": "execute_result",
          "data": {
            "text/plain": [
              "0.6931568611779436"
            ]
          },
          "metadata": {
            "tags": []
          },
          "execution_count": 58
        }
      ]
    },
    {
      "cell_type": "markdown",
      "metadata": {
        "id": "uziqv_1bO08Q",
        "colab_type": "text"
      },
      "source": [
        "#### Prediction:"
      ]
    },
    {
      "cell_type": "code",
      "metadata": {
        "id": "TGZ6x-DxO08R",
        "colab_type": "code",
        "colab": {}
      },
      "source": [
        "y_pred=mlp.predict(X_testing)  "
      ],
      "execution_count": 59,
      "outputs": []
    },
    {
      "cell_type": "code",
      "metadata": {
        "id": "_jbde7PZO08a",
        "colab_type": "code",
        "colab": {
          "base_uri": "https://localhost:8080/",
          "height": 35
        },
        "outputId": "f80f2548-aaac-4547-d745-162e61d0861e"
      },
      "source": [
        "y_pred"
      ],
      "execution_count": 60,
      "outputs": [
        {
          "output_type": "execute_result",
          "data": {
            "text/plain": [
              "array([1, 0, 1, 1])"
            ]
          },
          "metadata": {
            "tags": []
          },
          "execution_count": 60
        }
      ]
    },
    {
      "cell_type": "code",
      "metadata": {
        "scrolled": false,
        "id": "NmxI9VqaO08g",
        "colab_type": "code",
        "colab": {
          "base_uri": "https://localhost:8080/",
          "height": 35
        },
        "outputId": "9dcd9839-8ade-4e6c-8a10-78dc147a1036"
      },
      "source": [
        "accuracy=metric.accuracy_score(y_training, y_pred)\n",
        "accuracy"
      ],
      "execution_count": 61,
      "outputs": [
        {
          "output_type": "execute_result",
          "data": {
            "text/plain": [
              "0.25"
            ]
          },
          "metadata": {
            "tags": []
          },
          "execution_count": 61
        }
      ]
    },
    {
      "cell_type": "markdown",
      "metadata": {
        "id": "LvcGeo7DO083",
        "colab_type": "text"
      },
      "source": [
        "- Độ chính xác chỉ là 75%"
      ]
    },
    {
      "cell_type": "markdown",
      "metadata": {
        "id": "7DJpm2pxO084",
        "colab_type": "text"
      },
      "source": [
        "#### Thay đổi #Layers và #Neurons để thấy sự thay đổi kết quả"
      ]
    },
    {
      "cell_type": "code",
      "metadata": {
        "id": "zNCubXKsO085",
        "colab_type": "code",
        "colab": {
          "base_uri": "https://localhost:8080/",
          "height": 35
        },
        "outputId": "6a42107d-08d2-43bb-b2b5-93705fddf17a"
      },
      "source": [
        "mlp = MLPClassifier(solver='lbfgs', hidden_layer_sizes=(2,2), activation='logistic')\n",
        "mlp.fit(X_training, y_training)   \n",
        "\n",
        "y_pred=mlp.predict(X_testing)  \n",
        "accuracy=metric.accuracy_score(y_training, y_pred)\n",
        "accuracy"
      ],
      "execution_count": 62,
      "outputs": [
        {
          "output_type": "execute_result",
          "data": {
            "text/plain": [
              "0.5"
            ]
          },
          "metadata": {
            "tags": []
          },
          "execution_count": 62
        }
      ]
    },
    {
      "cell_type": "markdown",
      "metadata": {
        "id": "NJp0FBNVO08_",
        "colab_type": "text"
      },
      "source": [
        "- Độ chính xác bây giờ đã là 100%"
      ]
    },
    {
      "cell_type": "code",
      "metadata": {
        "id": "xlHDmSUXO08_",
        "colab_type": "code",
        "colab": {}
      },
      "source": [
        ""
      ],
      "execution_count": 62,
      "outputs": []
    }
  ]
}