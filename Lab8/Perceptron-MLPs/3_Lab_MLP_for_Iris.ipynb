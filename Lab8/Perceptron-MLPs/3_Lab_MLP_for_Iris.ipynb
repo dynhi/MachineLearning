{
  "nbformat": 4,
  "nbformat_minor": 0,
  "metadata": {
    "kernelspec": {
      "display_name": "Python 3",
      "language": "python",
      "name": "python3"
    },
    "language_info": {
      "codemirror_mode": {
        "name": "ipython",
        "version": 3
      },
      "file_extension": ".py",
      "mimetype": "text/x-python",
      "name": "python",
      "nbconvert_exporter": "python",
      "pygments_lexer": "ipython3",
      "version": "3.6.6"
    },
    "colab": {
      "name": "3-Lab-MLP for Iris.ipynb",
      "provenance": [],
      "include_colab_link": true
    }
  },
  "cells": [
    {
      "cell_type": "markdown",
      "metadata": {
        "id": "view-in-github",
        "colab_type": "text"
      },
      "source": [
        "<a href=\"https://colab.research.google.com/github/dynhi/MachineLearning/blob/master/Lab8/Perceptron-MLPs/3_Lab_MLP_for_Iris.ipynb\" target=\"_parent\"><img src=\"https://colab.research.google.com/assets/colab-badge.svg\" alt=\"Open In Colab\"/></a>"
      ]
    },
    {
      "cell_type": "markdown",
      "metadata": {
        "colab_type": "text",
        "id": "gvKshvFzQorr"
      },
      "source": [
        "# Multilayer Perceptron for Iris dataset"
      ]
    },
    {
      "cell_type": "markdown",
      "metadata": {
        "id": "HSzoXKFeQg0j",
        "colab_type": "text"
      },
      "source": [
        "- Nguyễn Hữu Vũ \n",
        "- Nhóm nghiên cứu về AI đại học Bách Khoa Tp. Hồ Chí Minh"
      ]
    },
    {
      "cell_type": "code",
      "metadata": {
        "id": "Q_QhseBzQg0k",
        "colab_type": "code",
        "colab": {}
      },
      "source": [
        "\n",
        "from sklearn import datasets\n",
        "from sklearn.preprocessing import StandardScaler\n",
        "from sklearn.linear_model import Perceptron\n",
        "from sklearn.model_selection import train_test_split\n",
        "from sklearn.metrics import accuracy_score\n",
        "import numpy as np"
      ],
      "execution_count": 14,
      "outputs": []
    },
    {
      "cell_type": "code",
      "metadata": {
        "id": "RuHGly_KQg0n",
        "colab_type": "code",
        "colab": {}
      },
      "source": [
        "# Load the iris dataset\n",
        "iris = datasets.load_iris()\n",
        "\n",
        "# Create our X and y data\n",
        "X = iris.data\n",
        "y = iris.target"
      ],
      "execution_count": 15,
      "outputs": []
    },
    {
      "cell_type": "markdown",
      "metadata": {
        "id": "sA1hhAnQQg0p",
        "colab_type": "text"
      },
      "source": [
        "## 1) Khám phá dữ liệu"
      ]
    },
    {
      "cell_type": "code",
      "metadata": {
        "id": "lajKvb5sQg0q",
        "colab_type": "code",
        "colab": {
          "base_uri": "https://localhost:8080/",
          "height": 35
        },
        "outputId": "91ef54c0-6822-4249-ebc8-e67b92f16836"
      },
      "source": [
        "X.shape"
      ],
      "execution_count": 16,
      "outputs": [
        {
          "output_type": "execute_result",
          "data": {
            "text/plain": [
              "(150, 4)"
            ]
          },
          "metadata": {
            "tags": []
          },
          "execution_count": 16
        }
      ]
    },
    {
      "cell_type": "code",
      "metadata": {
        "id": "1S9qT52EQg0t",
        "colab_type": "code",
        "colab": {
          "base_uri": "https://localhost:8080/",
          "height": 35
        },
        "outputId": "895dc95a-84af-41f9-a7ca-629de0b3b797"
      },
      "source": [
        "y.shape"
      ],
      "execution_count": 17,
      "outputs": [
        {
          "output_type": "execute_result",
          "data": {
            "text/plain": [
              "(150,)"
            ]
          },
          "metadata": {
            "tags": []
          },
          "execution_count": 17
        }
      ]
    },
    {
      "cell_type": "code",
      "metadata": {
        "id": "7muhBBUgQg0w",
        "colab_type": "code",
        "colab": {
          "base_uri": "https://localhost:8080/",
          "height": 104
        },
        "outputId": "2a0164b9-f37c-4d6e-fbdf-71d528d2b919"
      },
      "source": [
        "X[:5]"
      ],
      "execution_count": 18,
      "outputs": [
        {
          "output_type": "execute_result",
          "data": {
            "text/plain": [
              "array([[5.1, 3.5, 1.4, 0.2],\n",
              "       [4.9, 3. , 1.4, 0.2],\n",
              "       [4.7, 3.2, 1.3, 0.2],\n",
              "       [4.6, 3.1, 1.5, 0.2],\n",
              "       [5. , 3.6, 1.4, 0.2]])"
            ]
          },
          "metadata": {
            "tags": []
          },
          "execution_count": 18
        }
      ]
    },
    {
      "cell_type": "code",
      "metadata": {
        "id": "SuFvqI3HQg0y",
        "colab_type": "code",
        "colab": {
          "base_uri": "https://localhost:8080/",
          "height": 35
        },
        "outputId": "948c6884-665f-49ae-8556-e347600c77e6"
      },
      "source": [
        "# View the first five observations of our y data\n",
        "y[:5]"
      ],
      "execution_count": 19,
      "outputs": [
        {
          "output_type": "execute_result",
          "data": {
            "text/plain": [
              "array([0, 0, 0, 0, 0])"
            ]
          },
          "metadata": {
            "tags": []
          },
          "execution_count": 19
        }
      ]
    },
    {
      "cell_type": "code",
      "metadata": {
        "id": "2juUSHj8Qg00",
        "colab_type": "code",
        "colab": {}
      },
      "source": [
        ""
      ],
      "execution_count": 19,
      "outputs": []
    },
    {
      "cell_type": "code",
      "metadata": {
        "id": "s3rZ-EbyQg03",
        "colab_type": "code",
        "colab": {}
      },
      "source": [
        "# Split the data into 70% training data and 30% test data\n",
        "X_train, X_test, y_train, y_test = train_test_split(X, y, test_size=0.3)"
      ],
      "execution_count": 20,
      "outputs": []
    },
    {
      "cell_type": "code",
      "metadata": {
        "id": "j0HV0AGXQg05",
        "colab_type": "code",
        "colab": {
          "base_uri": "https://localhost:8080/",
          "height": 104
        },
        "outputId": "e6fc2eba-327b-4e15-ad9c-25d945f66616"
      },
      "source": [
        "X_train[:5]"
      ],
      "execution_count": 21,
      "outputs": [
        {
          "output_type": "execute_result",
          "data": {
            "text/plain": [
              "array([[5.4, 3.4, 1.5, 0.4],\n",
              "       [5.7, 2.9, 4.2, 1.3],\n",
              "       [4.9, 3.1, 1.5, 0.1],\n",
              "       [6.4, 2.9, 4.3, 1.3],\n",
              "       [6.2, 3.4, 5.4, 2.3]])"
            ]
          },
          "metadata": {
            "tags": []
          },
          "execution_count": 21
        }
      ]
    },
    {
      "cell_type": "markdown",
      "metadata": {
        "id": "bTH_9Oz5Qg08",
        "colab_type": "text"
      },
      "source": [
        "## 2) Chuẩn bị dữ liệu"
      ]
    },
    {
      "cell_type": "code",
      "metadata": {
        "scrolled": true,
        "id": "-xlrnuM0Qg09",
        "colab_type": "code",
        "colab": {
          "base_uri": "https://localhost:8080/",
          "height": 35
        },
        "outputId": "20757077-9bb8-4eb5-baf5-d35de6ebc91a"
      },
      "source": [
        "# Train the scaler, which standarizes all the features to have mean=0 and unit variance\n",
        "sc = StandardScaler()\n",
        "sc.fit(X_train)"
      ],
      "execution_count": 22,
      "outputs": [
        {
          "output_type": "execute_result",
          "data": {
            "text/plain": [
              "StandardScaler(copy=True, with_mean=True, with_std=True)"
            ]
          },
          "metadata": {
            "tags": []
          },
          "execution_count": 22
        }
      ]
    },
    {
      "cell_type": "code",
      "metadata": {
        "id": "zMr2GZOwQg0_",
        "colab_type": "code",
        "colab": {}
      },
      "source": [
        "# Apply the scaler to the X training data\n",
        "X_train_std = sc.transform(X_train)\n",
        "\n",
        "# Apply the SAME scaler to the X test data\n",
        "X_test_std = sc.transform(X_test)"
      ],
      "execution_count": 23,
      "outputs": []
    },
    {
      "cell_type": "code",
      "metadata": {
        "id": "HeBijl_9Qg1B",
        "colab_type": "code",
        "colab": {
          "base_uri": "https://localhost:8080/",
          "height": 104
        },
        "outputId": "221fa358-c661-43c8-9637-7a52e7c80570"
      },
      "source": [
        "X_train_std[:5]"
      ],
      "execution_count": 24,
      "outputs": [
        {
          "output_type": "execute_result",
          "data": {
            "text/plain": [
              "array([[-0.59550469,  0.83931293, -1.37722739, -1.13099615],\n",
              "       [-0.21731119, -0.31722063,  0.21252817,  0.09749967],\n",
              "       [-1.2258272 ,  0.14539279, -1.37722739, -1.54049476],\n",
              "       [ 0.66514032, -0.31722063,  0.271408  ,  0.09749967],\n",
              "       [ 0.41301132,  0.83931293,  0.9190862 ,  1.46249503]])"
            ]
          },
          "metadata": {
            "tags": []
          },
          "execution_count": 24
        }
      ]
    },
    {
      "cell_type": "code",
      "metadata": {
        "id": "xxpSNYFnQg1D",
        "colab_type": "code",
        "colab": {
          "base_uri": "https://localhost:8080/",
          "height": 104
        },
        "outputId": "44e2cc66-9d6c-4396-b646-cf3f19cc863b"
      },
      "source": [
        "X_test_std[:5]"
      ],
      "execution_count": 25,
      "outputs": [
        {
          "output_type": "execute_result",
          "data": {
            "text/plain": [
              "array([[-1.09976269,  0.83931293, -1.37722739, -1.40399523],\n",
              "       [ 0.66514032,  0.14539279,  0.97796603,  0.77999735],\n",
              "       [ 1.04333382, -0.08591392,  0.80132653,  1.46249503],\n",
              "       [ 2.55610783,  1.76453978,  1.50788455,  1.05299642],\n",
              "       [-1.09976269, -1.70506091, -0.31739035, -0.31199894]])"
            ]
          },
          "metadata": {
            "tags": []
          },
          "execution_count": 25
        }
      ]
    },
    {
      "cell_type": "markdown",
      "metadata": {
        "id": "obmlSZs-Qg1G",
        "colab_type": "text"
      },
      "source": [
        "## 3) Xây dựng model Perceptron"
      ]
    },
    {
      "cell_type": "code",
      "metadata": {
        "id": "bgVYizA2Qg1G",
        "colab_type": "code",
        "colab": {}
      },
      "source": [
        "# Create a perceptron object with the parameters: 40 iterations (epochs) over the data, and a learning rate of 0.1\n",
        "ppn = Perceptron(n_iter_no_change=40, eta0=0.1, random_state=0)\n",
        "# ppn = Perceptron(n_iter=40, eta0=0.1, random_state=0)\n"
      ],
      "execution_count": 26,
      "outputs": []
    },
    {
      "cell_type": "code",
      "metadata": {
        "scrolled": true,
        "id": "eppF4zP5Qg1I",
        "colab_type": "code",
        "colab": {
          "base_uri": "https://localhost:8080/",
          "height": 87
        },
        "outputId": "cacf91fa-02c8-4b84-c4ef-5fbb336405cd"
      },
      "source": [
        "\n",
        "# Train the perceptron\n",
        "ppn.fit(X_train_std, y_train)"
      ],
      "execution_count": 27,
      "outputs": [
        {
          "output_type": "execute_result",
          "data": {
            "text/plain": [
              "Perceptron(alpha=0.0001, class_weight=None, early_stopping=False, eta0=0.1,\n",
              "           fit_intercept=True, max_iter=1000, n_iter_no_change=40, n_jobs=None,\n",
              "           penalty=None, random_state=0, shuffle=True, tol=0.001,\n",
              "           validation_fraction=0.1, verbose=0, warm_start=False)"
            ]
          },
          "metadata": {
            "tags": []
          },
          "execution_count": 27
        }
      ]
    },
    {
      "cell_type": "code",
      "metadata": {
        "id": "Ys5d7-0HQg1L",
        "colab_type": "code",
        "colab": {
          "base_uri": "https://localhost:8080/",
          "height": 35
        },
        "outputId": "02b37951-8822-4302-f273-d2387179b8c5"
      },
      "source": [
        "#The actual number of iterations to reach the stopping criterion. For multiclass fits, it is the maximum over every binary fit.\n",
        "ppn.n_iter_ "
      ],
      "execution_count": 28,
      "outputs": [
        {
          "output_type": "execute_result",
          "data": {
            "text/plain": [
              "52"
            ]
          },
          "metadata": {
            "tags": []
          },
          "execution_count": 28
        }
      ]
    },
    {
      "cell_type": "markdown",
      "metadata": {
        "id": "Iz8qwyVOQg1N",
        "colab_type": "text"
      },
      "source": [
        "##### Prediction"
      ]
    },
    {
      "cell_type": "code",
      "metadata": {
        "scrolled": false,
        "id": "prU79PiPQg1N",
        "colab_type": "code",
        "colab": {
          "base_uri": "https://localhost:8080/",
          "height": 69
        },
        "outputId": "1b588ab9-66e8-40ee-e110-973441311883"
      },
      "source": [
        "# Apply the trained perceptron on the X data to make predicts for the y test data\n",
        "y_pred = ppn.predict(X_test_std)\n",
        "y_pred"
      ],
      "execution_count": 29,
      "outputs": [
        {
          "output_type": "execute_result",
          "data": {
            "text/plain": [
              "array([0, 2, 2, 2, 1, 2, 1, 0, 1, 1, 1, 1, 2, 0, 2, 2, 1, 0, 1, 1, 1, 1,\n",
              "       1, 0, 2, 0, 2, 1, 2, 1, 1, 0, 2, 2, 0, 0, 0, 1, 0, 2, 0, 0, 1, 0,\n",
              "       0])"
            ]
          },
          "metadata": {
            "tags": []
          },
          "execution_count": 29
        }
      ]
    },
    {
      "cell_type": "code",
      "metadata": {
        "id": "CjDshtC0Qg1P",
        "colab_type": "code",
        "colab": {
          "base_uri": "https://localhost:8080/",
          "height": 35
        },
        "outputId": "2148cab9-e89d-46a9-c1a1-40009d3690db"
      },
      "source": [
        "# View the accuracy of the model, which is: 1 - (observations predicted wrong / total observations)\n",
        "print('Accuracy: %.2f' % accuracy_score(y_test, y_pred))"
      ],
      "execution_count": 30,
      "outputs": [
        {
          "output_type": "stream",
          "text": [
            "Accuracy: 0.91\n"
          ],
          "name": "stdout"
        }
      ]
    },
    {
      "cell_type": "markdown",
      "metadata": {
        "id": "6YuF8TG0Qg1R",
        "colab_type": "text"
      },
      "source": [
        "## 4) Xây dựng model MLPClassifier"
      ]
    },
    {
      "cell_type": "code",
      "metadata": {
        "id": "GxJQEYWrQg1S",
        "colab_type": "code",
        "colab": {}
      },
      "source": [
        "from sklearn.neural_network import MLPClassifier\n",
        "\n",
        "clf = MLPClassifier(hidden_layer_sizes=(8,5 ), activation='tanh', solver='sgd', \n",
        "                    alpha=0.0000001, batch_size=4, learning_rate='constant', learning_rate_init=0.005, \n",
        "                    power_t=0.5, max_iter=500, shuffle=True, random_state=11, tol=0.00001, \n",
        "                    verbose=True, warm_start=False, momentum=0.8, nesterovs_momentum=True, \n",
        "                    early_stopping=False, validation_fraction=0.2, \n",
        "                    beta_1=0.9, beta_2=0.999, epsilon=1e-08)\n"
      ],
      "execution_count": 31,
      "outputs": []
    },
    {
      "cell_type": "code",
      "metadata": {
        "scrolled": false,
        "id": "8Gh9E_aCQg1U",
        "colab_type": "code",
        "colab": {
          "base_uri": "https://localhost:8080/",
          "height": 1000
        },
        "outputId": "7e2adfb5-6c57-41ff-a370-f1a85a056247"
      },
      "source": [
        "\n",
        "# Train the perceptron\n",
        "clf.fit(X_train_std, y_train)"
      ],
      "execution_count": 32,
      "outputs": [
        {
          "output_type": "stream",
          "text": [
            "Iteration 1, loss = 1.04823089\n",
            "Iteration 2, loss = 0.87103714\n",
            "Iteration 3, loss = 0.75660196\n",
            "Iteration 4, loss = 0.67071165\n",
            "Iteration 5, loss = 0.60737106\n",
            "Iteration 6, loss = 0.55483989\n",
            "Iteration 7, loss = 0.51651946\n",
            "Iteration 8, loss = 0.48657520\n",
            "Iteration 9, loss = 0.45887541\n",
            "Iteration 10, loss = 0.43603916\n",
            "Iteration 11, loss = 0.41005798\n",
            "Iteration 12, loss = 0.38937791\n",
            "Iteration 13, loss = 0.36634700\n",
            "Iteration 14, loss = 0.34400702\n",
            "Iteration 15, loss = 0.32439396\n",
            "Iteration 16, loss = 0.30519736\n",
            "Iteration 17, loss = 0.28600317\n",
            "Iteration 18, loss = 0.26771533\n",
            "Iteration 19, loss = 0.25043015\n",
            "Iteration 20, loss = 0.23622897\n",
            "Iteration 21, loss = 0.22247862\n",
            "Iteration 22, loss = 0.21182291\n",
            "Iteration 23, loss = 0.20044989\n",
            "Iteration 24, loss = 0.19144075\n",
            "Iteration 25, loss = 0.18451245\n",
            "Iteration 26, loss = 0.17356205\n",
            "Iteration 27, loss = 0.16659779\n",
            "Iteration 28, loss = 0.16103595\n",
            "Iteration 29, loss = 0.15559030\n",
            "Iteration 30, loss = 0.15173434\n",
            "Iteration 31, loss = 0.14628540\n",
            "Iteration 32, loss = 0.14248704\n",
            "Iteration 33, loss = 0.13947408\n",
            "Iteration 34, loss = 0.13522147\n",
            "Iteration 35, loss = 0.13226190\n",
            "Iteration 36, loss = 0.13147316\n",
            "Iteration 37, loss = 0.12579111\n",
            "Iteration 38, loss = 0.12387776\n",
            "Iteration 39, loss = 0.12233290\n",
            "Iteration 40, loss = 0.12204371\n",
            "Iteration 41, loss = 0.11821020\n",
            "Iteration 42, loss = 0.11610323\n",
            "Iteration 43, loss = 0.11279683\n",
            "Iteration 44, loss = 0.11506132\n",
            "Iteration 45, loss = 0.10935628\n",
            "Iteration 46, loss = 0.10808816\n",
            "Iteration 47, loss = 0.10934701\n",
            "Iteration 48, loss = 0.10793157\n",
            "Iteration 49, loss = 0.10814513\n",
            "Iteration 50, loss = 0.10340752\n",
            "Iteration 51, loss = 0.10758021\n",
            "Iteration 52, loss = 0.10125797\n",
            "Iteration 53, loss = 0.09843238\n",
            "Iteration 54, loss = 0.09741724\n",
            "Iteration 55, loss = 0.09828741\n",
            "Iteration 56, loss = 0.09646352\n",
            "Iteration 57, loss = 0.09513433\n",
            "Iteration 58, loss = 0.09911474\n",
            "Iteration 59, loss = 0.09330949\n",
            "Iteration 60, loss = 0.09150130\n",
            "Iteration 61, loss = 0.09061948\n",
            "Iteration 62, loss = 0.09034244\n",
            "Iteration 63, loss = 0.09098188\n",
            "Iteration 64, loss = 0.08833939\n",
            "Iteration 65, loss = 0.08763939\n",
            "Iteration 66, loss = 0.08888087\n",
            "Iteration 67, loss = 0.09373924\n",
            "Iteration 68, loss = 0.09014698\n",
            "Iteration 69, loss = 0.08631927\n",
            "Iteration 70, loss = 0.08825376\n",
            "Iteration 71, loss = 0.08607811\n",
            "Iteration 72, loss = 0.08315982\n",
            "Iteration 73, loss = 0.08830628\n",
            "Iteration 74, loss = 0.08523312\n",
            "Iteration 75, loss = 0.08597977\n",
            "Iteration 76, loss = 0.08384128\n",
            "Iteration 77, loss = 0.08372629\n",
            "Iteration 78, loss = 0.08428132\n",
            "Iteration 79, loss = 0.08081577\n",
            "Iteration 80, loss = 0.08226788\n",
            "Iteration 81, loss = 0.08439167\n",
            "Iteration 82, loss = 0.08076808\n",
            "Iteration 83, loss = 0.08257059\n",
            "Iteration 84, loss = 0.07747078\n",
            "Iteration 85, loss = 0.07853473\n",
            "Iteration 86, loss = 0.08078439\n",
            "Iteration 87, loss = 0.07843607\n",
            "Iteration 88, loss = 0.07796982\n",
            "Iteration 89, loss = 0.08283792\n",
            "Iteration 90, loss = 0.08082058\n",
            "Iteration 91, loss = 0.08053797\n",
            "Iteration 92, loss = 0.07895911\n",
            "Iteration 93, loss = 0.07622541\n",
            "Iteration 94, loss = 0.07505437\n",
            "Iteration 95, loss = 0.08059898\n",
            "Iteration 96, loss = 0.07593712\n",
            "Iteration 97, loss = 0.07811998\n",
            "Iteration 98, loss = 0.07405739\n",
            "Iteration 99, loss = 0.07839596\n",
            "Iteration 100, loss = 0.07288417\n",
            "Iteration 101, loss = 0.07268088\n",
            "Iteration 102, loss = 0.07441988\n",
            "Iteration 103, loss = 0.07704385\n",
            "Iteration 104, loss = 0.07444412\n",
            "Iteration 105, loss = 0.07422160\n",
            "Iteration 106, loss = 0.07742762\n",
            "Iteration 107, loss = 0.07301559\n",
            "Iteration 108, loss = 0.07800482\n",
            "Iteration 109, loss = 0.08334275\n",
            "Iteration 110, loss = 0.07430030\n",
            "Iteration 111, loss = 0.07147061\n",
            "Iteration 112, loss = 0.07058443\n",
            "Iteration 113, loss = 0.07730560\n",
            "Iteration 114, loss = 0.06971496\n",
            "Iteration 115, loss = 0.06970026\n",
            "Iteration 116, loss = 0.07221850\n",
            "Iteration 117, loss = 0.07293640\n",
            "Iteration 118, loss = 0.07159338\n",
            "Iteration 119, loss = 0.06822501\n",
            "Iteration 120, loss = 0.06986091\n",
            "Iteration 121, loss = 0.07430331\n",
            "Iteration 122, loss = 0.07209824\n",
            "Iteration 123, loss = 0.06810910\n",
            "Iteration 124, loss = 0.07128326\n",
            "Iteration 125, loss = 0.07156857\n",
            "Iteration 126, loss = 0.06995614\n",
            "Iteration 127, loss = 0.07271191\n",
            "Iteration 128, loss = 0.07456183\n",
            "Iteration 129, loss = 0.07179823\n",
            "Iteration 130, loss = 0.06899512\n",
            "Iteration 131, loss = 0.07046152\n",
            "Iteration 132, loss = 0.06738034\n",
            "Iteration 133, loss = 0.09509925\n",
            "Iteration 134, loss = 0.07429920\n",
            "Iteration 135, loss = 0.06998626\n",
            "Iteration 136, loss = 0.06707369\n",
            "Iteration 137, loss = 0.06695443\n",
            "Iteration 138, loss = 0.07048763\n",
            "Iteration 139, loss = 0.07059222\n",
            "Iteration 140, loss = 0.07726062\n",
            "Iteration 141, loss = 0.06849379\n",
            "Iteration 142, loss = 0.07059553\n",
            "Iteration 143, loss = 0.07347305\n",
            "Iteration 144, loss = 0.06880466\n",
            "Iteration 145, loss = 0.06952095\n",
            "Iteration 146, loss = 0.06754977\n",
            "Iteration 147, loss = 0.06727109\n",
            "Iteration 148, loss = 0.06684341\n",
            "Iteration 149, loss = 0.07017415\n",
            "Iteration 150, loss = 0.07224423\n",
            "Iteration 151, loss = 0.07157467\n",
            "Iteration 152, loss = 0.06728857\n",
            "Iteration 153, loss = 0.09140963\n",
            "Iteration 154, loss = 0.06849539\n",
            "Iteration 155, loss = 0.07056770\n",
            "Iteration 156, loss = 0.06484648\n",
            "Iteration 157, loss = 0.07043165\n",
            "Iteration 158, loss = 0.06570839\n",
            "Iteration 159, loss = 0.06591722\n",
            "Iteration 160, loss = 0.07575271\n",
            "Iteration 161, loss = 0.06536793\n",
            "Iteration 162, loss = 0.06453114\n",
            "Iteration 163, loss = 0.06747578\n",
            "Iteration 164, loss = 0.06346758\n",
            "Iteration 165, loss = 0.06629276\n",
            "Iteration 166, loss = 0.06957675\n",
            "Iteration 167, loss = 0.07116731\n",
            "Iteration 168, loss = 0.06608507\n",
            "Iteration 169, loss = 0.07311730\n",
            "Iteration 170, loss = 0.08787823\n",
            "Iteration 171, loss = 0.06523035\n",
            "Iteration 172, loss = 0.06923538\n",
            "Iteration 173, loss = 0.06480855\n",
            "Iteration 174, loss = 0.06475047\n",
            "Iteration 175, loss = 0.06181541\n",
            "Iteration 176, loss = 0.06594110\n",
            "Iteration 177, loss = 0.06961572\n",
            "Iteration 178, loss = 0.06461850\n",
            "Iteration 179, loss = 0.06937699\n",
            "Iteration 180, loss = 0.06993540\n",
            "Iteration 181, loss = 0.06794358\n",
            "Iteration 182, loss = 0.06632193\n",
            "Iteration 183, loss = 0.06488546\n",
            "Iteration 184, loss = 0.06683867\n",
            "Iteration 185, loss = 0.06407903\n",
            "Iteration 186, loss = 0.06506378\n",
            "Training loss did not improve more than tol=0.000010 for 10 consecutive epochs. Stopping.\n"
          ],
          "name": "stdout"
        },
        {
          "output_type": "execute_result",
          "data": {
            "text/plain": [
              "MLPClassifier(activation='tanh', alpha=1e-07, batch_size=4, beta_1=0.9,\n",
              "              beta_2=0.999, early_stopping=False, epsilon=1e-08,\n",
              "              hidden_layer_sizes=(8, 5), learning_rate='constant',\n",
              "              learning_rate_init=0.005, max_fun=15000, max_iter=500,\n",
              "              momentum=0.8, n_iter_no_change=10, nesterovs_momentum=True,\n",
              "              power_t=0.5, random_state=11, shuffle=True, solver='sgd',\n",
              "              tol=1e-05, validation_fraction=0.2, verbose=True,\n",
              "              warm_start=False)"
            ]
          },
          "metadata": {
            "tags": []
          },
          "execution_count": 32
        }
      ]
    },
    {
      "cell_type": "code",
      "metadata": {
        "id": "GWS4NtF7Qg1W",
        "colab_type": "code",
        "colab": {
          "base_uri": "https://localhost:8080/",
          "height": 35
        },
        "outputId": "93b3bfe2-f6d7-42f8-9da1-f87b360e499d"
      },
      "source": [
        "clf.classes_ "
      ],
      "execution_count": 33,
      "outputs": [
        {
          "output_type": "execute_result",
          "data": {
            "text/plain": [
              "array([0, 1, 2])"
            ]
          },
          "metadata": {
            "tags": []
          },
          "execution_count": 33
        }
      ]
    },
    {
      "cell_type": "code",
      "metadata": {
        "id": "_Eqkf3CHQg1Y",
        "colab_type": "code",
        "colab": {
          "base_uri": "https://localhost:8080/",
          "height": 35
        },
        "outputId": "8264a09d-afd9-4894-f5ff-34deb5cdaf2c"
      },
      "source": [
        "clf.n_layers_ "
      ],
      "execution_count": 34,
      "outputs": [
        {
          "output_type": "execute_result",
          "data": {
            "text/plain": [
              "4"
            ]
          },
          "metadata": {
            "tags": []
          },
          "execution_count": 34
        }
      ]
    },
    {
      "cell_type": "code",
      "metadata": {
        "id": "JOF8kxNfQg1c",
        "colab_type": "code",
        "colab": {
          "base_uri": "https://localhost:8080/",
          "height": 35
        },
        "outputId": "bab18e21-880b-4592-8b15-0dfa584594b8"
      },
      "source": [
        "clf.n_outputs_ "
      ],
      "execution_count": 35,
      "outputs": [
        {
          "output_type": "execute_result",
          "data": {
            "text/plain": [
              "3"
            ]
          },
          "metadata": {
            "tags": []
          },
          "execution_count": 35
        }
      ]
    },
    {
      "cell_type": "code",
      "metadata": {
        "id": "WfCgTH-MQg1e",
        "colab_type": "code",
        "colab": {
          "base_uri": "https://localhost:8080/",
          "height": 35
        },
        "outputId": "0eeab90b-3649-427f-e439-ed9f27ebb537"
      },
      "source": [
        "clf.out_activation_ "
      ],
      "execution_count": 36,
      "outputs": [
        {
          "output_type": "execute_result",
          "data": {
            "text/plain": [
              "'softmax'"
            ]
          },
          "metadata": {
            "tags": []
          },
          "execution_count": 36
        }
      ]
    },
    {
      "cell_type": "markdown",
      "metadata": {
        "id": "cKAU136jQg1g",
        "colab_type": "text"
      },
      "source": [
        "- 1 input, 2 hidden, 1 ouput: => 4\n",
        "- Thông thường trong Neural Networks, sẽ ko tính input layers, nên  trong Neural Networks, trường hợp này số Layers sẽ là 3"
      ]
    },
    {
      "cell_type": "code",
      "metadata": {
        "id": "5DcyPnNyQg1g",
        "colab_type": "code",
        "colab": {
          "base_uri": "https://localhost:8080/",
          "height": 35
        },
        "outputId": "192c10a3-f7c8-445f-8aba-5880c50ae409"
      },
      "source": [
        "# Evaluate acuracy on test data\n",
        "score = clf.score(X_test_std,y_test)\n",
        "print(\"Acuracy (on test set) = \", score)"
      ],
      "execution_count": 37,
      "outputs": [
        {
          "output_type": "stream",
          "text": [
            "Acuracy (on test set) =  1.0\n"
          ],
          "name": "stdout"
        }
      ]
    },
    {
      "cell_type": "markdown",
      "metadata": {
        "id": "xLZRs6lhQg1j",
        "colab_type": "text"
      },
      "source": [
        "- Ta thấy chỉ cần tăng #Layers, #Units độ chính xác sẽ tăng cao"
      ]
    },
    {
      "cell_type": "code",
      "metadata": {
        "id": "mlekMwr0Qg1j",
        "colab_type": "code",
        "colab": {}
      },
      "source": [
        ""
      ],
      "execution_count": 37,
      "outputs": []
    }
  ]
}